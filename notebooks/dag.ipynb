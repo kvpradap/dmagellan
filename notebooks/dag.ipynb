{
 "cells": [
  {
   "cell_type": "code",
   "execution_count": 1,
   "metadata": {
    "collapsed": true
   },
   "outputs": [],
   "source": [
    "import sys\n",
    "sys.path.append('/Users/pradap/Documents/Research/Python-Package/scaling/dmagellan/')"
   ]
  },
  {
   "cell_type": "code",
   "execution_count": 2,
   "metadata": {
    "collapsed": true
   },
   "outputs": [],
   "source": [
    "import os\n",
    "\n",
    "import pandas as pd\n",
    "import dask\n",
    "\n",
    "# from dmagellan.blocker.attrequivalence.attr_equiv_blocker import AttrEquivalenceBlocker\n",
    "\n",
    "datapath = \"../datasets/\"\n",
    "A = pd.read_csv(os.path.join(datapath, 'person_table_A.csv'), low_memory=False)\n",
    "B = pd.read_csv(os.path.join(datapath, 'person_table_B.csv'), low_memory=False)\n"
   ]
  },
  {
   "cell_type": "code",
   "execution_count": 3,
   "metadata": {},
   "outputs": [],
   "source": [
    "from dmagellan.feature.autofeaturegen import get_features_for_blocking\n",
    "from dmagellan.blocker.rulebased.rule_based_blocker import RuleBasedBlocker"
   ]
  },
  {
   "cell_type": "code",
   "execution_count": 4,
   "metadata": {
    "collapsed": true
   },
   "outputs": [],
   "source": [
    "block_f = get_features_for_blocking(A, B)"
   ]
  },
  {
   "cell_type": "code",
   "execution_count": null,
   "metadata": {},
   "outputs": [],
   "source": []
  },
  {
   "cell_type": "code",
   "execution_count": 11,
   "metadata": {},
   "outputs": [
    {
     "data": {
      "text/plain": [
       "Delayed('add_id-d6121c85-ba11-48ca-a63a-977ec846364a')"
      ]
     },
     "execution_count": 11,
     "metadata": {},
     "output_type": "execute_result"
    }
   ],
   "source": [
    "rb = RuleBasedBlocker()\n",
    "# Add rule : block tuples if name_name_lev(ltuple, rtuple) < 0.4\n",
    "rb.add_rule(['name_name_lev_sim(ltuple, rtuple) < 0.4'], block_f)\n",
    "rb.set_table_attrs(ltable_attrs=['name'], rtable_attrs=['name'])\n",
    "C = rb.block_tables(A, B, 'ID', 'ID', l_output_attrs=['name', 'address', 'birth_year'], \n",
    "                    r_output_attrs=['name', 'address', 'birth_year'], \n",
    "                   nltable_chunks=2, nrtable_chunks=2, compute=False)\n",
    "C"
   ]
  },
  {
   "cell_type": "code",
   "execution_count": 12,
   "metadata": {},
   "outputs": [
    {
     "name": "stdout",
     "output_type": "stream",
     "text": [
      "[########################################] | 100% Completed |  0.2s\n"
     ]
    }
   ],
   "source": [
    "rb = RuleBasedBlocker()\n",
    "rb.add_rule(['birth_year_birth_year_exm(ltuple, rtuple) == 0'], block_f)\n",
    "rb.set_table_attrs(ltable_attrs=['birth_year'], rtable_attrs=['birth_year'])\n",
    "D = rb.block_candset(C, A, B, 'l_ID', 'r_ID', 'ID', 'ID', nchunks=4, show_progress=True, compute=True)"
   ]
  },
  {
   "cell_type": "code",
   "execution_count": 13,
   "metadata": {},
   "outputs": [
    {
     "data": {
      "text/html": [
       "<div>\n",
       "<table border=\"1\" class=\"dataframe\">\n",
       "  <thead>\n",
       "    <tr style=\"text-align: right;\">\n",
       "      <th></th>\n",
       "      <th>_id</th>\n",
       "      <th>l_ID</th>\n",
       "      <th>r_ID</th>\n",
       "      <th>l_name</th>\n",
       "      <th>l_address</th>\n",
       "      <th>l_birth_year</th>\n",
       "      <th>r_name</th>\n",
       "      <th>r_address</th>\n",
       "      <th>r_birth_year</th>\n",
       "    </tr>\n",
       "  </thead>\n",
       "  <tbody>\n",
       "    <tr>\n",
       "      <th>0</th>\n",
       "      <td>0</td>\n",
       "      <td>1</td>\n",
       "      <td>2</td>\n",
       "      <td>Michael Franklin</td>\n",
       "      <td>1652 Stockton St, San Francisco</td>\n",
       "      <td>1988</td>\n",
       "      <td>Mike Franklin</td>\n",
       "      <td>1652 Stockton St, San Francisco</td>\n",
       "      <td>1988</td>\n",
       "    </tr>\n",
       "    <tr>\n",
       "      <th>1</th>\n",
       "      <td>1</td>\n",
       "      <td>2</td>\n",
       "      <td>1</td>\n",
       "      <td>William Bridge</td>\n",
       "      <td>3131 Webster St, San Francisco</td>\n",
       "      <td>1986</td>\n",
       "      <td>Bill Bridge</td>\n",
       "      <td>3131 Webster St, San Francisco</td>\n",
       "      <td>1986</td>\n",
       "    </tr>\n",
       "    <tr>\n",
       "      <th>2</th>\n",
       "      <td>2</td>\n",
       "      <td>1</td>\n",
       "      <td>2</td>\n",
       "      <td>Michael Franklin</td>\n",
       "      <td>1652 Stockton St, San Francisco</td>\n",
       "      <td>1988</td>\n",
       "      <td>Mike Franklin</td>\n",
       "      <td>1652 Stockton St, San Francisco</td>\n",
       "      <td>1988</td>\n",
       "    </tr>\n",
       "    <tr>\n",
       "      <th>3</th>\n",
       "      <td>3</td>\n",
       "      <td>2</td>\n",
       "      <td>1</td>\n",
       "      <td>William Bridge</td>\n",
       "      <td>3131 Webster St, San Francisco</td>\n",
       "      <td>1986</td>\n",
       "      <td>Bill Bridge</td>\n",
       "      <td>3131 Webster St, San Francisco</td>\n",
       "      <td>1986</td>\n",
       "    </tr>\n",
       "    <tr>\n",
       "      <th>4</th>\n",
       "      <td>4</td>\n",
       "      <td>4</td>\n",
       "      <td>4</td>\n",
       "      <td>Alphonse Kemper</td>\n",
       "      <td>1702 Post Street, San Francisco</td>\n",
       "      <td>1984</td>\n",
       "      <td>Alfons Kemper</td>\n",
       "      <td>170 Post St, Apt 4,  San Francisco</td>\n",
       "      <td>1984</td>\n",
       "    </tr>\n",
       "    <tr>\n",
       "      <th>5</th>\n",
       "      <td>5</td>\n",
       "      <td>4</td>\n",
       "      <td>4</td>\n",
       "      <td>Alphonse Kemper</td>\n",
       "      <td>1702 Post Street, San Francisco</td>\n",
       "      <td>1984</td>\n",
       "      <td>Alfons Kemper</td>\n",
       "      <td>170 Post St, Apt 4,  San Francisco</td>\n",
       "      <td>1984</td>\n",
       "    </tr>\n",
       "  </tbody>\n",
       "</table>\n",
       "</div>"
      ],
      "text/plain": [
       "   _id  l_ID  r_ID            l_name                        l_address  \\\n",
       "0    0     1     2  Michael Franklin  1652 Stockton St, San Francisco   \n",
       "1    1     2     1    William Bridge   3131 Webster St, San Francisco   \n",
       "2    2     1     2  Michael Franklin  1652 Stockton St, San Francisco   \n",
       "3    3     2     1    William Bridge   3131 Webster St, San Francisco   \n",
       "4    4     4     4   Alphonse Kemper  1702 Post Street, San Francisco   \n",
       "5    5     4     4   Alphonse Kemper  1702 Post Street, San Francisco   \n",
       "\n",
       "   l_birth_year         r_name                           r_address  \\\n",
       "0          1988  Mike Franklin     1652 Stockton St, San Francisco   \n",
       "1          1986    Bill Bridge      3131 Webster St, San Francisco   \n",
       "2          1988  Mike Franklin     1652 Stockton St, San Francisco   \n",
       "3          1986    Bill Bridge      3131 Webster St, San Francisco   \n",
       "4          1984  Alfons Kemper  170 Post St, Apt 4,  San Francisco   \n",
       "5          1984  Alfons Kemper  170 Post St, Apt 4,  San Francisco   \n",
       "\n",
       "   r_birth_year  \n",
       "0          1988  \n",
       "1          1986  \n",
       "2          1988  \n",
       "3          1986  \n",
       "4          1984  \n",
       "5          1984  "
      ]
     },
     "execution_count": 13,
     "metadata": {},
     "output_type": "execute_result"
    }
   ],
   "source": [
    "D"
   ]
  }
 ],
 "metadata": {
  "kernelspec": {
   "display_name": "Python 2",
   "language": "python",
   "name": "python2"
  },
  "language_info": {
   "codemirror_mode": {
    "name": "ipython",
    "version": 2
   },
   "file_extension": ".py",
   "mimetype": "text/x-python",
   "name": "python",
   "nbconvert_exporter": "python",
   "pygments_lexer": "ipython2",
   "version": "2.7.13"
  }
 },
 "nbformat": 4,
 "nbformat_minor": 2
}
