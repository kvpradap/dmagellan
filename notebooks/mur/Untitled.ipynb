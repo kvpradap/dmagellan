{
 "cells": [
  {
   "cell_type": "code",
   "execution_count": 1,
   "metadata": {
    "collapsed": true
   },
   "outputs": [],
   "source": [
    "import dmagellan"
   ]
  },
  {
   "cell_type": "code",
   "execution_count": 2,
   "metadata": {
    "collapsed": true
   },
   "outputs": [],
   "source": [
    "from dmagellan.sampler.downsample.downsample import downsample_dk"
   ]
  },
  {
   "cell_type": "code",
   "execution_count": 3,
   "metadata": {},
   "outputs": [
    {
     "name": "stdout",
     "output_type": "stream",
     "text": [
      "Help on function downsample_dk in module dmagellan.sampler.downsample.downsample:\n",
      "\n",
      "downsample_dk(ltable, rtable, lid, rid, size, y, lstopwords=[], rstopwords=[], nlchunks=1, nrchunks=1, scheduler=<function get>, compute=True)\n",
      "    #### dask ########### ####\n",
      "\n"
     ]
    }
   ],
   "source": [
    "help(downsample_dk)"
   ]
  },
  {
   "cell_type": "code",
   "execution_count": 9,
   "metadata": {
    "collapsed": true
   },
   "outputs": [],
   "source": [
    "import pandas as pd\n",
    "from collections import Counter"
   ]
  },
  {
   "cell_type": "code",
   "execution_count": 3,
   "metadata": {},
   "outputs": [],
   "source": [
    "A = pd.read_csv('../../datasets/sample_dblp_100k.csv')"
   ]
  },
  {
   "cell_type": "code",
   "execution_count": 3,
   "metadata": {
    "collapsed": true
   },
   "outputs": [],
   "source": []
  },
  {
   "cell_type": "code",
   "execution_count": 4,
   "metadata": {
    "collapsed": true
   },
   "outputs": [],
   "source": [
    "a = 'abc def abc'\n",
    "b = 'xyz abc ghi'"
   ]
  },
  {
   "cell_type": "code",
   "execution_count": 5,
   "metadata": {
    "collapsed": true
   },
   "outputs": [],
   "source": [
    "c = Counter()"
   ]
  },
  {
   "cell_type": "code",
   "execution_count": 6,
   "metadata": {
    "collapsed": true
   },
   "outputs": [],
   "source": [
    "c.update(a.split())"
   ]
  },
  {
   "cell_type": "code",
   "execution_count": 7,
   "metadata": {
    "collapsed": true
   },
   "outputs": [],
   "source": [
    "c.update(b.split())"
   ]
  },
  {
   "cell_type": "code",
   "execution_count": 8,
   "metadata": {},
   "outputs": [
    {
     "data": {
      "text/plain": [
       "Counter({'abc': 3, 'def': 1, 'ghi': 1, 'xyz': 1})"
      ]
     },
     "execution_count": 8,
     "metadata": {},
     "output_type": "execute_result"
    }
   ],
   "source": [
    "c"
   ]
  },
  {
   "cell_type": "code",
   "execution_count": 16,
   "metadata": {
    "collapsed": true
   },
   "outputs": [],
   "source": [
    "import string\n",
    "def get_str_cols(dataframe):\n",
    "    return dataframe.columns[dataframe.dtypes == 'object']\n",
    "\n",
    "def str2bytes(x):\n",
    "    if isinstance(x, bytes):\n",
    "        return x\n",
    "    else:\n",
    "        return x.encode('utf-8')\n",
    "def preprocess_table(dataframe, idcol):\n",
    "    strcols = list(get_str_cols(dataframe))\n",
    "    strcols.append(idcol)\n",
    "    projdf = dataframe[strcols]\n",
    "    c = Counter()\n",
    "    for row in projdf.itertuples():\n",
    "        colvalues = row[1:-1]\n",
    "        uid = row[-1]\n",
    "        strings = [colvalue.strip() for colvalue in colvalues if not pd.isnull(colvalue)]\n",
    "        concat_row = str2bytes(' '.join(strings).lower())\n",
    "        concat_row = concat_row.translate(None, string.punctuation)\n",
    "        c.update(concat_row.split())\n",
    "#         objsc.push_back(uid, concat_row)\n",
    "    return c\n"
   ]
  },
  {
   "cell_type": "code",
   "execution_count": 17,
   "metadata": {},
   "outputs": [],
   "source": [
    "x = preprocess_table(A, 'id')"
   ]
  },
  {
   "cell_type": "code",
   "execution_count": 34,
   "metadata": {},
   "outputs": [],
   "source": [
    "y = pd.DataFrame(x.items(), columns=['word', 'frequency'])"
   ]
  },
  {
   "cell_type": "code",
   "execution_count": 57,
   "metadata": {
    "collapsed": true
   },
   "outputs": [],
   "source": [
    "import math"
   ]
  },
  {
   "cell_type": "code",
   "execution_count": 62,
   "metadata": {},
   "outputs": [],
   "source": [
    "y['perc'] = y['frequency']*100.0/len(x)\n"
   ]
  },
  {
   "cell_type": "code",
   "execution_count": 70,
   "metadata": {},
   "outputs": [
    {
     "data": {
      "text/plain": [
       "['u',\n",
       " 'n',\n",
       " '9',\n",
       " 'g',\n",
       " '2',\n",
       " 'y',\n",
       " 'r',\n",
       " 'k',\n",
       " 'd',\n",
       " '7',\n",
       " 'v',\n",
       " 'o',\n",
       " 'h',\n",
       " 'a',\n",
       " 'z',\n",
       " 's',\n",
       " 'l',\n",
       " 'e',\n",
       " '0',\n",
       " 'w',\n",
       " 'p',\n",
       " 'i',\n",
       " '4',\n",
       " 'b',\n",
       " '3',\n",
       " 't',\n",
       " 'j',\n",
       " 'm',\n",
       " '8',\n",
       " 'f',\n",
       " '1',\n",
       " 'x',\n",
       " 'q',\n",
       " '6',\n",
       " '5',\n",
       " 'c',\n",
       " 'in',\n",
       " 'of',\n",
       " 'a',\n",
       " 'for',\n",
       " 'and',\n",
       " 'j',\n",
       " 'm',\n",
       " 'the']"
      ]
     },
     "execution_count": 70,
     "metadata": {},
     "output_type": "execute_result"
    }
   ],
   "source": [
    "xx = list(y[y.word.str.len() == 1].word.values) + list(y[y['perc'] > 5].word.values)"
   ]
  },
  {
   "cell_type": "code",
   "execution_count": 68,
   "metadata": {},
   "outputs": [
    {
     "data": {
      "text/plain": [
       "['u',\n",
       " 'n',\n",
       " '9',\n",
       " 'g',\n",
       " '2',\n",
       " 'y',\n",
       " 'r',\n",
       " 'k',\n",
       " 'd',\n",
       " '7',\n",
       " 'v',\n",
       " 'o',\n",
       " 'h',\n",
       " 'a',\n",
       " 'z',\n",
       " 's',\n",
       " 'l',\n",
       " 'e',\n",
       " '0',\n",
       " 'w',\n",
       " 'p',\n",
       " 'i',\n",
       " '4',\n",
       " 'b',\n",
       " '3',\n",
       " 't',\n",
       " 'j',\n",
       " 'm',\n",
       " '8',\n",
       " 'f',\n",
       " '1',\n",
       " 'x',\n",
       " 'q',\n",
       " '6',\n",
       " '5',\n",
       " 'c',\n",
       " 'with',\n",
       " 'g',\n",
       " 'an',\n",
       " 'in',\n",
       " 'r',\n",
       " 'on',\n",
       " 'of',\n",
       " 'k',\n",
       " 'd',\n",
       " 'h',\n",
       " 'a',\n",
       " 's',\n",
       " 'l',\n",
       " 'john',\n",
       " 'using',\n",
       " 'systems',\n",
       " 'e',\n",
       " 'michael',\n",
       " 'for',\n",
       " 'w',\n",
       " 'david',\n",
       " 'p',\n",
       " 'b',\n",
       " 'and',\n",
       " 'to',\n",
       " 't',\n",
       " 'j',\n",
       " 'm',\n",
       " 'f',\n",
       " '1',\n",
       " 'by',\n",
       " 'abstract',\n",
       " 'the',\n",
       " 'c',\n",
       " 'analysis']"
      ]
     },
     "execution_count": 68,
     "metadata": {},
     "output_type": "execute_result"
    }
   ],
   "source": [
    "xx"
   ]
  },
  {
   "cell_type": "code",
   "execution_count": 19,
   "metadata": {},
   "outputs": [
    {
     "data": {
      "text/plain": [
       "1533927"
      ]
     },
     "execution_count": 19,
     "metadata": {},
     "output_type": "execute_result"
    }
   ],
   "source": [
    "sum(x.values())"
   ]
  }
 ],
 "metadata": {
  "kernelspec": {
   "display_name": "Python 2",
   "language": "python",
   "name": "python2"
  },
  "language_info": {
   "codemirror_mode": {
    "name": "ipython",
    "version": 2
   },
   "file_extension": ".py",
   "mimetype": "text/x-python",
   "name": "python",
   "nbconvert_exporter": "python",
   "pygments_lexer": "ipython2",
   "version": "2.7.13"
  }
 },
 "nbformat": 4,
 "nbformat_minor": 2
}
