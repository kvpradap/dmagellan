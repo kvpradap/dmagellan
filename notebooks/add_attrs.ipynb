{
 "cells": [
  {
   "cell_type": "code",
   "execution_count": 1,
   "metadata": {
    "collapsed": true
   },
   "outputs": [],
   "source": [
    "import pandas as pd"
   ]
  },
  {
   "cell_type": "code",
   "execution_count": 2,
   "metadata": {
    "collapsed": true
   },
   "outputs": [],
   "source": [
    "A = pd.read_csv('../datasets/person_table_A.csv')\n",
    "B = pd.read_csv('../datasets/person_table_B.csv')"
   ]
  },
  {
   "cell_type": "code",
   "execution_count": 8,
   "metadata": {},
   "outputs": [
    {
     "data": {
      "text/plain": [
       "True"
      ]
     },
     "execution_count": 8,
     "metadata": {},
     "output_type": "execute_result"
    }
   ],
   "source": [
    "em.set_key(A, 'ID')\n",
    "em.set_key(B, 'ID')"
   ]
  },
  {
   "cell_type": "code",
   "execution_count": 17,
   "metadata": {
    "collapsed": true
   },
   "outputs": [],
   "source": [
    "import py_entitymatching as em\n",
    "import numpy as np"
   ]
  },
  {
   "cell_type": "code",
   "execution_count": 10,
   "metadata": {},
   "outputs": [],
   "source": [
    "ab = em.AttrEquivalenceBlocker()"
   ]
  },
  {
   "cell_type": "code",
   "execution_count": 11,
   "metadata": {},
   "outputs": [],
   "source": [
    "C = ab.block_tables(A, B, 'zipcode', 'zipcode', l_output_attrs=['zipcode', 'address'], \n",
    "                    r_output_attrs=['zipcode', 'address'])"
   ]
  },
  {
   "cell_type": "code",
   "execution_count": 14,
   "metadata": {},
   "outputs": [
    {
     "name": "stdout",
     "output_type": "stream",
     "text": [
      "Help on function add_output_attributes in module py_entitymatching.utils.generic_helper:\n",
      "\n",
      "add_output_attributes(candset, l_output_attrs=None, r_output_attrs=None, l_output_prefix='ltable_', r_output_prefix='rtable_', validate=True, copy_props=True, delete_from_catalog=True, verbose=False)\n",
      "    # data frame with output attributes\n",
      "\n"
     ]
    }
   ],
   "source": [
    "help(em.add_output_attributes)"
   ]
  },
  {
   "cell_type": "code",
   "execution_count": 15,
   "metadata": {
    "collapsed": true
   },
   "outputs": [],
   "source": [
    "D = em.add_output_attributes(C, ['name'], ['name'], validate=False, delete_from_catalog=False)"
   ]
  },
  {
   "cell_type": "code",
   "execution_count": 18,
   "metadata": {},
   "outputs": [],
   "source": [
    "K = np.array_split(C, 2)"
   ]
  },
  {
   "cell_type": "code",
   "execution_count": 19,
   "metadata": {},
   "outputs": [
    {
     "data": {
      "text/plain": [
       "True"
      ]
     },
     "execution_count": 19,
     "metadata": {},
     "output_type": "execute_result"
    }
   ],
   "source": [
    "em.copy_properties(C, K[0])"
   ]
  },
  {
   "cell_type": "code",
   "execution_count": 20,
   "metadata": {},
   "outputs": [
    {
     "data": {
      "text/plain": [
       "True"
      ]
     },
     "execution_count": 20,
     "metadata": {},
     "output_type": "execute_result"
    }
   ],
   "source": [
    "em.copy_properties(C, K[1])"
   ]
  },
  {
   "cell_type": "code",
   "execution_count": 21,
   "metadata": {
    "collapsed": true
   },
   "outputs": [],
   "source": [
    "D1 = em.add_output_attributes(K[0], ['name'], ['name'], validate=False, delete_from_catalog=False)"
   ]
  },
  {
   "cell_type": "code",
   "execution_count": 24,
   "metadata": {},
   "outputs": [],
   "source": [
    "# D2 = em.add_output_attributes(K[1], ['name'], ['name'], validate=False, delete_from_catalog=False)"
   ]
  },
  {
   "cell_type": "code",
   "execution_count": 26,
   "metadata": {
    "collapsed": true
   },
   "outputs": [],
   "source": [
    "def add_attrs(candset, ltbl, rtbl, fk_ltable, fk_rtable, lkey, rkey,\n",
    "              lout=None, rout=None, l_prefix='l_', r_prefix='r_'):\n",
    "    index = candset.index\n",
    "    if lout != None:\n",
    "        colnames = [l_prefix + c for c in lout]\n",
    "        # ltbl = ltbl.set_index(index, drop=True)\n",
    "        ldf = create_proj_df(ltbl, lkey, candset[fk_ltable], lout, colnames)\n",
    "\n",
    "\n",
    "    if rout != None:\n",
    "        colnames = [r_prefix + c for c in rout]\n",
    "        # ltbl = ltbl.set_index(index, drop=True)\n",
    "        rdf = create_proj_df(rtbl, rkey, candset[fk_rtable], rout, colnames)\n",
    "\n",
    "\n",
    "    if lout != None:\n",
    "        ldf.set_index(index, inplace=True, drop=True)\n",
    "        candset = pd.concat([candset, ldf], axis=1)\n",
    "    if rout != None:\n",
    "        rdf.set_index(index, inplace=True, drop=True)\n",
    "        candset = pd.concat([candset, rdf], axis=1)\n",
    "    candset.set_index(index, inplace=True, drop=True)\n",
    "    return candset\n",
    "def create_proj_df(df, key, vals, attrs, colnames):\n",
    "    df = df.set_index(key, drop=False)\n",
    "    df = df.ix[vals, attrs]\n",
    "    df.reset_index(drop=True, inplace=True)\n",
    "    df.columns = colnames\n",
    "    return df\n"
   ]
  },
  {
   "cell_type": "code",
   "execution_count": 29,
   "metadata": {
    "collapsed": true
   },
   "outputs": [],
   "source": [
    "d2 = add_attrs(K[1], A, B, 'ltable_ID', 'rtable_ID', 'ID', 'ID', ['name'], ['name'])"
   ]
  },
  {
   "cell_type": "code",
   "execution_count": 30,
   "metadata": {},
   "outputs": [
    {
     "data": {
      "text/html": [
       "<div>\n",
       "<table border=\"1\" class=\"dataframe\">\n",
       "  <thead>\n",
       "    <tr style=\"text-align: right;\">\n",
       "      <th></th>\n",
       "      <th>_id</th>\n",
       "      <th>ltable_ID</th>\n",
       "      <th>rtable_ID</th>\n",
       "      <th>ltable_zipcode</th>\n",
       "      <th>ltable_address</th>\n",
       "      <th>rtable_zipcode</th>\n",
       "      <th>rtable_address</th>\n",
       "      <th>l_name</th>\n",
       "      <th>r_name</th>\n",
       "    </tr>\n",
       "  </thead>\n",
       "  <tbody>\n",
       "    <tr>\n",
       "      <th>8</th>\n",
       "      <td>8</td>\n",
       "      <td>1</td>\n",
       "      <td>4</td>\n",
       "      <td>94122</td>\n",
       "      <td>1652 Stockton St, San Francisco</td>\n",
       "      <td>94122</td>\n",
       "      <td>170 Post St, Apt 4,  San Francisco</td>\n",
       "      <td>Michael Franklin</td>\n",
       "      <td>Alfons Kemper</td>\n",
       "    </tr>\n",
       "    <tr>\n",
       "      <th>9</th>\n",
       "      <td>9</td>\n",
       "      <td>3</td>\n",
       "      <td>2</td>\n",
       "      <td>94122</td>\n",
       "      <td>423 Powell St, San Francisco</td>\n",
       "      <td>94122</td>\n",
       "      <td>1652 Stockton St, San Francisco</td>\n",
       "      <td>Binto George</td>\n",
       "      <td>Mike Franklin</td>\n",
       "    </tr>\n",
       "    <tr>\n",
       "      <th>10</th>\n",
       "      <td>10</td>\n",
       "      <td>3</td>\n",
       "      <td>3</td>\n",
       "      <td>94122</td>\n",
       "      <td>423 Powell St, San Francisco</td>\n",
       "      <td>94122</td>\n",
       "      <td>108 South Park, San Francisco</td>\n",
       "      <td>Binto George</td>\n",
       "      <td>Joseph Kuan</td>\n",
       "    </tr>\n",
       "    <tr>\n",
       "      <th>11</th>\n",
       "      <td>11</td>\n",
       "      <td>3</td>\n",
       "      <td>4</td>\n",
       "      <td>94122</td>\n",
       "      <td>423 Powell St, San Francisco</td>\n",
       "      <td>94122</td>\n",
       "      <td>170 Post St, Apt 4,  San Francisco</td>\n",
       "      <td>Binto George</td>\n",
       "      <td>Alfons Kemper</td>\n",
       "    </tr>\n",
       "    <tr>\n",
       "      <th>12</th>\n",
       "      <td>12</td>\n",
       "      <td>4</td>\n",
       "      <td>2</td>\n",
       "      <td>94122</td>\n",
       "      <td>1702 Post Street, San Francisco</td>\n",
       "      <td>94122</td>\n",
       "      <td>1652 Stockton St, San Francisco</td>\n",
       "      <td>Alphonse Kemper</td>\n",
       "      <td>Mike Franklin</td>\n",
       "    </tr>\n",
       "    <tr>\n",
       "      <th>13</th>\n",
       "      <td>13</td>\n",
       "      <td>4</td>\n",
       "      <td>3</td>\n",
       "      <td>94122</td>\n",
       "      <td>1702 Post Street, San Francisco</td>\n",
       "      <td>94122</td>\n",
       "      <td>108 South Park, San Francisco</td>\n",
       "      <td>Alphonse Kemper</td>\n",
       "      <td>Joseph Kuan</td>\n",
       "    </tr>\n",
       "    <tr>\n",
       "      <th>14</th>\n",
       "      <td>14</td>\n",
       "      <td>4</td>\n",
       "      <td>4</td>\n",
       "      <td>94122</td>\n",
       "      <td>1702 Post Street, San Francisco</td>\n",
       "      <td>94122</td>\n",
       "      <td>170 Post St, Apt 4,  San Francisco</td>\n",
       "      <td>Alphonse Kemper</td>\n",
       "      <td>Alfons Kemper</td>\n",
       "    </tr>\n",
       "  </tbody>\n",
       "</table>\n",
       "</div>"
      ],
      "text/plain": [
       "    _id  ltable_ID  rtable_ID  ltable_zipcode  \\\n",
       "8     8          1          4           94122   \n",
       "9     9          3          2           94122   \n",
       "10   10          3          3           94122   \n",
       "11   11          3          4           94122   \n",
       "12   12          4          2           94122   \n",
       "13   13          4          3           94122   \n",
       "14   14          4          4           94122   \n",
       "\n",
       "                     ltable_address  rtable_zipcode  \\\n",
       "8   1652 Stockton St, San Francisco           94122   \n",
       "9      423 Powell St, San Francisco           94122   \n",
       "10     423 Powell St, San Francisco           94122   \n",
       "11     423 Powell St, San Francisco           94122   \n",
       "12  1702 Post Street, San Francisco           94122   \n",
       "13  1702 Post Street, San Francisco           94122   \n",
       "14  1702 Post Street, San Francisco           94122   \n",
       "\n",
       "                        rtable_address            l_name         r_name  \n",
       "8   170 Post St, Apt 4,  San Francisco  Michael Franklin  Alfons Kemper  \n",
       "9      1652 Stockton St, San Francisco      Binto George  Mike Franklin  \n",
       "10       108 South Park, San Francisco      Binto George    Joseph Kuan  \n",
       "11  170 Post St, Apt 4,  San Francisco      Binto George  Alfons Kemper  \n",
       "12     1652 Stockton St, San Francisco   Alphonse Kemper  Mike Franklin  \n",
       "13       108 South Park, San Francisco   Alphonse Kemper    Joseph Kuan  \n",
       "14  170 Post St, Apt 4,  San Francisco   Alphonse Kemper  Alfons Kemper  "
      ]
     },
     "execution_count": 30,
     "metadata": {},
     "output_type": "execute_result"
    }
   ],
   "source": [
    "d2"
   ]
  }
 ],
 "metadata": {
  "kernelspec": {
   "display_name": "Python 2",
   "language": "python",
   "name": "python2"
  },
  "language_info": {
   "codemirror_mode": {
    "name": "ipython",
    "version": 2
   },
   "file_extension": ".py",
   "mimetype": "text/x-python",
   "name": "python",
   "nbconvert_exporter": "python",
   "pygments_lexer": "ipython2",
   "version": "2.7.13"
  }
 },
 "nbformat": 4,
 "nbformat_minor": 2
}
