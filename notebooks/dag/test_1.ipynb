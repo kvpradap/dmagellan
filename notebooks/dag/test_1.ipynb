{
 "cells": [
  {
   "cell_type": "code",
   "execution_count": 3,
   "metadata": {
    "collapsed": true
   },
   "outputs": [],
   "source": [
    "import pandas as pd"
   ]
  },
  {
   "cell_type": "code",
   "execution_count": 4,
   "metadata": {
    "collapsed": true
   },
   "outputs": [],
   "source": [
    "def fn():\n",
    "    pass"
   ]
  },
  {
   "cell_type": "code",
   "execution_count": 41,
   "metadata": {},
   "outputs": [],
   "source": [
    "dag = {\n",
    "    'attr-1':[fn, pd.DataFrame()],\n",
    "    'bb-1':[fn, 'attr-1'],\n",
    "    'overlap-1':[fn, 'bb-1'],\n",
    "    'attr-2':[fn, 'overlap-1']\n",
    "}"
   ]
  },
  {
   "cell_type": "code",
   "execution_count": 6,
   "metadata": {
    "collapsed": true
   },
   "outputs": [],
   "source": [
    "def get_input_to_key(dag, key):\n",
    "    return dag[key][1]"
   ]
  },
  {
   "cell_type": "code",
   "execution_count": 32,
   "metadata": {},
   "outputs": [],
   "source": [
    "def get_keys_with_input(dag, key, head, tail):\n",
    "    q = []\n",
    "    keys= []\n",
    "    condition = True\n",
    "    q.append(tail)\n",
    "    while condition:\n",
    "        cur_node = q.pop(0)\n",
    "        k = get_input_to_key(dag, cur_node)\n",
    "        if type(k) == type(''):\n",
    "            if k == key:\n",
    "                keys.append(cur_node)\n",
    "            if k != head:\n",
    "                q.append(k)\n",
    "        if len(q) == 0:\n",
    "            condition = False\n",
    "    return keys\n",
    "    "
   ]
  },
  {
   "cell_type": "code",
   "execution_count": 34,
   "metadata": {},
   "outputs": [],
   "source": [
    "node1_input_to = get_keys_with_input(dag, 'bb-1', 'attr-1', 'attr-2')\n",
    "node2_input_to = get_keys_with_input(dag, 'overlap-1', 'attr-1', 'attr-2')"
   ]
  },
  {
   "cell_type": "code",
   "execution_count": 36,
   "metadata": {},
   "outputs": [
    {
     "data": {
      "text/plain": [
       "(['overlap-1'], ['attr-2'])"
      ]
     },
     "execution_count": 36,
     "metadata": {},
     "output_type": "execute_result"
    }
   ],
   "source": [
    "node1_input_to, node2_input_to"
   ]
  },
  {
   "cell_type": "code",
   "execution_count": 43,
   "metadata": {},
   "outputs": [],
   "source": [
    "d1 = dag.copy()\n",
    "key1, key2 = 'bb-1', 'overlap-1'\n",
    "k1 = get_input_to_key(dag, key1)\n",
    "k2 = get_input_to_key(dag, key2)\n",
    "if key1 == k2:\n",
    "    d1[key1][1] = key2\n",
    "else:\n",
    "    d1[key1][1] = k2\n",
    "\n",
    "if key2 == k1:\n",
    "    d1[key2][1] = key1\n",
    "else:\n",
    "    d1[key2][1] = k1\n",
    "    "
   ]
  },
  {
   "cell_type": "code",
   "execution_count": 57,
   "metadata": {},
   "outputs": [
    {
     "name": "stdout",
     "output_type": "stream",
     "text": [
      "Help on built-in function copy:\n",
      "\n",
      "copy(...)\n",
      "    D.copy() -> a shallow copy of D\n",
      "\n"
     ]
    }
   ],
   "source": [
    "help(dag.copy)"
   ]
  },
  {
   "cell_type": "code",
   "execution_count": 46,
   "metadata": {},
   "outputs": [
    {
     "data": {
      "image/png": "[encoded data removed]",
      "text/plain": [
       "<IPython.core.display.Image object>"
      ]
     },
     "execution_count": 46,
     "metadata": {},
     "output_type": "execute_result"
    }
   ],
   "source": []
  },
  {
   "cell_type": "code",
   "execution_count": 48,
   "metadata": {
    "collapsed": true
   },
   "outputs": [],
   "source": [
    "def list_diff(list1, list2):\n",
    "    return [x for x in list1 if x not in list2]"
   ]
  },
  {
   "cell_type": "code",
   "execution_count": 49,
   "metadata": {},
   "outputs": [
    {
     "data": {
      "text/plain": [
       "['a', 'c']"
      ]
     },
     "execution_count": 49,
     "metadata": {},
     "output_type": "execute_result"
    }
   ],
   "source": [
    "list_diff(['a', 'b', 'c'], ['b'])"
   ]
  },
  {
   "cell_type": "code",
   "execution_count": 53,
   "metadata": {
    "collapsed": true
   },
   "outputs": [],
   "source": [
    "def swap_candset_candset_inputs(dag, key1, key2, head, tail):\n",
    "    d1 = dag.copy()\n",
    "    key1, key2 = 'bb-1', 'overlap-1'\n",
    "    k1 = get_input_to_key(dag, key1)\n",
    "    k2 = get_input_to_key(dag, key2)\n",
    "    if key1 == k2:\n",
    "        d1[key1][1] = key2\n",
    "    else:\n",
    "        d1[key1][1] = k2\n",
    "\n",
    "    if key2 == k1:\n",
    "        d1[key2][1] = key1\n",
    "    else:\n",
    "        d1[key2][1] = k1\n",
    "    node1_input_to = get_keys_with_input(dag, key1, head, tail)\n",
    "    node1_input_to = list_diff(node1_input_to, [key2])\n",
    "    \n",
    "    for key in node1_input_to:\n",
    "        d1[key][1] = key2\n",
    "    \n",
    "    node2_input_to = get_keys_with_input(dag, key2, head, tail)\n",
    "    node2_input_to = list_diff(node1_input_to, [key1])\n",
    "    for key in node2_input_to:\n",
    "        d1[key][1] = key2\n",
    "    return d1\n",
    "    \n",
    "\n"
   ]
  },
  {
   "cell_type": "code",
   "execution_count": 55,
   "metadata": {},
   "outputs": [
    {
     "data": {
      "text/plain": [
       "{'attr-1': [<function __main__.fn>, Empty DataFrame\n",
       "  Columns: []\n",
       "  Index: []],\n",
       " 'attr-2': [<function __main__.fn>, 'overlap-1'],\n",
       " 'bb-1': [<function __main__.fn>, 'attr-1'],\n",
       " 'overlap-1': [<function __main__.fn>, 'bb-1']}"
      ]
     },
     "execution_count": 55,
     "metadata": {},
     "output_type": "execute_result"
    }
   ],
   "source": [
    "swap_candset_candset_inputs(dag, 'overlap-1', 'attr-2', 'attr-1', 'attr-2')"
   ]
  }
 ],
 "metadata": {
  "kernelspec": {
   "display_name": "Python 2",
   "language": "python",
   "name": "python2"
  },
  "language_info": {
   "codemirror_mode": {
    "name": "ipython",
    "version": 2
   },
   "file_extension": ".py",
   "mimetype": "text/x-python",
   "name": "python",
   "nbconvert_exporter": "python",
   "pygments_lexer": "ipython2",
   "version": "2.7.13"
  }
 },
 "nbformat": 4,
 "nbformat_minor": 2
}
