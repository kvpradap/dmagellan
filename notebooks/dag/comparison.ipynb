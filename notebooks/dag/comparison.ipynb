{
 "cells": [
  {
   "cell_type": "code",
   "execution_count": 1,
   "metadata": {
    "collapsed": true
   },
   "outputs": [],
   "source": [
    "import sys\n",
    "sys.path.append('/Users/pradap/Documents/Research/Python-Package/scaling/dmagellan/')"
   ]
  },
  {
   "cell_type": "code",
   "execution_count": 2,
   "metadata": {
    "collapsed": true
   },
   "outputs": [],
   "source": [
    "%matplotlib inline"
   ]
  },
  {
   "cell_type": "code",
   "execution_count": 3,
   "metadata": {
    "collapsed": true
   },
   "outputs": [],
   "source": [
    "from dmagellan.blocker.attrequivalence.attr_equiv_blocker import AttrEquivalenceBlocker\n",
    "from dmagellan.blocker.overlap.overlapblocker import OverlapBlocker\n",
    "from dmagellan.blocker.blackbox.blackbox_blocker import BlackBoxBlocker\n",
    "from dmagellan.blocker.rulebased.rule_based_blocker import RuleBasedBlocker\n",
    "from dmagellan.feature.autofeaturegen import get_features_for_blocking"
   ]
  },
  {
   "cell_type": "code",
   "execution_count": 4,
   "metadata": {
    "collapsed": true
   },
   "outputs": [],
   "source": [
    "from dask import threaded\n",
    "from dask import multiprocessing\n",
    "from distributed import Client"
   ]
  },
  {
   "cell_type": "code",
   "execution_count": 5,
   "metadata": {
    "collapsed": true
   },
   "outputs": [],
   "source": [
    "import pandas as pd"
   ]
  },
  {
   "cell_type": "code",
   "execution_count": 6,
   "metadata": {},
   "outputs": [],
   "source": [
    "client = Client()"
   ]
  },
  {
   "cell_type": "code",
   "execution_count": 7,
   "metadata": {
    "collapsed": true
   },
   "outputs": [],
   "source": [
    "A = pd.read_csv('../songs.csv')"
   ]
  },
  {
   "cell_type": "code",
   "execution_count": 8,
   "metadata": {},
   "outputs": [],
   "source": [
    "ab = AttrEquivalenceBlocker()"
   ]
  },
  {
   "cell_type": "code",
   "execution_count": 9,
   "metadata": {},
   "outputs": [
    {
     "name": "stdout",
     "output_type": "stream",
     "text": [
      "Help on method block_tables in module dmagellan.blocker.attrequivalence.attr_equiv_blocker:\n",
      "\n",
      "block_tables(self, ltable, rtable, l_key, r_key, l_block_attr, r_block_attr, l_output_attrs=None, r_output_attrs=None, l_output_prefix='l_', r_output_prefix='r_', nltable_chunks=1, nrtable_chunks=1, scheduler=<function get>, num_workers=None, cache_size=1000000000.0, compute=False, show_progress=True) method of dmagellan.blocker.attrequivalence.attr_equiv_blocker.AttrEquivalenceBlocker instance\n",
      "\n"
     ]
    }
   ],
   "source": [
    "help(ab.block_tables)"
   ]
  },
  {
   "cell_type": "code",
   "execution_count": null,
   "metadata": {
    "scrolled": true
   },
   "outputs": [
    {
     "data": {
      "text/html": [
       "<div>\n",
       "<style>\n",
       "    .dataframe thead tr:only-child th {\n",
       "        text-align: right;\n",
       "    }\n",
       "\n",
       "    .dataframe thead th {\n",
       "        text-align: left;\n",
       "    }\n",
       "\n",
       "    .dataframe tbody tr th {\n",
       "        vertical-align: top;\n",
       "    }\n",
       "</style>\n",
       "<table border=\"1\" class=\"dataframe\">\n",
       "  <thead>\n",
       "    <tr style=\"text-align: right;\">\n",
       "      <th></th>\n",
       "      <th>id</th>\n",
       "      <th>title</th>\n",
       "      <th>artist_name</th>\n",
       "      <th>year</th>\n",
       "    </tr>\n",
       "  </thead>\n",
       "  <tbody>\n",
       "    <tr>\n",
       "      <th>0</th>\n",
       "      <td>0</td>\n",
       "      <td>Hawaii Blues (Album Version)</td>\n",
       "      <td>Commander Cody And His Lost Planet Airmen</td>\n",
       "      <td>0</td>\n",
       "    </tr>\n",
       "    <tr>\n",
       "      <th>1</th>\n",
       "      <td>1</td>\n",
       "      <td>Miss Universe</td>\n",
       "      <td>Astream</td>\n",
       "      <td>0</td>\n",
       "    </tr>\n",
       "    <tr>\n",
       "      <th>2</th>\n",
       "      <td>2</td>\n",
       "      <td>That Special Part Of Me (Percussion Mix)</td>\n",
       "      <td>Onaje Allan Gumbs</td>\n",
       "      <td>0</td>\n",
       "    </tr>\n",
       "    <tr>\n",
       "      <th>3</th>\n",
       "      <td>3</td>\n",
       "      <td>Thoughts Of You</td>\n",
       "      <td>Polyrhythm Addicts</td>\n",
       "      <td>2007</td>\n",
       "    </tr>\n",
       "    <tr>\n",
       "      <th>4</th>\n",
       "      <td>4</td>\n",
       "      <td>Americans</td>\n",
       "      <td>Eddie Izzard</td>\n",
       "      <td>2000</td>\n",
       "    </tr>\n",
       "  </tbody>\n",
       "</table>\n",
       "</div>"
      ],
      "text/plain": [
       "   id                                     title  \\\n",
       "0   0              Hawaii Blues (Album Version)   \n",
       "1   1                             Miss Universe   \n",
       "2   2  That Special Part Of Me (Percussion Mix)   \n",
       "3   3                           Thoughts Of You   \n",
       "4   4                                 Americans   \n",
       "\n",
       "                                 artist_name  year  \n",
       "0  Commander Cody And His Lost Planet Airmen     0  \n",
       "1                                    Astream     0  \n",
       "2                          Onaje Allan Gumbs     0  \n",
       "3                         Polyrhythm Addicts  2007  \n",
       "4                               Eddie Izzard  2000  "
      ]
     },
     "execution_count": 10,
     "metadata": {},
     "output_type": "execute_result"
    }
   ],
   "source": [
    "A.head()"
   ]
  },
  {
   "cell_type": "code",
   "execution_count": null,
   "metadata": {},
   "outputs": [],
   "source": [
    "C = ab.block_tables(A, A, 'id', 'id', 'title', 'title', l_output_attrs=['title'], r_output_attrs=['title'], \n",
    "                    nltable_chunks=2, nrtable_chunks=2, scheduler=client.get, compute=True)"
   ]
  },
  {
   "cell_type": "code",
   "execution_count": null,
   "metadata": {},
   "outputs": [],
   "source": [
    "len(C)"
   ]
  }
 ],
 "metadata": {
  "kernelspec": {
   "display_name": "Python 2",
   "language": "python",
   "name": "python2"
  },
  "language_info": {
   "codemirror_mode": {
    "name": "ipython",
    "version": 2
   },
   "file_extension": ".py",
   "mimetype": "text/x-python",
   "name": "python",
   "nbconvert_exporter": "python",
   "pygments_lexer": "ipython2",
   "version": "2.7.13"
  }
 },
 "nbformat": 4,
 "nbformat_minor": 2
}
