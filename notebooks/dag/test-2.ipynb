{
 "cells": [
  {
   "cell_type": "code",
   "execution_count": 1,
   "metadata": {
    "collapsed": true
   },
   "outputs": [],
   "source": [
    "import dask"
   ]
  },
  {
   "cell_type": "code",
   "execution_count": 2,
   "metadata": {
    "collapsed": true
   },
   "outputs": [],
   "source": [
    "from dask import delayed"
   ]
  },
  {
   "cell_type": "code",
   "execution_count": 5,
   "metadata": {
    "collapsed": true
   },
   "outputs": [],
   "source": [
    "def fn(a):\n",
    "    return a + 5"
   ]
  },
  {
   "cell_type": "code",
   "execution_count": 22,
   "metadata": {
    "collapsed": true
   },
   "outputs": [],
   "source": [
    "a = delayed(fn, name='mylist')(5)"
   ]
  },
  {
   "cell_type": "code",
   "execution_count": 24,
   "metadata": {},
   "outputs": [
    {
     "data": {
      "image/png": "[encoded data removed]",
      "text/plain": [
       "<IPython.core.display.Image object>"
      ]
     },
     "execution_count": 24,
     "metadata": {},
     "output_type": "execute_result"
    }
   ],
   "source": [
    "a.visualize()"
   ]
  },
  {
   "cell_type": "code",
   "execution_count": 46,
   "metadata": {
    "collapsed": true
   },
   "outputs": [],
   "source": [
    "from dask import delayed\n",
    "import pandas as pd\n",
    "@delayed\n",
    "def split_df(table, n):\n",
    "    return [0]*n\n",
    "@delayed\n",
    "def concat_df(tables):\n",
    "    return pd.DataFrame()\n",
    "@delayed\n",
    "def _attr_block_candset(ltable, rtable, l_block_attr, r_block_attr):\n",
    "    return pd.DataFrame()\n",
    "\n",
    "@delayed\n",
    "def _overlap_block_candset(ltable, rtable, l_block_attr, r_block_attr):\n",
    "    return pd.DataFrame()\n",
    "\n",
    "@delayed\n",
    "def attr_block_candset(candset, l_block_attr, r_block_attr, nchunks):\n",
    "    cand_splitted = split_df(candset, nchunks)\n",
    "    results = []\n",
    "    for i in range(nlchunks):\n",
    "        res = _attr_block_candset(cand_splitted[i], l_block_attr, r_block_attr)\n",
    "        results.append(res)\n",
    "    fin = concat_df(results)\n",
    "    return fin\n",
    "\n",
    "@delayed\n",
    "def add_id(candset):\n",
    "    return pd.DataFrame()\n",
    "\n",
    "\n",
    "def overlap_block_candset(candset, l_block_attr, r_block_attr, nchunks):\n",
    "    cand_splitted = split_df(candset, nchunks)\n",
    "    results = []\n",
    "    for i in range(nchunks):\n",
    "        res = _attr_block_candset(cand_splitted[i], l_block_attr, r_block_attr)\n",
    "        results.append(res)\n",
    "    fin = concat_df(results)\n",
    "    fin = add_id(fin)\n",
    "    return fin"
   ]
  },
  {
   "cell_type": "code",
   "execution_count": 47,
   "metadata": {
    "collapsed": true
   },
   "outputs": [],
   "source": [
    "x = (overlap_block_candset)(\"\", \"y\", \"\", 5)\n"
   ]
  },
  {
   "cell_type": "code",
   "execution_count": 49,
   "metadata": {},
   "outputs": [
    {
     "data": {
      "text/plain": [
       "{'_attr_block_candset-1741fe17-279d-49e9-9df5-cd40e4566302': (<function __main__._attr_block_candset>,\n",
       "  'getitem-06b4bad574929378fd340fbc1457c51c',\n",
       "  'y',\n",
       "  ''),\n",
       " '_attr_block_candset-3be77f10-796d-420f-bfc2-05e6796230e7': (<function __main__._attr_block_candset>,\n",
       "  'getitem-fef15889433c3d2cfe963d83af12c07b',\n",
       "  'y',\n",
       "  ''),\n",
       " '_attr_block_candset-ab402f63-1af5-44eb-8cc2-cbe0b9d12c2a': (<function __main__._attr_block_candset>,\n",
       "  'getitem-d47b195ea36d3297be11a782d0896f19',\n",
       "  'y',\n",
       "  ''),\n",
       " '_attr_block_candset-c2aa8c33-ac2a-4397-9d9e-afae268bdf14': (<function __main__._attr_block_candset>,\n",
       "  'getitem-0b7fc58377be6edda0c66851e22a4ac3',\n",
       "  'y',\n",
       "  ''),\n",
       " '_attr_block_candset-fe180dd1-33fe-4f5d-b3a5-03fc03a20cda': (<function __main__._attr_block_candset>,\n",
       "  'getitem-120ae7c904409e687f2ed2631adcc075',\n",
       "  'y',\n",
       "  ''),\n",
       " 'add_id-21b6070d-5b67-4095-8b61-7156ff4c7533': (<function __main__.add_id>,\n",
       "  'concat_df-16c92f7a-cf45-4204-aa78-1a0a91ccfe07'),\n",
       " 'concat_df-16c92f7a-cf45-4204-aa78-1a0a91ccfe07': (<function __main__.concat_df>,\n",
       "  ['_attr_block_candset-fe180dd1-33fe-4f5d-b3a5-03fc03a20cda',\n",
       "   '_attr_block_candset-c2aa8c33-ac2a-4397-9d9e-afae268bdf14',\n",
       "   '_attr_block_candset-ab402f63-1af5-44eb-8cc2-cbe0b9d12c2a',\n",
       "   '_attr_block_candset-1741fe17-279d-49e9-9df5-cd40e4566302',\n",
       "   '_attr_block_candset-3be77f10-796d-420f-bfc2-05e6796230e7']),\n",
       " 'getitem-06b4bad574929378fd340fbc1457c51c': (<function operator.getitem>,\n",
       "  'split_df-91506dc0-23c3-4ea1-9624-9b47d39d79d4',\n",
       "  3),\n",
       " 'getitem-0b7fc58377be6edda0c66851e22a4ac3': (<function operator.getitem>,\n",
       "  'split_df-91506dc0-23c3-4ea1-9624-9b47d39d79d4',\n",
       "  1),\n",
       " 'getitem-120ae7c904409e687f2ed2631adcc075': (<function operator.getitem>,\n",
       "  'split_df-91506dc0-23c3-4ea1-9624-9b47d39d79d4',\n",
       "  0),\n",
       " 'getitem-d47b195ea36d3297be11a782d0896f19': (<function operator.getitem>,\n",
       "  'split_df-91506dc0-23c3-4ea1-9624-9b47d39d79d4',\n",
       "  2),\n",
       " 'getitem-fef15889433c3d2cfe963d83af12c07b': (<function operator.getitem>,\n",
       "  'split_df-91506dc0-23c3-4ea1-9624-9b47d39d79d4',\n",
       "  4),\n",
       " 'split_df-91506dc0-23c3-4ea1-9624-9b47d39d79d4': (<function __main__.split_df>,\n",
       "  '',\n",
       "  5)}"
      ]
     },
     "execution_count": 49,
     "metadata": {},
     "output_type": "execute_result"
    }
   ],
   "source": [
    "dict(x.dask)"
   ]
  },
  {
   "cell_type": "code",
   "execution_count": 51,
   "metadata": {
    "collapsed": true
   },
   "outputs": [],
   "source": [
    "from dask.optimize import key_split"
   ]
  },
  {
   "cell_type": "code",
   "execution_count": 52,
   "metadata": {
    "collapsed": true
   },
   "outputs": [],
   "source": [
    "d = dict(x.dask)"
   ]
  },
  {
   "cell_type": "code",
   "execution_count": 57,
   "metadata": {
    "collapsed": true
   },
   "outputs": [],
   "source": [
    "keys = d.keys()"
   ]
  },
  {
   "cell_type": "code",
   "execution_count": 60,
   "metadata": {
    "collapsed": true
   },
   "outputs": [],
   "source": [
    "def get_keys(d, key):\n",
    "    keys = d.keys()\n",
    "    l = []\n",
    "    for k in keys:\n",
    "        v = key_split(k)\n",
    "        if v == key:\n",
    "            l.append(k)\n",
    "    return l\n",
    "            "
   ]
  },
  {
   "cell_type": "code",
   "execution_count": null,
   "metadata": {
    "collapsed": true
   },
   "outputs": [],
   "source": [
    "def "
   ]
  },
  {
   "cell_type": "code",
   "execution_count": 70,
   "metadata": {
    "collapsed": true
   },
   "outputs": [],
   "source": [
    "s = get_keys(d, 'add_id')"
   ]
  },
  {
   "cell_type": "code",
   "execution_count": 75,
   "metadata": {},
   "outputs": [
    {
     "data": {
      "text/plain": [
       "'add_id'"
      ]
     },
     "execution_count": 75,
     "metadata": {},
     "output_type": "execute_result"
    }
   ],
   "source": [
    "x.dask.get(s[0])[0].__name__"
   ]
  },
  {
   "cell_type": "code",
   "execution_count": 29,
   "metadata": {
    "collapsed": true
   },
   "outputs": [],
   "source": [
    "@delayed\n",
    "def add(a, b):\n",
    "    return a + b"
   ]
  },
  {
   "cell_type": "code",
   "execution_count": 32,
   "metadata": {
    "collapsed": true
   },
   "outputs": [],
   "source": [
    "k = add(5, 10, dask_key_name='add-1')"
   ]
  },
  {
   "cell_type": "code",
   "execution_count": 34,
   "metadata": {},
   "outputs": [
    {
     "data": {
      "text/plain": [
       "{'add-1': (<function __main__.add>, 5, 10)}"
      ]
     },
     "execution_count": 34,
     "metadata": {},
     "output_type": "execute_result"
    }
   ],
   "source": [
    "dict(k.dask)"
   ]
  }
 ],
 "metadata": {
  "kernelspec": {
   "display_name": "Python 2",
   "language": "python",
   "name": "python2"
  },
  "language_info": {
   "codemirror_mode": {
    "name": "ipython",
    "version": 2
   },
   "file_extension": ".py",
   "mimetype": "text/x-python",
   "name": "python",
   "nbconvert_exporter": "python",
   "pygments_lexer": "ipython2",
   "version": "2.7.13"
  }
 },
 "nbformat": 4,
 "nbformat_minor": 2
}
