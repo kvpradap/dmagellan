{
 "cells": [
  {
   "cell_type": "code",
   "execution_count": 6,
   "metadata": {
    "collapsed": true
   },
   "outputs": [],
   "source": [
    "import pandas as pd\n",
    "import sys\n",
    "import py_entitymatching as em"
   ]
  },
  {
   "cell_type": "code",
   "execution_count": 32,
   "metadata": {
    "collapsed": true
   },
   "outputs": [],
   "source": [
    "import dask\n",
    "import dask.dataframe as dd"
   ]
  },
  {
   "cell_type": "code",
   "execution_count": 4,
   "metadata": {
    "collapsed": true
   },
   "outputs": [],
   "source": [
    "sys.path.append('/Users/pradap/Documents/Research/Python-Package/scaling/dmagellan/')"
   ]
  },
  {
   "cell_type": "code",
   "execution_count": 5,
   "metadata": {
    "collapsed": true
   },
   "outputs": [],
   "source": [
    "from dmagellan.core.downsample import *"
   ]
  },
  {
   "cell_type": "code",
   "execution_count": 31,
   "metadata": {
    "collapsed": true
   },
   "outputs": [],
   "source": [
    "AP = pd.read_csv('A.csv')"
   ]
  },
  {
   "cell_type": "code",
   "execution_count": 37,
   "metadata": {
    "collapsed": true
   },
   "outputs": [],
   "source": [
    "AD = dd.read_csv('A.csv', blocksize=200)"
   ]
  },
  {
   "cell_type": "code",
   "execution_count": 54,
   "metadata": {
    "collapsed": true
   },
   "outputs": [],
   "source": [
    "def preprocess_table(dataframe, idcol):\n",
    "    strcols = list(get_str_cols(dataframe))\n",
    "    strcols.append(idcol)\n",
    "    projdf = dataframe[strcols]\n",
    "    objsc = StringContainer()\n",
    "    for row in projdf.itertuples():\n",
    "        colvalues = row[1:-1]\n",
    "        uid = row[-1]\n",
    "        strings = [colvalue.strip() for colvalue in colvalues if not pd.isnull(colvalue)]\n",
    "        concat_row = ' '.join(strings)\n",
    "        concat_row = concat_row.translate(None, string.punctuation)\n",
    "        objsc.push_back(uid, str2bytes(concat_row))\n",
    "    return objsc\n",
    "\n",
    "def tokenize_strings(objsc, stopwords):\n",
    "    n = objsc.size()\n",
    "    objtc = TokenContainer()\n",
    "    objtc.tokenize(objsc, stopwords)\n",
    "    return objtc\n",
    "\n",
    "def build_inv_index(objtc):\n",
    "    inv_obj = InvertedIndex()\n",
    "    inv_obj.build_inv_index(objtc)\n",
    "    return inv_obj\n",
    "\n",
    "def probe(objtc, ids, objinvindex, yparam):\n",
    "    objprobe = Prober()\n",
    "    objprobe.probe(objtc, ids, objinvindex, yparam)\n",
    "    return objprobe\n",
    "\n",
    "def postprocess(result_list, ltable, rtable):\n",
    "    lids = set()\n",
    "    rids = set()\n",
    "    for i in range(len(result_list)):\n",
    "        result = result_list[i]\n",
    "        lids.update(result.get_lids())\n",
    "        rids.update(result.get_rids())\n",
    "    lids = sorted(lids)\n",
    "    rids = sorted(rids)\n",
    "    return (ltable.loc[lids], rtable.loc[rids])"
   ]
  },
  {
   "cell_type": "code",
   "execution_count": 55,
   "metadata": {
    "collapsed": true
   },
   "outputs": [],
   "source": [
    "lstrings_d = preprocess_table(AD, 'id')"
   ]
  },
  {
   "cell_type": "code",
   "execution_count": 56,
   "metadata": {},
   "outputs": [
    {
     "data": {
      "text/plain": [
       "(0, 'a1 Kevin Smith 607 From St San Francisco')"
      ]
     },
     "execution_count": 56,
     "metadata": {},
     "output_type": "execute_result"
    }
   ],
   "source": [
    "lstrings_d.get(0)"
   ]
  }
 ],
 "metadata": {
  "kernelspec": {
   "display_name": "Python 2",
   "language": "python",
   "name": "python2"
  },
  "language_info": {
   "codemirror_mode": {
    "name": "ipython",
    "version": 2
   },
   "file_extension": ".py",
   "mimetype": "text/x-python",
   "name": "python",
   "nbconvert_exporter": "python",
   "pygments_lexer": "ipython2",
   "version": "2.7.13"
  }
 },
 "nbformat": 4,
 "nbformat_minor": 2
}
