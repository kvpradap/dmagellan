{
 "cells": [
  {
   "cell_type": "code",
   "execution_count": 1,
   "metadata": {
    "collapsed": true
   },
   "outputs": [],
   "source": [
    "# imports\n",
    "from downsample import *\n",
    "import pandas as pd\n",
    "from dask import delayed\n",
    "import dask.dataframe as dd\n",
    "import numpy as np"
   ]
  },
  {
   "cell_type": "code",
   "execution_count": 41,
   "metadata": {
    "collapsed": true
   },
   "outputs": [],
   "source": [
    "#paths\n",
    "datapath='../../datasets/'\n",
    "apath = os.path.join(datapath, 'tracks.csv')\n",
    "bpath = os.path.join(datapath, 'songs.csv')"
   ]
  },
  {
   "cell_type": "code",
   "execution_count": 49,
   "metadata": {},
   "outputs": [],
   "source": [
    "# load datasets\n",
    "# tmp_A = pd.read_csv(apath, encoding='latin-1')\n",
    "# tmp_B = pd.read_csv(bpath, encoding='latin-1')\n",
    "# tmp_A['id'] = range(len(tmp_A))\n",
    "# tmp_B['id'] = range(len(tmp_B))\n",
    "A = dd.read_csv(apath, blocksize=25000000, encoding='latin-1')\n",
    "B = dd.read_csv(bpath, blocksize=25000000, encoding='latin-1')\n"
   ]
  },
  {
   "cell_type": "code",
   "execution_count": 50,
   "metadata": {},
   "outputs": [
    {
     "data": {
      "text/plain": [
       "dask.dataframe.core.DataFrame"
      ]
     },
     "execution_count": 50,
     "metadata": {},
     "output_type": "execute_result"
    }
   ],
   "source": [
    "type(A)"
   ]
  },
  {
   "cell_type": "code",
   "execution_count": 52,
   "metadata": {},
   "outputs": [
    {
     "data": {
      "text/plain": [
       "3"
      ]
     },
     "execution_count": 52,
     "metadata": {},
     "output_type": "execute_result"
    }
   ],
   "source": [
    "A.npartitions"
   ]
  },
  {
   "cell_type": "code",
   "execution_count": 53,
   "metadata": {
    "collapsed": true
   },
   "outputs": [],
   "source": [
    "spath = os.path.join(datapath, 'stopwords')\n",
    "stopwords = get_stop_words(spath)\n",
    "stopwords.extend(['and', 'in', 'the', 'my', 'me', 'to', 'you', 'i', 'andre', 'from', 'a', 'of', 'the', 'version', 'love', 'live', 'la', 'mix', 'album', 'dont'])\n",
    "stopwords = list(set(stopwords))"
   ]
  },
  {
   "cell_type": "code",
   "execution_count": 54,
   "metadata": {
    "collapsed": true
   },
   "outputs": [],
   "source": [
    "# preprocessing, tokenizing: ltable\n",
    "ltokens = [0]*A.npartitions\n",
    "for i in xrange(A.npartitions):\n",
    "    lstrings = (delayed)(preprocess_table)(A.get_partition(i), 'id')\n",
    "    ltokens[i] = (delayed)(tokenize_strings)(lstrings, stopwords=stopwords)\n",
    "invindex = (delayed)(build_inv_index)(ltokens)\n",
    "    "
   ]
  },
  {
   "cell_type": "code",
   "execution_count": 55,
   "metadata": {
    "collapsed": true
   },
   "outputs": [],
   "source": [
    "#sample\n",
    "Bsample = B.sample(frac=0.01, random_state=0)"
   ]
  },
  {
   "cell_type": "code",
   "execution_count": 64,
   "metadata": {},
   "outputs": [
    {
     "name": "stdout",
     "output_type": "stream",
     "text": [
      "Help on method reduction in module dask.dataframe.core:\n",
      "\n",
      "reduction(self, chunk, aggregate=None, combine=None, meta='__no_default__', token=None, split_every=None, chunk_kwargs=None, aggregate_kwargs=None, combine_kwargs=None, **kwargs) method of dask.dataframe.core.DataFrame instance\n",
      "    Generic row-wise reductions.\n",
      "    \n",
      "    Parameters\n",
      "    ----------\n",
      "    chunk : callable\n",
      "        Function to operate on each partition. Should return a\n",
      "        ``pandas.DataFrame``, ``pandas.Series``, or a scalar.\n",
      "    aggregate : callable, optional\n",
      "        Function to operate on the concatenated result of ``chunk``. If not\n",
      "        specified, defaults to ``chunk``. Used to do the final aggregation\n",
      "        in a tree reduction.\n",
      "    \n",
      "        The input to ``aggregate`` depends on the output of ``chunk``.\n",
      "        If the output of ``chunk`` is a:\n",
      "    \n",
      "        - scalar: Input is a Series, with one row per partition.\n",
      "        - Series: Input is a DataFrame, with one row per partition. Columns\n",
      "          are the rows in the output series.\n",
      "        - DataFrame: Input is a DataFrame, with one row per partition.\n",
      "          Columns are the columns in the output dataframes.\n",
      "    \n",
      "        Should return a ``pandas.DataFrame``, ``pandas.Series``, or a\n",
      "        scalar.\n",
      "    combine : callable, optional\n",
      "        Function to operate on intermediate concatenated results of\n",
      "        ``chunk`` in a tree-reduction. If not provided, defaults to\n",
      "        ``aggregate``. The input/output requirements should match that of\n",
      "        ``aggregate`` described above.\n",
      "    meta : pd.DataFrame, pd.Series, dict, iterable, tuple, optional\n",
      "        An empty ``pd.DataFrame`` or ``pd.Series`` that matches the dtypes\n",
      "        and column names of the output. This metadata is necessary for\n",
      "        many algorithms in dask dataframe to work.  For ease of use, some\n",
      "        alternative inputs are also available. Instead of a ``DataFrame``,\n",
      "        a ``dict`` of ``{name: dtype}`` or iterable of ``(name, dtype)``\n",
      "        can be provided. Instead of a series, a tuple of ``(name, dtype)``\n",
      "        can be used. If not provided, dask will try to infer the metadata.\n",
      "        This may lead to unexpected results, so providing ``meta`` is\n",
      "        recommended. For more information, see\n",
      "        ``dask.dataframe.utils.make_meta``.\n",
      "    token : str, optional\n",
      "        The name to use for the output keys.\n",
      "    split_every : int, optional\n",
      "        Group partitions into groups of this size while performing a\n",
      "        tree-reduction. If set to False, no tree-reduction will be used,\n",
      "        and all intermediates will be concatenated and passed to\n",
      "        ``aggregate``. Default is 8.\n",
      "    chunk_kwargs : dict, optional\n",
      "        Keyword arguments to pass on to ``chunk`` only.\n",
      "    aggregate_kwargs : dict, optional\n",
      "        Keyword arguments to pass on to ``aggregate`` only.\n",
      "    combine_kwargs : dict, optional\n",
      "        Keyword arguments to pass on to ``combine`` only.\n",
      "    kwargs :\n",
      "        All remaining keywords will be passed to ``chunk``, ``combine``,\n",
      "        and ``aggregate``.\n",
      "    \n",
      "    Examples\n",
      "    --------\n",
      "    >>> import pandas as pd\n",
      "    >>> import dask.dataframe as dd\n",
      "    >>> df = pd.DataFrame({'x': range(50), 'y': range(50, 100)})\n",
      "    >>> ddf = dd.from_pandas(df, npartitions=4)\n",
      "    \n",
      "    Count the number of rows in a DataFrame. To do this, count the number\n",
      "    of rows in each partition, then sum the results:\n",
      "    \n",
      "    >>> res = ddf.reduction(lambda x: x.count(),\n",
      "    ...                     aggregate=lambda x: x.sum())\n",
      "    >>> res.compute()\n",
      "    x    50\n",
      "    y    50\n",
      "    dtype: int64\n",
      "    \n",
      "    Count the number of rows in a Series with elements greater than or\n",
      "    equal to a value (provided via a keyword).\n",
      "    \n",
      "    >>> def count_greater(x, value=0):\n",
      "    ...     return (x >= value).sum()\n",
      "    >>> res = ddf.x.reduction(count_greater, aggregate=lambda x: x.sum(),\n",
      "    ...                       chunk_kwargs={'value': 25})\n",
      "    >>> res.compute()\n",
      "    25\n",
      "    \n",
      "    Aggregate both the sum and count of a Series at the same time:\n",
      "    \n",
      "    >>> def sum_and_count(x):\n",
      "    ...     return pd.Series({'sum': x.sum(), 'count': x.count()})\n",
      "    >>> res = ddf.x.reduction(sum_and_count, aggregate=lambda x: x.sum())\n",
      "    >>> res.compute()\n",
      "    count      50\n",
      "    sum      1225\n",
      "    dtype: int64\n",
      "    \n",
      "    Doing the same, but for a DataFrame. Here ``chunk`` returns a\n",
      "    DataFrame, meaning the input to ``aggregate`` is a DataFrame with an\n",
      "    index with non-unique entries for both 'x' and 'y'. We groupby the\n",
      "    index, and sum each group to get the final result.\n",
      "    \n",
      "    >>> def sum_and_count(x):\n",
      "    ...     return pd.DataFrame({'sum': x.sum(), 'count': x.count()})\n",
      "    >>> res = ddf.reduction(sum_and_count,\n",
      "    ...                     aggregate=lambda x: x.groupby(level=0).sum())\n",
      "    >>> res.compute()\n",
      "       count   sum\n",
      "    x     50  1225\n",
      "    y     50  3725\n",
      "\n"
     ]
    }
   ],
   "source": [
    "help(Bsample.reduction)"
   ]
  },
  {
   "cell_type": "code",
   "execution_count": 56,
   "metadata": {
    "collapsed": true
   },
   "outputs": [],
   "source": [
    "# preprocessing, tokenizing, probe: ltable\n",
    "probe_results = [0]*Bsample.npartitions\n",
    "for i in xrange(Bsample.npartitions):\n",
    "    rstrings = (delayed)(preprocess_table)(Bsample.get_partition(i), 'id')\n",
    "    rtokens = (delayed)(tokenize_strings)(rstrings, stopwords=stopwords)\n",
    "    result = (delayed)(probe)(rtokens, invindex, 1)\n",
    "    probe_results[i] = result\n"
   ]
  },
  {
   "cell_type": "code",
   "execution_count": 57,
   "metadata": {},
   "outputs": [],
   "source": [
    "# get lrids\n",
    "lrids = delayed(get_lrids, nout=2)(probe_results)"
   ]
  },
  {
   "cell_type": "code",
   "execution_count": 58,
   "metadata": {
    "collapsed": true
   },
   "outputs": [],
   "source": [
    "def postprocess(lrids, A, B, lid, rid):\n",
    "    if isinstance(A, pd.core.frame.DataFrame):\n",
    "        s_ltbl = A[A[lid].isin(lrids[0])]\n",
    "    else:   \n",
    "        s_ltbl = A.map_partitions(lambda x: x[x[lid].isin(lrids[0])], meta=A)\n",
    "    \n",
    "    if isinstance(B, pd.core.frame.DataFrame):\n",
    "        s_rtbl = B[B[rid].isin(lrids[1])]\n",
    "    else:\n",
    "        s_rtbl = B.map_partitions(lambda x: x[x[rid].isin(lrids[1])], meta=B)\n",
    "    return (s_ltbl, s_rtbl)"
   ]
  },
  {
   "cell_type": "code",
   "execution_count": 59,
   "metadata": {},
   "outputs": [],
   "source": [
    "results = delayed(postprocess)(lrids, A, Bsample, 'id', 'id')\n",
    "s_ltbl = dd.from_delayed(results[0], meta=A)\n",
    "s_rtbl = dd.from_delayed(results[1], meta=Bsample)"
   ]
  },
  {
   "cell_type": "code",
   "execution_count": 68,
   "metadata": {},
   "outputs": [
    {
     "name": "stdout",
     "output_type": "stream",
     "text": [
      "Help on function from_delayed in module dask.dataframe.io.io:\n",
      "\n",
      "from_delayed(dfs, meta=None, divisions=None, prefix='from-delayed', metadata=None)\n",
      "    Create Dask DataFrame from many Dask Delayed objects\n",
      "    \n",
      "    Parameters\n",
      "    ----------\n",
      "    dfs : list of Delayed\n",
      "        An iterable of ``dask.delayed.Delayed`` objects, such as come from\n",
      "        ``dask.delayed`` These comprise the individual partitions of the\n",
      "        resulting dataframe.\n",
      "    meta : pd.DataFrame, pd.Series, dict, iterable, tuple, optional\n",
      "        An empty ``pd.DataFrame`` or ``pd.Series`` that matches the dtypes and\n",
      "        column names of the output. This metadata is necessary for many\n",
      "        algorithms in dask dataframe to work.  For ease of use, some\n",
      "        alternative inputs are also available. Instead of a ``DataFrame``, a\n",
      "        ``dict`` of ``{name: dtype}`` or iterable of ``(name, dtype)`` can be\n",
      "        provided. Instead of a series, a tuple of ``(name, dtype)`` can be\n",
      "        used. If not provided, dask will try to infer the metadata. This may\n",
      "        lead to unexpected results, so providing ``meta`` is recommended. For\n",
      "        more information, see ``dask.dataframe.utils.make_meta``.\n",
      "    divisions : tuple, str, optional\n",
      "        Partition boundaries along the index.\n",
      "        For tuple, see http://dask.pydata.org/en/latest/dataframe-design.html#partitions\n",
      "        For string 'sorted' will compute the delayed values to find index\n",
      "        values.  Assumes that the indexes are mutually sorted.\n",
      "        If None, then won't use index information\n",
      "    prefix : str, optional\n",
      "        Prefix to prepend to the keys.\n",
      "\n"
     ]
    }
   ],
   "source": [
    "help(dd.from_delayed)"
   ]
  },
  {
   "cell_type": "code",
   "execution_count": 61,
   "metadata": {
    "collapsed": true
   },
   "outputs": [],
   "source": [
    "from dask.diagnostics import Profiler, ResourceProfiler, ProgressBar"
   ]
  },
  {
   "cell_type": "code",
   "execution_count": 62,
   "metadata": {},
   "outputs": [
    {
     "name": "stdout",
     "output_type": "stream",
     "text": [
      "[###########                             ] | 28% Completed |  2.1s"
     ]
    },
    {
     "name": "stderr",
     "output_type": "stream",
     "text": [
      "/Users/pradap/miniconda2/lib/python2.7/multiprocessing/pool.py:113: DtypeWarning: Columns (3) have mixed types. Specify dtype option on import or set low_memory=False.\n",
      "  result = (True, func(*args, **kwds))\n"
     ]
    },
    {
     "name": "stdout",
     "output_type": "stream",
     "text": [
      "[########################################] | 100% Completed | 57.1s\n"
     ]
    }
   ],
   "source": [
    "with Profiler() as prof, ProgressBar():\n",
    "    sa = s_ltbl.compute()"
   ]
  },
  {
   "cell_type": "code",
   "execution_count": 63,
   "metadata": {},
   "outputs": [
    {
     "data": {
      "text/html": [
       "<div style=\"display: table;\"><div style=\"display: table-row;\"><div style=\"display: table-cell;\"><b title=\"bokeh.plotting.figure.Figure\">Figure</b>(</div><div style=\"display: table-cell;\">id&nbsp;=&nbsp;'c01ff68f-4ec4-403b-a62b-3024002a93ba', <span id=\"37adfdde-2770-4943-87fd-8adad166a03e\" style=\"cursor: pointer;\">&hellip;)</span></div></div><div class=\"d03bcea4-de96-4b06-a18f-0cf11159c3f3\" style=\"display: none;\"><div style=\"display: table-cell;\"></div><div style=\"display: table-cell;\">above&nbsp;=&nbsp;[],</div></div><div class=\"d03bcea4-de96-4b06-a18f-0cf11159c3f3\" style=\"display: none;\"><div style=\"display: table-cell;\"></div><div style=\"display: table-cell;\">background_fill_alpha&nbsp;=&nbsp;{'value': 1.0},</div></div><div class=\"d03bcea4-de96-4b06-a18f-0cf11159c3f3\" style=\"display: none;\"><div style=\"display: table-cell;\"></div><div style=\"display: table-cell;\">background_fill_color&nbsp;=&nbsp;{'value': '#ffffff'},</div></div><div class=\"d03bcea4-de96-4b06-a18f-0cf11159c3f3\" style=\"display: none;\"><div style=\"display: table-cell;\"></div><div style=\"display: table-cell;\">below&nbsp;=&nbsp;[LinearAxis(id='a37293cc-b251-4e53-823a-7b3478c8fbfd', ...)],</div></div><div class=\"d03bcea4-de96-4b06-a18f-0cf11159c3f3\" style=\"display: none;\"><div style=\"display: table-cell;\"></div><div style=\"display: table-cell;\">border_fill_alpha&nbsp;=&nbsp;{'value': 1.0},</div></div><div class=\"d03bcea4-de96-4b06-a18f-0cf11159c3f3\" style=\"display: none;\"><div style=\"display: table-cell;\"></div><div style=\"display: table-cell;\">border_fill_color&nbsp;=&nbsp;{'value': '#ffffff'},</div></div><div class=\"d03bcea4-de96-4b06-a18f-0cf11159c3f3\" style=\"display: none;\"><div style=\"display: table-cell;\"></div><div style=\"display: table-cell;\">css_classes&nbsp;=&nbsp;None,</div></div><div class=\"d03bcea4-de96-4b06-a18f-0cf11159c3f3\" style=\"display: none;\"><div style=\"display: table-cell;\"></div><div style=\"display: table-cell;\">disabled&nbsp;=&nbsp;False,</div></div><div class=\"d03bcea4-de96-4b06-a18f-0cf11159c3f3\" style=\"display: none;\"><div style=\"display: table-cell;\"></div><div style=\"display: table-cell;\">extra_x_ranges&nbsp;=&nbsp;{},</div></div><div class=\"d03bcea4-de96-4b06-a18f-0cf11159c3f3\" style=\"display: none;\"><div style=\"display: table-cell;\"></div><div style=\"display: table-cell;\">extra_y_ranges&nbsp;=&nbsp;{},</div></div><div class=\"d03bcea4-de96-4b06-a18f-0cf11159c3f3\" style=\"display: none;\"><div style=\"display: table-cell;\"></div><div style=\"display: table-cell;\">h_symmetry&nbsp;=&nbsp;True,</div></div><div class=\"d03bcea4-de96-4b06-a18f-0cf11159c3f3\" style=\"display: none;\"><div style=\"display: table-cell;\"></div><div style=\"display: table-cell;\">height&nbsp;=&nbsp;None,</div></div><div class=\"d03bcea4-de96-4b06-a18f-0cf11159c3f3\" style=\"display: none;\"><div style=\"display: table-cell;\"></div><div style=\"display: table-cell;\">hidpi&nbsp;=&nbsp;True,</div></div><div class=\"d03bcea4-de96-4b06-a18f-0cf11159c3f3\" style=\"display: none;\"><div style=\"display: table-cell;\"></div><div style=\"display: table-cell;\">js_event_callbacks&nbsp;=&nbsp;{},</div></div><div class=\"d03bcea4-de96-4b06-a18f-0cf11159c3f3\" style=\"display: none;\"><div style=\"display: table-cell;\"></div><div style=\"display: table-cell;\">js_property_callbacks&nbsp;=&nbsp;{},</div></div><div class=\"d03bcea4-de96-4b06-a18f-0cf11159c3f3\" style=\"display: none;\"><div style=\"display: table-cell;\"></div><div style=\"display: table-cell;\">left&nbsp;=&nbsp;[CategoricalAxis(id='60f9a37b-de2d-43ab-b673-c420e77e6e0f', ...)],</div></div><div class=\"d03bcea4-de96-4b06-a18f-0cf11159c3f3\" style=\"display: none;\"><div style=\"display: table-cell;\"></div><div style=\"display: table-cell;\">lod_factor&nbsp;=&nbsp;10,</div></div><div class=\"d03bcea4-de96-4b06-a18f-0cf11159c3f3\" style=\"display: none;\"><div style=\"display: table-cell;\"></div><div style=\"display: table-cell;\">lod_interval&nbsp;=&nbsp;300,</div></div><div class=\"d03bcea4-de96-4b06-a18f-0cf11159c3f3\" style=\"display: none;\"><div style=\"display: table-cell;\"></div><div style=\"display: table-cell;\">lod_threshold&nbsp;=&nbsp;2000,</div></div><div class=\"d03bcea4-de96-4b06-a18f-0cf11159c3f3\" style=\"display: none;\"><div style=\"display: table-cell;\"></div><div style=\"display: table-cell;\">lod_timeout&nbsp;=&nbsp;500,</div></div><div class=\"d03bcea4-de96-4b06-a18f-0cf11159c3f3\" style=\"display: none;\"><div style=\"display: table-cell;\"></div><div style=\"display: table-cell;\">min_border&nbsp;=&nbsp;5,</div></div><div class=\"d03bcea4-de96-4b06-a18f-0cf11159c3f3\" style=\"display: none;\"><div style=\"display: table-cell;\"></div><div style=\"display: table-cell;\">min_border_bottom&nbsp;=&nbsp;None,</div></div><div class=\"d03bcea4-de96-4b06-a18f-0cf11159c3f3\" style=\"display: none;\"><div style=\"display: table-cell;\"></div><div style=\"display: table-cell;\">min_border_left&nbsp;=&nbsp;None,</div></div><div class=\"d03bcea4-de96-4b06-a18f-0cf11159c3f3\" style=\"display: none;\"><div style=\"display: table-cell;\"></div><div style=\"display: table-cell;\">min_border_right&nbsp;=&nbsp;None,</div></div><div class=\"d03bcea4-de96-4b06-a18f-0cf11159c3f3\" style=\"display: none;\"><div style=\"display: table-cell;\"></div><div style=\"display: table-cell;\">min_border_top&nbsp;=&nbsp;None,</div></div><div class=\"d03bcea4-de96-4b06-a18f-0cf11159c3f3\" style=\"display: none;\"><div style=\"display: table-cell;\"></div><div style=\"display: table-cell;\">name&nbsp;=&nbsp;None,</div></div><div class=\"d03bcea4-de96-4b06-a18f-0cf11159c3f3\" style=\"display: none;\"><div style=\"display: table-cell;\"></div><div style=\"display: table-cell;\">outline_line_alpha&nbsp;=&nbsp;{'value': 1.0},</div></div><div class=\"d03bcea4-de96-4b06-a18f-0cf11159c3f3\" style=\"display: none;\"><div style=\"display: table-cell;\"></div><div style=\"display: table-cell;\">outline_line_cap&nbsp;=&nbsp;'butt',</div></div><div class=\"d03bcea4-de96-4b06-a18f-0cf11159c3f3\" style=\"display: none;\"><div style=\"display: table-cell;\"></div><div style=\"display: table-cell;\">outline_line_color&nbsp;=&nbsp;{'value': '#e5e5e5'},</div></div><div class=\"d03bcea4-de96-4b06-a18f-0cf11159c3f3\" style=\"display: none;\"><div style=\"display: table-cell;\"></div><div style=\"display: table-cell;\">outline_line_dash&nbsp;=&nbsp;[],</div></div><div class=\"d03bcea4-de96-4b06-a18f-0cf11159c3f3\" style=\"display: none;\"><div style=\"display: table-cell;\"></div><div style=\"display: table-cell;\">outline_line_dash_offset&nbsp;=&nbsp;0,</div></div><div class=\"d03bcea4-de96-4b06-a18f-0cf11159c3f3\" style=\"display: none;\"><div style=\"display: table-cell;\"></div><div style=\"display: table-cell;\">outline_line_join&nbsp;=&nbsp;'miter',</div></div><div class=\"d03bcea4-de96-4b06-a18f-0cf11159c3f3\" style=\"display: none;\"><div style=\"display: table-cell;\"></div><div style=\"display: table-cell;\">outline_line_width&nbsp;=&nbsp;{'value': 1},</div></div><div class=\"d03bcea4-de96-4b06-a18f-0cf11159c3f3\" style=\"display: none;\"><div style=\"display: table-cell;\"></div><div style=\"display: table-cell;\">plot_height&nbsp;=&nbsp;300,</div></div><div class=\"d03bcea4-de96-4b06-a18f-0cf11159c3f3\" style=\"display: none;\"><div style=\"display: table-cell;\"></div><div style=\"display: table-cell;\">plot_width&nbsp;=&nbsp;800,</div></div><div class=\"d03bcea4-de96-4b06-a18f-0cf11159c3f3\" style=\"display: none;\"><div style=\"display: table-cell;\"></div><div style=\"display: table-cell;\">renderers&nbsp;=&nbsp;[LinearAxis(id='a37293cc-b251-4e53-823a-7b3478c8fbfd', ...), Grid(id='1222cc1d-1e77-422a-ba27-e3c41028bc0a', ...), CategoricalAxis(id='60f9a37b-de2d-43ab-b673-c420e77e6e0f', ...), Grid(id='99827035-9558-4e90-a914-a1cd8ca15308', ...), GlyphRenderer(id='beb5c70d-7ca7-44ec-bdf7-efe1d63b3244', ...)],</div></div><div class=\"d03bcea4-de96-4b06-a18f-0cf11159c3f3\" style=\"display: none;\"><div style=\"display: table-cell;\"></div><div style=\"display: table-cell;\">right&nbsp;=&nbsp;[],</div></div><div class=\"d03bcea4-de96-4b06-a18f-0cf11159c3f3\" style=\"display: none;\"><div style=\"display: table-cell;\"></div><div style=\"display: table-cell;\">sizing_mode&nbsp;=&nbsp;'fixed',</div></div><div class=\"d03bcea4-de96-4b06-a18f-0cf11159c3f3\" style=\"display: none;\"><div style=\"display: table-cell;\"></div><div style=\"display: table-cell;\">subscribed_events&nbsp;=&nbsp;[],</div></div><div class=\"d03bcea4-de96-4b06-a18f-0cf11159c3f3\" style=\"display: none;\"><div style=\"display: table-cell;\"></div><div style=\"display: table-cell;\">tags&nbsp;=&nbsp;[],</div></div><div class=\"d03bcea4-de96-4b06-a18f-0cf11159c3f3\" style=\"display: none;\"><div style=\"display: table-cell;\"></div><div style=\"display: table-cell;\">title&nbsp;=&nbsp;Title(id='460aff35-2a6f-4bfc-8ff2-92eeb2b33271', ...),</div></div><div class=\"d03bcea4-de96-4b06-a18f-0cf11159c3f3\" style=\"display: none;\"><div style=\"display: table-cell;\"></div><div style=\"display: table-cell;\">title_location&nbsp;=&nbsp;'above',</div></div><div class=\"d03bcea4-de96-4b06-a18f-0cf11159c3f3\" style=\"display: none;\"><div style=\"display: table-cell;\"></div><div style=\"display: table-cell;\">tool_events&nbsp;=&nbsp;ToolEvents(id='19e1a5cd-b49c-4548-a1c2-a0d41a73cf29', ...),</div></div><div class=\"d03bcea4-de96-4b06-a18f-0cf11159c3f3\" style=\"display: none;\"><div style=\"display: table-cell;\"></div><div style=\"display: table-cell;\">toolbar&nbsp;=&nbsp;Toolbar(id='68018a3c-75c8-4df6-a2f9-9d976f406b2f', ...),</div></div><div class=\"d03bcea4-de96-4b06-a18f-0cf11159c3f3\" style=\"display: none;\"><div style=\"display: table-cell;\"></div><div style=\"display: table-cell;\">toolbar_location&nbsp;=&nbsp;'right',</div></div><div class=\"d03bcea4-de96-4b06-a18f-0cf11159c3f3\" style=\"display: none;\"><div style=\"display: table-cell;\"></div><div style=\"display: table-cell;\">toolbar_sticky&nbsp;=&nbsp;True,</div></div><div class=\"d03bcea4-de96-4b06-a18f-0cf11159c3f3\" style=\"display: none;\"><div style=\"display: table-cell;\"></div><div style=\"display: table-cell;\">v_symmetry&nbsp;=&nbsp;False,</div></div><div class=\"d03bcea4-de96-4b06-a18f-0cf11159c3f3\" style=\"display: none;\"><div style=\"display: table-cell;\"></div><div style=\"display: table-cell;\">webgl&nbsp;=&nbsp;False,</div></div><div class=\"d03bcea4-de96-4b06-a18f-0cf11159c3f3\" style=\"display: none;\"><div style=\"display: table-cell;\"></div><div style=\"display: table-cell;\">width&nbsp;=&nbsp;None,</div></div><div class=\"d03bcea4-de96-4b06-a18f-0cf11159c3f3\" style=\"display: none;\"><div style=\"display: table-cell;\"></div><div style=\"display: table-cell;\">x_mapper_type&nbsp;=&nbsp;'auto',</div></div><div class=\"d03bcea4-de96-4b06-a18f-0cf11159c3f3\" style=\"display: none;\"><div style=\"display: table-cell;\"></div><div style=\"display: table-cell;\">x_range&nbsp;=&nbsp;Range1d(id='6b282cd2-52e4-4132-a8c8-33466c609bf4', ...),</div></div><div class=\"d03bcea4-de96-4b06-a18f-0cf11159c3f3\" style=\"display: none;\"><div style=\"display: table-cell;\"></div><div style=\"display: table-cell;\">y_mapper_type&nbsp;=&nbsp;'auto',</div></div><div class=\"d03bcea4-de96-4b06-a18f-0cf11159c3f3\" style=\"display: none;\"><div style=\"display: table-cell;\"></div><div style=\"display: table-cell;\">y_range&nbsp;=&nbsp;FactorRange(id='5a8bb987-95a3-4ed6-9353-488db53b0851', ...))</div></div></div>\n",
       "<script>\n",
       "(function() {\n",
       "  var expanded = false;\n",
       "  var ellipsis = document.getElementById(\"37adfdde-2770-4943-87fd-8adad166a03e\");\n",
       "  ellipsis.addEventListener(\"click\", function() {\n",
       "    var rows = document.getElementsByClassName(\"d03bcea4-de96-4b06-a18f-0cf11159c3f3\");\n",
       "    for (var i = 0; i < rows.length; i++) {\n",
       "      var el = rows[i];\n",
       "      el.style.display = expanded ? \"none\" : \"table-row\";\n",
       "    }\n",
       "    ellipsis.innerHTML = expanded ? \"&hellip;)\" : \"&lsaquo;&lsaquo;&lsaquo;\";\n",
       "    expanded = !expanded;\n",
       "  });\n",
       "})();\n",
       "</script>\n"
      ],
      "text/plain": [
       "Figure(id='c01ff68f-4ec4-403b-a62b-3024002a93ba', ...)"
      ]
     },
     "execution_count": 63,
     "metadata": {},
     "output_type": "execute_result"
    }
   ],
   "source": [
    "prof.visualize()"
   ]
  }
 ],
 "metadata": {
  "kernelspec": {
   "display_name": "Python 2",
   "language": "python",
   "name": "python2"
  },
  "language_info": {
   "codemirror_mode": {
    "name": "ipython",
    "version": 2
   },
   "file_extension": ".py",
   "mimetype": "text/x-python",
   "name": "python",
   "nbconvert_exporter": "python",
   "pygments_lexer": "ipython2",
   "version": "2.7.13"
  }
 },
 "nbformat": 4,
 "nbformat_minor": 2
}
