{
 "cells": [
  {
   "cell_type": "code",
   "execution_count": 2,
   "metadata": {
    "collapsed": true
   },
   "outputs": [],
   "source": [
    "import sys\n",
    "sys.path.append('/Users/pradap/Documents/Research/Python-Package/scaling/dmagellan/')"
   ]
  },
  {
   "cell_type": "code",
   "execution_count": 3,
   "metadata": {},
   "outputs": [],
   "source": [
    "from dmagellan.core.downsample import *"
   ]
  },
  {
   "cell_type": "code",
   "execution_count": 4,
   "metadata": {
    "collapsed": true
   },
   "outputs": [],
   "source": [
    "import pandas \n",
    "import string\n",
    "#########\n",
    "def preprocess_table(dataframe, idcol):\n",
    "    strcols = list(get_str_cols(dataframe))\n",
    "    strcols.append(idcol)\n",
    "    projdf = dataframe[strcols]\n",
    "    objsc = StringContainer()\n",
    "    for row in projdf.itertuples():\n",
    "        colvalues = row[1:-1]\n",
    "        uid = row[-1]\n",
    "        strings = [colvalue.strip() for colvalue in colvalues if not pd.isnull(colvalue)]\n",
    "        concat_row = ' '.join(strings).lower()\n",
    "#         print(concat_row)\n",
    "        concat_row = concat_row.translate(string.punctuation)\n",
    "        objsc.push_back(uid, str2bytes(concat_row))\n",
    "    return objsc"
   ]
  },
  {
   "cell_type": "code",
   "execution_count": 5,
   "metadata": {
    "collapsed": true
   },
   "outputs": [],
   "source": [
    "def tokenize_strings(objsc, stopwords):\n",
    "    n = objsc.size()\n",
    "    objtc = TokenContainer()\n",
    "    objtc.tokenize(objsc, stopwords)\n",
    "    return objtc"
   ]
  },
  {
   "cell_type": "code",
   "execution_count": 6,
   "metadata": {
    "collapsed": true
   },
   "outputs": [],
   "source": [
    "def build_inv_index(objtc):\n",
    "    inv_obj = InvertedIndex()\n",
    "    inv_obj.build_inv_index_ds(objtc)\n",
    "    return inv_obj\n",
    "\n",
    "def probe(objtc, objinvindex, yparam):\n",
    "    objprobe = Prober()\n",
    "    objprobe.probe(objtc, objinvindex, yparam)\n",
    "    return objprobe"
   ]
  },
  {
   "cell_type": "code",
   "execution_count": 7,
   "metadata": {
    "collapsed": true
   },
   "outputs": [],
   "source": [
    "def get_lrids(result_list):\n",
    "    lids = set()\n",
    "    rids = set()\n",
    "    for i in range(len(result_list)):\n",
    "        result = result_list[i]\n",
    "        lids.update(result.get_lids())\n",
    "        rids.update(result.get_rids())\n",
    "    lids = sorted(lids)\n",
    "    rids = sorted(rids)\n",
    "    return [lids, rids]\n",
    "    \n",
    "    \n",
    "def postprocess(lrids, ltable, rtable, lid, rid):\n",
    "    s_ltable = ltable.map_partitions(lambda x: x[x[lid].isin(lrids[0])], meta=ltable)\n",
    "    s_rtable = rtable.map_partitions(lambda x: x[x[rid].isin(lrids[1])], meta=rtable)\n",
    "    return (s_ltable, s_rtable)\n",
    "        "
   ]
  },
  {
   "cell_type": "code",
   "execution_count": 8,
   "metadata": {
    "collapsed": true
   },
   "outputs": [],
   "source": [
    "# pandas dask\n",
    "import numpy as np\n",
    "from dask import threaded\n",
    "import dask.dataframe as dd\n",
    "def sample_df(df, idcol, size):\n",
    "    n = len(df)\n",
    "    locs = np.random.choice(list(df[idcol].compute()), size)\n",
    "    locs = list(set(locs))\n",
    "    result = df.map_partitions(lambda x: x[x[idcol].isin(locs)])\n",
    "    return result\n",
    "    \n",
    "def pandas_dask(ltable, rsample, lid, rid, size, yparam, stopwords, lchunks=None, rchunks=None, \n",
    "                scheduler=threaded.get):\n",
    "    \n",
    "    if lchunks is not None and ltable.npartitions > lchunks:\n",
    "        ltable.repartition(lchunks)\n",
    "    ltokens=[]\n",
    "    for i in range(ltable.npartitions):\n",
    "        lstrings = (delayed)(preprocess_table)(ltable.get_partition(i), lid)\n",
    "        tokens = (delayed)(tokenize_strings)(lstrings, stopwords)\n",
    "        ltokens.append(tokens)\n",
    "    \n",
    "    invindex = (delayed)(build_inv_index)(ltokens)\n",
    "    \n",
    "#     rsample = sample_df(rtable, rid, size)\n",
    "    \n",
    "#     if rchunks is not None and rsample.npartitions > rchunks:\n",
    "#         rsample.repartition(rchunks)\n",
    "    \n",
    "    print(rsample.npartitions)\n",
    "    probe_results = []\n",
    "    for i in range(rsample.npartitions):\n",
    "        rstrings = (delayed)(preprocess_table)(rsample.get_partition(i), rid)\n",
    "        rtokens = (delayed)(tokenize_strings)(rstrings, stopwords)\n",
    "        probe_result = (delayed)(probe)(rtokens, invindex, yparam)\n",
    "        probe_results.append(probe_result)\n",
    "    \n",
    "    lr_ids = (delayed)(get_lrids)(probe_results)\n",
    "    sampled_tables = (delayed)(postprocess)(lr_ids, ltable, rsample, lid, rid )\n",
    "    x = dd.from_delayed(sampled_tables[0], meta=A)\n",
    "    y = dd.from_delayed(sampled_tables[1], meta=B)\n",
    "    return [x,y]\n",
    "    \n",
    "    "
   ]
  },
  {
   "cell_type": "code",
   "execution_count": 9,
   "metadata": {
    "collapsed": true
   },
   "outputs": [],
   "source": [
    "import os\n",
    "def get_stop_words(path):\n",
    "    stop_words_set = set()\n",
    "    with open(path, \"rb\") as stopwords_file:\n",
    "        for stop_words in stopwords_file:\n",
    "            stop_words_set.add(stop_words.rstrip())\n",
    "\n",
    "    return list(stop_words_set)"
   ]
  },
  {
   "cell_type": "code",
   "execution_count": 10,
   "metadata": {
    "collapsed": true
   },
   "outputs": [],
   "source": [
    "stopwords = get_stop_words('../../datasets/stopwords')\n",
    "stopwords.extend(['the', 'my', 'i', 'andre', 'from', 'a', 'of', 'the', 'version', 'love', 'live', 'la', 'mix', 'album', \\\n",
    "                  'dont'])"
   ]
  },
  {
   "cell_type": "code",
   "execution_count": 11,
   "metadata": {},
   "outputs": [],
   "source": [
    "# import dask.dataframe as dd\n",
    "\n",
    "# A = dd.read_csv('../../datasets/tracks.csv', low_memory=False, blocksize=100000)\n",
    "# B = dd.read_csv('../../datasets/songs.csv', low_memory=False, blocksize=100000)\n",
    "\n",
    "# sampled_tables = pandas_dask(A, B, 'id', 'id', 10000, 1, stopwords=stopwords)"
   ]
  },
  {
   "cell_type": "code",
   "execution_count": 23,
   "metadata": {
    "collapsed": true
   },
   "outputs": [],
   "source": [
    "A = pd.read_csv('../../datasets/tracks.csv', low_memory=False, encoding='latin-1')\n",
    "B = pd.read_csv('../../datasets/songs.csv', low_memory=False, encoding='latin-1')"
   ]
  },
  {
   "cell_type": "code",
   "execution_count": 24,
   "metadata": {},
   "outputs": [],
   "source": [
    "ltable = dd.from_pandas(A, npartitions=4)"
   ]
  },
  {
   "cell_type": "code",
   "execution_count": 25,
   "metadata": {},
   "outputs": [],
   "source": [
    "rs = B.head(10000)\n",
    "rsample = dd.from_pandas(rs, npartitions=4)"
   ]
  },
  {
   "cell_type": "code",
   "execution_count": 15,
   "metadata": {},
   "outputs": [
    {
     "data": {
      "text/plain": [
       "734485"
      ]
     },
     "execution_count": 15,
     "metadata": {},
     "output_type": "execute_result"
    }
   ],
   "source": [
    "len(ltable)"
   ]
  },
  {
   "cell_type": "code",
   "execution_count": 26,
   "metadata": {},
   "outputs": [
    {
     "name": "stdout",
     "output_type": "stream",
     "text": [
      "4\n"
     ]
    }
   ],
   "source": [
    "sampled_tables = pandas_dask(ltable, rsample, 'id', 'id', 10000, 1, stopwords=stopwords)"
   ]
  },
  {
   "cell_type": "code",
   "execution_count": 27,
   "metadata": {},
   "outputs": [
    {
     "name": "stdout",
     "output_type": "stream",
     "text": [
      "[#############                           ] | 34% Completed | 23.1s\n"
     ]
    },
    {
     "ename": "TypeError",
     "evalue": "character mapping must return integer, None or unicode\n\nTraceback\n---------\n  File \"/Users/pradap/miniconda2/lib/python2.7/site-packages/dask/async.py\", line 266, in execute_task\n    result = _execute_task(task, data)\n  File \"/Users/pradap/miniconda2/lib/python2.7/site-packages/dask/async.py\", line 247, in _execute_task\n    return func(*args2)\n  File \"<ipython-input-4-7c60cab96ef4>\", line 15, in preprocess_table\n    concat_row = concat_row.translate(string.punctuation)\n",
     "output_type": "error",
     "traceback": [
      "\u001b[0;31m---------------------------------------------------------------------------\u001b[0m",
      "\u001b[0;31mTypeError\u001b[0m                                 Traceback (most recent call last)",
      "\u001b[0;32m<ipython-input-27-01d0f38d2a72>\u001b[0m in \u001b[0;36m<module>\u001b[0;34m()\u001b[0m\n\u001b[1;32m      2\u001b[0m \u001b[0;31m# with Profiler() as prof, ResourceProfiler(dt=0.25) as rprof, CacheProfiler() as cprof, ProgressBar():\u001b[0m\u001b[0;34m\u001b[0m\u001b[0;34m\u001b[0m\u001b[0m\n\u001b[1;32m      3\u001b[0m \u001b[0;32mwith\u001b[0m \u001b[0mProgressBar\u001b[0m\u001b[0;34m(\u001b[0m\u001b[0;34m)\u001b[0m\u001b[0;34m:\u001b[0m\u001b[0;34m\u001b[0m\u001b[0m\n\u001b[0;32m----> 4\u001b[0;31m     \u001b[0mresult\u001b[0m \u001b[0;34m=\u001b[0m \u001b[0msampled_tables\u001b[0m\u001b[0;34m[\u001b[0m\u001b[0;36m0\u001b[0m\u001b[0;34m]\u001b[0m\u001b[0;34m.\u001b[0m\u001b[0mcompute\u001b[0m\u001b[0;34m(\u001b[0m\u001b[0;34m)\u001b[0m\u001b[0;34m\u001b[0m\u001b[0m\n\u001b[0m",
      "\u001b[0;32m/Users/pradap/miniconda2/lib/python2.7/site-packages/dask/base.pyc\u001b[0m in \u001b[0;36mcompute\u001b[0;34m(self, **kwargs)\u001b[0m\n\u001b[1;32m     93\u001b[0m             \u001b[0mExtra\u001b[0m \u001b[0mkeywords\u001b[0m \u001b[0mto\u001b[0m \u001b[0mforward\u001b[0m \u001b[0mto\u001b[0m \u001b[0mthe\u001b[0m \u001b[0mscheduler\u001b[0m \u001b[0;34m`\u001b[0m\u001b[0;34m`\u001b[0m\u001b[0mget\u001b[0m\u001b[0;34m`\u001b[0m\u001b[0;34m`\u001b[0m \u001b[0mfunction\u001b[0m\u001b[0;34m.\u001b[0m\u001b[0;34m\u001b[0m\u001b[0m\n\u001b[1;32m     94\u001b[0m         \"\"\"\n\u001b[0;32m---> 95\u001b[0;31m         \u001b[0;34m(\u001b[0m\u001b[0mresult\u001b[0m\u001b[0;34m,\u001b[0m\u001b[0;34m)\u001b[0m \u001b[0;34m=\u001b[0m \u001b[0mcompute\u001b[0m\u001b[0;34m(\u001b[0m\u001b[0mself\u001b[0m\u001b[0;34m,\u001b[0m \u001b[0mtraverse\u001b[0m\u001b[0;34m=\u001b[0m\u001b[0mFalse\u001b[0m\u001b[0;34m,\u001b[0m \u001b[0;34m**\u001b[0m\u001b[0mkwargs\u001b[0m\u001b[0;34m)\u001b[0m\u001b[0;34m\u001b[0m\u001b[0m\n\u001b[0m\u001b[1;32m     96\u001b[0m         \u001b[0;32mreturn\u001b[0m \u001b[0mresult\u001b[0m\u001b[0;34m\u001b[0m\u001b[0m\n\u001b[1;32m     97\u001b[0m \u001b[0;34m\u001b[0m\u001b[0m\n",
      "\u001b[0;32m/Users/pradap/miniconda2/lib/python2.7/site-packages/dask/base.pyc\u001b[0m in \u001b[0;36mcompute\u001b[0;34m(*args, **kwargs)\u001b[0m\n\u001b[1;32m    200\u001b[0m     \u001b[0mdsk\u001b[0m \u001b[0;34m=\u001b[0m \u001b[0mcollections_to_dsk\u001b[0m\u001b[0;34m(\u001b[0m\u001b[0mvariables\u001b[0m\u001b[0;34m,\u001b[0m \u001b[0moptimize_graph\u001b[0m\u001b[0;34m,\u001b[0m \u001b[0;34m**\u001b[0m\u001b[0mkwargs\u001b[0m\u001b[0;34m)\u001b[0m\u001b[0;34m\u001b[0m\u001b[0m\n\u001b[1;32m    201\u001b[0m     \u001b[0mkeys\u001b[0m \u001b[0;34m=\u001b[0m \u001b[0;34m[\u001b[0m\u001b[0mvar\u001b[0m\u001b[0;34m.\u001b[0m\u001b[0m_keys\u001b[0m\u001b[0;34m(\u001b[0m\u001b[0;34m)\u001b[0m \u001b[0;32mfor\u001b[0m \u001b[0mvar\u001b[0m \u001b[0;32min\u001b[0m \u001b[0mvariables\u001b[0m\u001b[0;34m]\u001b[0m\u001b[0;34m\u001b[0m\u001b[0m\n\u001b[0;32m--> 202\u001b[0;31m     \u001b[0mresults\u001b[0m \u001b[0;34m=\u001b[0m \u001b[0mget\u001b[0m\u001b[0;34m(\u001b[0m\u001b[0mdsk\u001b[0m\u001b[0;34m,\u001b[0m \u001b[0mkeys\u001b[0m\u001b[0;34m,\u001b[0m \u001b[0;34m**\u001b[0m\u001b[0mkwargs\u001b[0m\u001b[0;34m)\u001b[0m\u001b[0;34m\u001b[0m\u001b[0m\n\u001b[0m\u001b[1;32m    203\u001b[0m \u001b[0;34m\u001b[0m\u001b[0m\n\u001b[1;32m    204\u001b[0m     \u001b[0mresults_iter\u001b[0m \u001b[0;34m=\u001b[0m \u001b[0miter\u001b[0m\u001b[0;34m(\u001b[0m\u001b[0mresults\u001b[0m\u001b[0;34m)\u001b[0m\u001b[0;34m\u001b[0m\u001b[0m\n",
      "\u001b[0;32m/Users/pradap/miniconda2/lib/python2.7/site-packages/dask/threaded.pyc\u001b[0m in \u001b[0;36mget\u001b[0;34m(dsk, result, cache, num_workers, **kwargs)\u001b[0m\n\u001b[1;32m     74\u001b[0m     results = get_async(pool.apply_async, len(pool._pool), dsk, result,\n\u001b[1;32m     75\u001b[0m                         \u001b[0mcache\u001b[0m\u001b[0;34m=\u001b[0m\u001b[0mcache\u001b[0m\u001b[0;34m,\u001b[0m \u001b[0mget_id\u001b[0m\u001b[0;34m=\u001b[0m\u001b[0m_thread_get_id\u001b[0m\u001b[0;34m,\u001b[0m\u001b[0;34m\u001b[0m\u001b[0m\n\u001b[0;32m---> 76\u001b[0;31m                         **kwargs)\n\u001b[0m\u001b[1;32m     77\u001b[0m \u001b[0;34m\u001b[0m\u001b[0m\n\u001b[1;32m     78\u001b[0m     \u001b[0;31m# Cleanup pools associated to dead threads\u001b[0m\u001b[0;34m\u001b[0m\u001b[0;34m\u001b[0m\u001b[0m\n",
      "\u001b[0;32m/Users/pradap/miniconda2/lib/python2.7/site-packages/dask/async.pyc\u001b[0m in \u001b[0;36mget_async\u001b[0;34m(apply_async, num_workers, dsk, result, cache, get_id, raise_on_exception, rerun_exceptions_locally, callbacks, dumps, loads, **kwargs)\u001b[0m\n\u001b[1;32m    498\u001b[0m                     \u001b[0m_execute_task\u001b[0m\u001b[0;34m(\u001b[0m\u001b[0mtask\u001b[0m\u001b[0;34m,\u001b[0m \u001b[0mdata\u001b[0m\u001b[0;34m)\u001b[0m  \u001b[0;31m# Re-execute locally\u001b[0m\u001b[0;34m\u001b[0m\u001b[0m\n\u001b[1;32m    499\u001b[0m                 \u001b[0;32melse\u001b[0m\u001b[0;34m:\u001b[0m\u001b[0;34m\u001b[0m\u001b[0m\n\u001b[0;32m--> 500\u001b[0;31m                     \u001b[0;32mraise\u001b[0m\u001b[0;34m(\u001b[0m\u001b[0mremote_exception\u001b[0m\u001b[0;34m(\u001b[0m\u001b[0mres\u001b[0m\u001b[0;34m,\u001b[0m \u001b[0mtb\u001b[0m\u001b[0;34m)\u001b[0m\u001b[0;34m)\u001b[0m\u001b[0;34m\u001b[0m\u001b[0m\n\u001b[0m\u001b[1;32m    501\u001b[0m             \u001b[0mstate\u001b[0m\u001b[0;34m[\u001b[0m\u001b[0;34m'cache'\u001b[0m\u001b[0;34m]\u001b[0m\u001b[0;34m[\u001b[0m\u001b[0mkey\u001b[0m\u001b[0;34m]\u001b[0m \u001b[0;34m=\u001b[0m \u001b[0mres\u001b[0m\u001b[0;34m\u001b[0m\u001b[0m\n\u001b[1;32m    502\u001b[0m             \u001b[0mfinish_task\u001b[0m\u001b[0;34m(\u001b[0m\u001b[0mdsk\u001b[0m\u001b[0;34m,\u001b[0m \u001b[0mkey\u001b[0m\u001b[0;34m,\u001b[0m \u001b[0mstate\u001b[0m\u001b[0;34m,\u001b[0m \u001b[0mresults\u001b[0m\u001b[0;34m,\u001b[0m \u001b[0mkeyorder\u001b[0m\u001b[0;34m.\u001b[0m\u001b[0mget\u001b[0m\u001b[0;34m)\u001b[0m\u001b[0;34m\u001b[0m\u001b[0m\n",
      "\u001b[0;31mTypeError\u001b[0m: character mapping must return integer, None or unicode\n\nTraceback\n---------\n  File \"/Users/pradap/miniconda2/lib/python2.7/site-packages/dask/async.py\", line 266, in execute_task\n    result = _execute_task(task, data)\n  File \"/Users/pradap/miniconda2/lib/python2.7/site-packages/dask/async.py\", line 247, in _execute_task\n    return func(*args2)\n  File \"<ipython-input-4-7c60cab96ef4>\", line 15, in preprocess_table\n    concat_row = concat_row.translate(string.punctuation)\n"
     ]
    }
   ],
   "source": [
    "from dask.diagnostics import Profiler, ResourceProfiler, CacheProfiler, ProgressBar\n",
    "# with Profiler() as prof, ResourceProfiler(dt=0.25) as rprof, CacheProfiler() as cprof, ProgressBar():\n",
    "with ProgressBar():\n",
    "    result = sampled_tables[0].compute()"
   ]
  },
  {
   "cell_type": "code",
   "execution_count": 14,
   "metadata": {},
   "outputs": [
    {
     "data": {
      "text/plain": [
       "pandas.core.frame.DataFrame"
      ]
     },
     "execution_count": 14,
     "metadata": {},
     "output_type": "execute_result"
    }
   ],
   "source": [
    "lrids = lr"
   ]
  },
  {
   "cell_type": "code",
   "execution_count": 101,
   "metadata": {},
   "outputs": [
    {
     "data": {
      "text/html": [
       "<div style=\"display: table;\"><div style=\"display: table-row;\"><div style=\"display: table-cell;\"><b title=\"bokeh.plotting.figure.Figure\">Figure</b>(</div><div style=\"display: table-cell;\">id&nbsp;=&nbsp;'490d30c4-2b96-4e96-ad74-512bdd0ac251', <span id=\"90036879-9075-4c16-8614-af72c3687ef0\" style=\"cursor: pointer;\">&hellip;)</span></div></div><div class=\"6889f323-693e-47ca-98b9-cc34d228b201\" style=\"display: none;\"><div style=\"display: table-cell;\"></div><div style=\"display: table-cell;\">above&nbsp;=&nbsp;[],</div></div><div class=\"6889f323-693e-47ca-98b9-cc34d228b201\" style=\"display: none;\"><div style=\"display: table-cell;\"></div><div style=\"display: table-cell;\">background_fill_alpha&nbsp;=&nbsp;{'value': 1.0},</div></div><div class=\"6889f323-693e-47ca-98b9-cc34d228b201\" style=\"display: none;\"><div style=\"display: table-cell;\"></div><div style=\"display: table-cell;\">background_fill_color&nbsp;=&nbsp;{'value': '#ffffff'},</div></div><div class=\"6889f323-693e-47ca-98b9-cc34d228b201\" style=\"display: none;\"><div style=\"display: table-cell;\"></div><div style=\"display: table-cell;\">below&nbsp;=&nbsp;[LinearAxis(id='cf8a8f37-8d07-45f3-a5d2-65724ccd2f32', ...)],</div></div><div class=\"6889f323-693e-47ca-98b9-cc34d228b201\" style=\"display: none;\"><div style=\"display: table-cell;\"></div><div style=\"display: table-cell;\">border_fill_alpha&nbsp;=&nbsp;{'value': 1.0},</div></div><div class=\"6889f323-693e-47ca-98b9-cc34d228b201\" style=\"display: none;\"><div style=\"display: table-cell;\"></div><div style=\"display: table-cell;\">border_fill_color&nbsp;=&nbsp;{'value': '#ffffff'},</div></div><div class=\"6889f323-693e-47ca-98b9-cc34d228b201\" style=\"display: none;\"><div style=\"display: table-cell;\"></div><div style=\"display: table-cell;\">css_classes&nbsp;=&nbsp;None,</div></div><div class=\"6889f323-693e-47ca-98b9-cc34d228b201\" style=\"display: none;\"><div style=\"display: table-cell;\"></div><div style=\"display: table-cell;\">disabled&nbsp;=&nbsp;False,</div></div><div class=\"6889f323-693e-47ca-98b9-cc34d228b201\" style=\"display: none;\"><div style=\"display: table-cell;\"></div><div style=\"display: table-cell;\">extra_x_ranges&nbsp;=&nbsp;{},</div></div><div class=\"6889f323-693e-47ca-98b9-cc34d228b201\" style=\"display: none;\"><div style=\"display: table-cell;\"></div><div style=\"display: table-cell;\">extra_y_ranges&nbsp;=&nbsp;{},</div></div><div class=\"6889f323-693e-47ca-98b9-cc34d228b201\" style=\"display: none;\"><div style=\"display: table-cell;\"></div><div style=\"display: table-cell;\">h_symmetry&nbsp;=&nbsp;True,</div></div><div class=\"6889f323-693e-47ca-98b9-cc34d228b201\" style=\"display: none;\"><div style=\"display: table-cell;\"></div><div style=\"display: table-cell;\">height&nbsp;=&nbsp;None,</div></div><div class=\"6889f323-693e-47ca-98b9-cc34d228b201\" style=\"display: none;\"><div style=\"display: table-cell;\"></div><div style=\"display: table-cell;\">hidpi&nbsp;=&nbsp;True,</div></div><div class=\"6889f323-693e-47ca-98b9-cc34d228b201\" style=\"display: none;\"><div style=\"display: table-cell;\"></div><div style=\"display: table-cell;\">js_event_callbacks&nbsp;=&nbsp;{},</div></div><div class=\"6889f323-693e-47ca-98b9-cc34d228b201\" style=\"display: none;\"><div style=\"display: table-cell;\"></div><div style=\"display: table-cell;\">js_property_callbacks&nbsp;=&nbsp;{},</div></div><div class=\"6889f323-693e-47ca-98b9-cc34d228b201\" style=\"display: none;\"><div style=\"display: table-cell;\"></div><div style=\"display: table-cell;\">left&nbsp;=&nbsp;[CategoricalAxis(id='0c0b90bf-a06e-4372-ab4a-cee76e670946', ...)],</div></div><div class=\"6889f323-693e-47ca-98b9-cc34d228b201\" style=\"display: none;\"><div style=\"display: table-cell;\"></div><div style=\"display: table-cell;\">lod_factor&nbsp;=&nbsp;10,</div></div><div class=\"6889f323-693e-47ca-98b9-cc34d228b201\" style=\"display: none;\"><div style=\"display: table-cell;\"></div><div style=\"display: table-cell;\">lod_interval&nbsp;=&nbsp;300,</div></div><div class=\"6889f323-693e-47ca-98b9-cc34d228b201\" style=\"display: none;\"><div style=\"display: table-cell;\"></div><div style=\"display: table-cell;\">lod_threshold&nbsp;=&nbsp;2000,</div></div><div class=\"6889f323-693e-47ca-98b9-cc34d228b201\" style=\"display: none;\"><div style=\"display: table-cell;\"></div><div style=\"display: table-cell;\">lod_timeout&nbsp;=&nbsp;500,</div></div><div class=\"6889f323-693e-47ca-98b9-cc34d228b201\" style=\"display: none;\"><div style=\"display: table-cell;\"></div><div style=\"display: table-cell;\">min_border&nbsp;=&nbsp;5,</div></div><div class=\"6889f323-693e-47ca-98b9-cc34d228b201\" style=\"display: none;\"><div style=\"display: table-cell;\"></div><div style=\"display: table-cell;\">min_border_bottom&nbsp;=&nbsp;None,</div></div><div class=\"6889f323-693e-47ca-98b9-cc34d228b201\" style=\"display: none;\"><div style=\"display: table-cell;\"></div><div style=\"display: table-cell;\">min_border_left&nbsp;=&nbsp;None,</div></div><div class=\"6889f323-693e-47ca-98b9-cc34d228b201\" style=\"display: none;\"><div style=\"display: table-cell;\"></div><div style=\"display: table-cell;\">min_border_right&nbsp;=&nbsp;None,</div></div><div class=\"6889f323-693e-47ca-98b9-cc34d228b201\" style=\"display: none;\"><div style=\"display: table-cell;\"></div><div style=\"display: table-cell;\">min_border_top&nbsp;=&nbsp;None,</div></div><div class=\"6889f323-693e-47ca-98b9-cc34d228b201\" style=\"display: none;\"><div style=\"display: table-cell;\"></div><div style=\"display: table-cell;\">name&nbsp;=&nbsp;None,</div></div><div class=\"6889f323-693e-47ca-98b9-cc34d228b201\" style=\"display: none;\"><div style=\"display: table-cell;\"></div><div style=\"display: table-cell;\">outline_line_alpha&nbsp;=&nbsp;{'value': 1.0},</div></div><div class=\"6889f323-693e-47ca-98b9-cc34d228b201\" style=\"display: none;\"><div style=\"display: table-cell;\"></div><div style=\"display: table-cell;\">outline_line_cap&nbsp;=&nbsp;'butt',</div></div><div class=\"6889f323-693e-47ca-98b9-cc34d228b201\" style=\"display: none;\"><div style=\"display: table-cell;\"></div><div style=\"display: table-cell;\">outline_line_color&nbsp;=&nbsp;{'value': '#e5e5e5'},</div></div><div class=\"6889f323-693e-47ca-98b9-cc34d228b201\" style=\"display: none;\"><div style=\"display: table-cell;\"></div><div style=\"display: table-cell;\">outline_line_dash&nbsp;=&nbsp;[],</div></div><div class=\"6889f323-693e-47ca-98b9-cc34d228b201\" style=\"display: none;\"><div style=\"display: table-cell;\"></div><div style=\"display: table-cell;\">outline_line_dash_offset&nbsp;=&nbsp;0,</div></div><div class=\"6889f323-693e-47ca-98b9-cc34d228b201\" style=\"display: none;\"><div style=\"display: table-cell;\"></div><div style=\"display: table-cell;\">outline_line_join&nbsp;=&nbsp;'miter',</div></div><div class=\"6889f323-693e-47ca-98b9-cc34d228b201\" style=\"display: none;\"><div style=\"display: table-cell;\"></div><div style=\"display: table-cell;\">outline_line_width&nbsp;=&nbsp;{'value': 1},</div></div><div class=\"6889f323-693e-47ca-98b9-cc34d228b201\" style=\"display: none;\"><div style=\"display: table-cell;\"></div><div style=\"display: table-cell;\">plot_height&nbsp;=&nbsp;300,</div></div><div class=\"6889f323-693e-47ca-98b9-cc34d228b201\" style=\"display: none;\"><div style=\"display: table-cell;\"></div><div style=\"display: table-cell;\">plot_width&nbsp;=&nbsp;800,</div></div><div class=\"6889f323-693e-47ca-98b9-cc34d228b201\" style=\"display: none;\"><div style=\"display: table-cell;\"></div><div style=\"display: table-cell;\">renderers&nbsp;=&nbsp;[LinearAxis(id='cf8a8f37-8d07-45f3-a5d2-65724ccd2f32', ...), Grid(id='c818ab49-236a-41b1-b1ea-81e7c1ca4aa1', ...), CategoricalAxis(id='0c0b90bf-a06e-4372-ab4a-cee76e670946', ...), Grid(id='d64569a9-89a8-4c68-a174-80569f8cf240', ...), GlyphRenderer(id='80962642-0c70-4be8-ab33-860f3071a001', ...)],</div></div><div class=\"6889f323-693e-47ca-98b9-cc34d228b201\" style=\"display: none;\"><div style=\"display: table-cell;\"></div><div style=\"display: table-cell;\">right&nbsp;=&nbsp;[],</div></div><div class=\"6889f323-693e-47ca-98b9-cc34d228b201\" style=\"display: none;\"><div style=\"display: table-cell;\"></div><div style=\"display: table-cell;\">sizing_mode&nbsp;=&nbsp;'fixed',</div></div><div class=\"6889f323-693e-47ca-98b9-cc34d228b201\" style=\"display: none;\"><div style=\"display: table-cell;\"></div><div style=\"display: table-cell;\">subscribed_events&nbsp;=&nbsp;[],</div></div><div class=\"6889f323-693e-47ca-98b9-cc34d228b201\" style=\"display: none;\"><div style=\"display: table-cell;\"></div><div style=\"display: table-cell;\">tags&nbsp;=&nbsp;[],</div></div><div class=\"6889f323-693e-47ca-98b9-cc34d228b201\" style=\"display: none;\"><div style=\"display: table-cell;\"></div><div style=\"display: table-cell;\">title&nbsp;=&nbsp;Title(id='e9f61f41-d39e-45fc-b0bc-667e48edad96', ...),</div></div><div class=\"6889f323-693e-47ca-98b9-cc34d228b201\" style=\"display: none;\"><div style=\"display: table-cell;\"></div><div style=\"display: table-cell;\">title_location&nbsp;=&nbsp;'above',</div></div><div class=\"6889f323-693e-47ca-98b9-cc34d228b201\" style=\"display: none;\"><div style=\"display: table-cell;\"></div><div style=\"display: table-cell;\">tool_events&nbsp;=&nbsp;ToolEvents(id='a11083f6-3c9b-43b6-8388-2f7d68a5d22a', ...),</div></div><div class=\"6889f323-693e-47ca-98b9-cc34d228b201\" style=\"display: none;\"><div style=\"display: table-cell;\"></div><div style=\"display: table-cell;\">toolbar&nbsp;=&nbsp;Toolbar(id='c6027482-b9ac-4d24-88f5-6771926dce26', ...),</div></div><div class=\"6889f323-693e-47ca-98b9-cc34d228b201\" style=\"display: none;\"><div style=\"display: table-cell;\"></div><div style=\"display: table-cell;\">toolbar_location&nbsp;=&nbsp;'right',</div></div><div class=\"6889f323-693e-47ca-98b9-cc34d228b201\" style=\"display: none;\"><div style=\"display: table-cell;\"></div><div style=\"display: table-cell;\">toolbar_sticky&nbsp;=&nbsp;True,</div></div><div class=\"6889f323-693e-47ca-98b9-cc34d228b201\" style=\"display: none;\"><div style=\"display: table-cell;\"></div><div style=\"display: table-cell;\">v_symmetry&nbsp;=&nbsp;False,</div></div><div class=\"6889f323-693e-47ca-98b9-cc34d228b201\" style=\"display: none;\"><div style=\"display: table-cell;\"></div><div style=\"display: table-cell;\">webgl&nbsp;=&nbsp;False,</div></div><div class=\"6889f323-693e-47ca-98b9-cc34d228b201\" style=\"display: none;\"><div style=\"display: table-cell;\"></div><div style=\"display: table-cell;\">width&nbsp;=&nbsp;None,</div></div><div class=\"6889f323-693e-47ca-98b9-cc34d228b201\" style=\"display: none;\"><div style=\"display: table-cell;\"></div><div style=\"display: table-cell;\">x_mapper_type&nbsp;=&nbsp;'auto',</div></div><div class=\"6889f323-693e-47ca-98b9-cc34d228b201\" style=\"display: none;\"><div style=\"display: table-cell;\"></div><div style=\"display: table-cell;\">x_range&nbsp;=&nbsp;Range1d(id='f5caea14-bc42-4adb-afe0-80bf53d87d73', ...),</div></div><div class=\"6889f323-693e-47ca-98b9-cc34d228b201\" style=\"display: none;\"><div style=\"display: table-cell;\"></div><div style=\"display: table-cell;\">y_mapper_type&nbsp;=&nbsp;'auto',</div></div><div class=\"6889f323-693e-47ca-98b9-cc34d228b201\" style=\"display: none;\"><div style=\"display: table-cell;\"></div><div style=\"display: table-cell;\">y_range&nbsp;=&nbsp;FactorRange(id='0fdd36ea-f570-4ed0-aa0f-6ead75f98c42', ...))</div></div></div>\n",
       "<script>\n",
       "(function() {\n",
       "  var expanded = false;\n",
       "  var ellipsis = document.getElementById(\"90036879-9075-4c16-8614-af72c3687ef0\");\n",
       "  ellipsis.addEventListener(\"click\", function() {\n",
       "    var rows = document.getElementsByClassName(\"6889f323-693e-47ca-98b9-cc34d228b201\");\n",
       "    for (var i = 0; i < rows.length; i++) {\n",
       "      var el = rows[i];\n",
       "      el.style.display = expanded ? \"none\" : \"table-row\";\n",
       "    }\n",
       "    ellipsis.innerHTML = expanded ? \"&hellip;)\" : \"&lsaquo;&lsaquo;&lsaquo;\";\n",
       "    expanded = !expanded;\n",
       "  });\n",
       "})();\n",
       "</script>\n"
      ],
      "text/plain": [
       "Figure(id='490d30c4-2b96-4e96-ad74-512bdd0ac251', ...)"
      ]
     },
     "execution_count": 101,
     "metadata": {},
     "output_type": "execute_result"
    }
   ],
   "source": [
    "prof.visualize()"
   ]
  }
 ],
 "metadata": {
  "kernelspec": {
   "display_name": "Python 2",
   "language": "python",
   "name": "python2"
  },
  "language_info": {
   "codemirror_mode": {
    "name": "ipython",
    "version": 2
   },
   "file_extension": ".py",
   "mimetype": "text/x-python",
   "name": "python",
   "nbconvert_exporter": "python",
   "pygments_lexer": "ipython2",
   "version": "2.7.13"
  }
 },
 "nbformat": 4,
 "nbformat_minor": 2
}
