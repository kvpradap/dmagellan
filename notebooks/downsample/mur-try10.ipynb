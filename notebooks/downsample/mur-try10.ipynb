{
 "cells": [
  {
   "cell_type": "code",
   "execution_count": 1,
   "metadata": {
    "collapsed": true
   },
   "outputs": [],
   "source": [
    "# imports\n",
    "from downsample import *\n",
    "import pandas as pd\n",
    "from dask import delayed\n",
    "import dask.dataframe as dd\n",
    "import numpy as np"
   ]
  },
  {
   "cell_type": "code",
   "execution_count": 2,
   "metadata": {
    "collapsed": true
   },
   "outputs": [],
   "source": [
    "import dask\n",
    "from dask.diagnostics import Profiler, ResourceProfiler, ProgressBar"
   ]
  },
  {
   "cell_type": "code",
   "execution_count": 6,
   "metadata": {
    "collapsed": true
   },
   "outputs": [],
   "source": [
    "#paths\n",
    "datapath='../../datasets/'\n",
    "apath = os.path.join(datapath, 'sample_tracks.csv')\n",
    "bpath = os.path.join(datapath, 'sample_songs.csv')"
   ]
  },
  {
   "cell_type": "code",
   "execution_count": 13,
   "metadata": {
    "collapsed": true
   },
   "outputs": [],
   "source": [
    "# load datasets\n",
    "# A = dd.to_delayed(dd.read_csv(apath, low_memory=False))\n",
    "# B = dd.to_delayed(dd.read_csv(bpath, low_memory=False))\n",
    "A = pd.read_csv(apath, low_memory=False)\n",
    "B = pd.read_csv(bpath, low_memory=False)"
   ]
  },
  {
   "cell_type": "code",
   "execution_count": 5,
   "metadata": {
    "collapsed": true
   },
   "outputs": [],
   "source": [
    "spath = os.path.join(datapath, 'stopwords')\n",
    "stopwords = get_stop_words(spath)\n",
    "stopwords.extend(['and', 'in', 'the', 'my', 'me', 'to', 'you', 'i', 'andre', 'from', 'a', 'of', 'the', 'version', 'love', 'live', 'la', 'mix', 'album', 'dont'])\n",
    "stopwords = list(set(stopwords))"
   ]
  },
  {
   "cell_type": "code",
   "execution_count": 7,
   "metadata": {
    "collapsed": true
   },
   "outputs": [],
   "source": [
    "def sample(df, size):\n",
    "    return df.sample(size, replace=False)\n",
    "def splitdf(df, nchunks):\n",
    "    sample_splitted = np.array_split(df, nchunks)\n",
    "    return sample_splitted"
   ]
  },
  {
   "cell_type": "code",
   "execution_count": 15,
   "metadata": {
    "collapsed": true
   },
   "outputs": [],
   "source": [
    "import numpy as np\n",
    "def downsample_delayed(A, B, lid, rid, size, yparam, nlchunks=1, nrchunks=1, stopwords=[], compute=False):\n",
    "    \n",
    "    \n",
    "    lsplitted = (delayed)(splitdf)(A, nlchunks)\n",
    "\n",
    "    ltokens = []\n",
    "    for i in xrange(nlchunks):\n",
    "        lstrings = delayed(preprocess_table)(A, lid)\n",
    "        tokens = delayed(tokenize_strings)(lstrings, stopwords)\n",
    "        ltokens.append(tokens)\n",
    "        \n",
    "    invindex = delayed(build_inv_index)(ltokens)\n",
    "    \n",
    "    rsample = delayed(sample)(B, size)\n",
    "    rsample_splitted = delayed(splitdf)(rsample, nrchunks)\n",
    "    probe_results = []\n",
    "    \n",
    "    for i in xrange(nrchunks):\n",
    "        rstrings = delayed(preprocess_table)(rsample_splitted[i], rid)\n",
    "        rtokens = delayed(tokenize_strings)(rstrings, stopwords)\n",
    "        probe_result = delayed(probe)(rtokens, invindex, yparam)\n",
    "        probe_results.append(probe_result)\n",
    "    \n",
    "    result = delayed(postprocess)(probe_results, A, B, lid, rid)\n",
    "    \n",
    "    if compute:\n",
    "            with ProgressBar():\n",
    "                tmp = result.compute()\n",
    "            return tmp   \n",
    "    else:\n",
    "        return result"
   ]
  },
  {
   "cell_type": "code",
   "execution_count": 21,
   "metadata": {
    "collapsed": false
   },
   "outputs": [
    {
     "name": "stdout",
     "output_type": "stream",
     "text": [
      "\r",
      "[                                        ] | 0% Completed |  0.0s\r",
      "[                                        ] | 0% Completed |  0.3s\r",
      "[####                                    ] | 10% Completed |  0.4s\r",
      "[########                                ] | 21% Completed |  0.6s\r",
      "[##########                              ] | 25% Completed |  0.7s\r",
      "[############                            ] | 32% Completed |  0.8s\r",
      "[##################                      ] | 46% Completed |  0.9s\r",
      "[####################                    ] | 50% Completed |  1.0s\r",
      "[####################                    ] | 50% Completed |  1.2s\r",
      "[####################                    ] | 50% Completed |  1.3s\r",
      "[####################                    ] | 50% Completed |  1.4s\r",
      "[####################                    ] | 50% Completed |  1.6s\r",
      "[####################                    ] | 50% Completed |  1.8s\r",
      "[####################                    ] | 50% Completed |  1.9s\r",
      "[####################                    ] | 50% Completed |  2.1s\r",
      "[####################                    ] | 50% Completed |  2.4s\r",
      "[####################                    ] | 50% Completed |  2.6s\r",
      "[####################                    ] | 50% Completed |  2.7s\r",
      "[####################                    ] | 50% Completed |  2.9s\r",
      "[####################                    ] | 50% Completed |  3.1s\r",
      "[####################                    ] | 50% Completed |  3.2s\r",
      "[####################                    ] | 50% Completed |  3.4s\r",
      "[####################                    ] | 50% Completed |  3.6s\r",
      "[####################                    ] | 50% Completed |  3.7s\r",
      "[#####################                   ] | 53% Completed |  3.9s\r",
      "[#########################               ] | 64% Completed |  4.2s\r",
      "[#########################               ] | 64% Completed |  4.3s\r",
      "[#########################               ] | 64% Completed |  4.4s\r",
      "[#########################               ] | 64% Completed |  4.5s\r",
      "[#########################               ] | 64% Completed |  4.6s\r",
      "[#########################               ] | 64% Completed |  4.7s\r",
      "[#########################               ] | 64% Completed |  4.8s\r",
      "[#########################               ] | 64% Completed |  4.9s\r",
      "[#########################               ] | 64% Completed |  5.0s\r",
      "[#########################               ] | 64% Completed |  5.1s\r",
      "[#########################               ] | 64% Completed |  5.2s\r",
      "[#########################               ] | 64% Completed |  5.4s\r",
      "[#########################               ] | 64% Completed |  5.5s\r",
      "[#########################               ] | 64% Completed |  5.6s\r",
      "[###########################             ] | 67% Completed |  5.7s\r",
      "[###########################             ] | 67% Completed |  5.8s\r",
      "[###########################             ] | 67% Completed |  5.9s\r",
      "[################################        ] | 82% Completed | 10.0s\r",
      "[################################        ] | 82% Completed | 15.3s\r",
      "[########################################] | 100% Completed | 21.7s\n"
     ]
    }
   ],
   "source": [
    "res = downsample_delayed(A, B, 'id', 'id', 10000, 1, nlchunks=4, nrchunks=4, stopwords=stopwords, compute=True)"
   ]
  },
  {
   "cell_type": "code",
   "execution_count": 19,
   "metadata": {
    "collapsed": false
   },
   "outputs": [
    {
     "data": {
      "text/html": [
       "<div>\n",
       "<table border=\"1\" class=\"dataframe\">\n",
       "  <thead>\n",
       "    <tr style=\"text-align: right;\">\n",
       "      <th></th>\n",
       "      <th>id</th>\n",
       "      <th>title</th>\n",
       "      <th>year</th>\n",
       "      <th>episode</th>\n",
       "      <th>song</th>\n",
       "      <th>artists</th>\n",
       "    </tr>\n",
       "  </thead>\n",
       "  <tbody>\n",
       "    <tr>\n",
       "      <th>3</th>\n",
       "      <td>3</td>\n",
       "      <td>Colburn Concert Series</td>\n",
       "      <td>2012.0</td>\n",
       "      <td>Colburn Orchestra Live Performance Conducted b...</td>\n",
       "      <td>From me flows what you call Time</td>\n",
       "      <td>tôru takemitsu</td>\n",
       "    </tr>\n",
       "    <tr>\n",
       "      <th>7</th>\n",
       "      <td>7</td>\n",
       "      <td>Kill the Irishman</td>\n",
       "      <td>2011.0</td>\n",
       "      <td>NaN</td>\n",
       "      <td>DAFFY DOTTY DAY</td>\n",
       "      <td>johnny caruso+jeffrey silverman   amd roberta ...</td>\n",
       "    </tr>\n",
       "    <tr>\n",
       "      <th>14</th>\n",
       "      <td>14</td>\n",
       "      <td>Our Gang Follies of 1936</td>\n",
       "      <td>1935.0</td>\n",
       "      <td>NaN</td>\n",
       "      <td>How Ya Gonna Keep Em Down On The Farm?</td>\n",
       "      <td>walter donaldson+sam lewis+joe young+the bryan...</td>\n",
       "    </tr>\n",
       "    <tr>\n",
       "      <th>22</th>\n",
       "      <td>22</td>\n",
       "      <td>Heartbeat</td>\n",
       "      <td>1992.0</td>\n",
       "      <td>Outsiders (#1.8)</td>\n",
       "      <td>Apache</td>\n",
       "      <td>the shadows+jerry lorden</td>\n",
       "    </tr>\n",
       "    <tr>\n",
       "      <th>35</th>\n",
       "      <td>35</td>\n",
       "      <td>Nirusu no fushigi na tabi</td>\n",
       "      <td>1980.0</td>\n",
       "      <td>NaN</td>\n",
       "      <td>Nils Holgersson</td>\n",
       "      <td>vince tempera+carlo+enzo e pino romano</td>\n",
       "    </tr>\n",
       "  </tbody>\n",
       "</table>\n",
       "</div>"
      ],
      "text/plain": [
       "    id                      title    year  \\\n",
       "3    3     Colburn Concert Series  2012.0   \n",
       "7    7          Kill the Irishman  2011.0   \n",
       "14  14   Our Gang Follies of 1936  1935.0   \n",
       "22  22                  Heartbeat  1992.0   \n",
       "35  35  Nirusu no fushigi na tabi  1980.0   \n",
       "\n",
       "                                              episode  \\\n",
       "3   Colburn Orchestra Live Performance Conducted b...   \n",
       "7                                                 NaN   \n",
       "14                                                NaN   \n",
       "22                                   Outsiders (#1.8)   \n",
       "35                                                NaN   \n",
       "\n",
       "                                      song  \\\n",
       "3         From me flows what you call Time   \n",
       "7                          DAFFY DOTTY DAY   \n",
       "14  How Ya Gonna Keep Em Down On The Farm?   \n",
       "22                                  Apache   \n",
       "35                         Nils Holgersson   \n",
       "\n",
       "                                              artists  \n",
       "3                                      tôru takemitsu  \n",
       "7   johnny caruso+jeffrey silverman   amd roberta ...  \n",
       "14  walter donaldson+sam lewis+joe young+the bryan...  \n",
       "22                           the shadows+jerry lorden  \n",
       "35             vince tempera+carlo+enzo e pino romano  "
      ]
     },
     "execution_count": 19,
     "metadata": {},
     "output_type": "execute_result"
    }
   ],
   "source": [
    "res[0].head()"
   ]
  }
 ],
 "metadata": {
  "kernelspec": {
   "display_name": "Python 2",
   "language": "python",
   "name": "python2"
  },
  "language_info": {
   "codemirror_mode": {
    "name": "ipython",
    "version": 2
   },
   "file_extension": ".py",
   "mimetype": "text/x-python",
   "name": "python",
   "nbconvert_exporter": "python",
   "pygments_lexer": "ipython2",
   "version": "2.7.13"
  }
 },
 "nbformat": 4,
 "nbformat_minor": 2
}
