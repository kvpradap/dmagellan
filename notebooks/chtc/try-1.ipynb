{
 "cells": [
  {
   "cell_type": "code",
   "execution_count": 1,
   "metadata": {
    "collapsed": true
   },
   "outputs": [],
   "source": [
    "import sys\n",
    "sys.path.append('/Users/pradap/Documents/Research/Python-Package/scaling/dmagellan/')"
   ]
  },
  {
   "cell_type": "code",
   "execution_count": 2,
   "metadata": {
    "collapsed": true
   },
   "outputs": [],
   "source": [
    "# imports\n",
    "from dmagellan.blocker.attrequivalence.attr_equiv_blocker import AttrEquivalenceBlocker\n",
    "from dmagellan.blocker.overlap.overlapblocker import OverlapBlocker\n",
    "from dmagellan.blocker.blackbox.blackbox_blocker import BlackBoxBlocker\n",
    "from dmagellan.blocker.rulebased.rule_based_blocker import RuleBasedBlocker\n",
    "from dmagellan.feature.autofeaturegen import get_features_for_blocking\n",
    "from dmagellan.feature.extractfeatures import extract_feature_vecs\n",
    "from dmagellan.feature.autofeaturegen import get_features_for_matching\n",
    "from dmagellan.matcher.dtmatcher import DTMatcher\n",
    "from dmagellan.utils.py_utils.utils import concat_df\n",
    "from dask import delayed\n",
    "from dask.threaded import get"
   ]
  },
  {
   "cell_type": "code",
   "execution_count": 3,
   "metadata": {
    "collapsed": true
   },
   "outputs": [],
   "source": [
    "import pandas as pd"
   ]
  },
  {
   "cell_type": "code",
   "execution_count": 4,
   "metadata": {
    "collapsed": true
   },
   "outputs": [],
   "source": [
    "A = pd.read_csv('citeseer.csv')"
   ]
  },
  {
   "cell_type": "code",
   "execution_count": 5,
   "metadata": {
    "collapsed": true
   },
   "outputs": [],
   "source": [
    "B = pd.read_csv('./dblp.csv', low_memory=False)"
   ]
  },
  {
   "cell_type": "code",
   "execution_count": 6,
   "metadata": {
    "collapsed": true
   },
   "outputs": [],
   "source": [
    "def profile_table(df, attribute, plot=True):\n",
    "\n",
    "    unique_values = pd.unique(df[attribute])\n",
    "    num_missing = sum(pd.isnull(df[attribute]))\n",
    "\n",
    "    if not plot:\n",
    "        return  pd.DataFrame({'Property':['Num. Missing Values', 'Num. Unique Values', 'List of Unique Values'],\n",
    "                               'Value':[num_missing, len(unique_values), sorted(list(unique_values))]})\n",
    "    else:\n",
    "        print('Number of unique values: %d\\nNumber of missing values: '\n",
    "              '%d\\n\\nUnique values:'  % (len(unique_values), num_missing))\n",
    "#         print(sorted(list(unique_values)))\n",
    "#         print('\\nFrequency plot:\\n')\n",
    "#         d = (pd.DataFrame(df[attribute].value_counts()))\n",
    "#         ax = sns.barplot(x=\"index\", y=attribute, data=(d).reset_index())\n",
    "#         ax.set(xlabel=attribute, ylabel='count')\n",
    "#         ax.grid(b=True, which='major', color='w', linewidth=1.0)\n",
    "#         ax.set_xticklabels(labels=d.sort_index().index.values, rotation=90)\n",
    "#         plt.show()"
   ]
  },
  {
   "cell_type": "code",
   "execution_count": 6,
   "metadata": {
    "collapsed": true
   },
   "outputs": [],
   "source": [
    "A1 = A[['id', 'title', 'authors']]\n",
    "B1 = B[['id', 'title', 'authors']]\n"
   ]
  },
  {
   "cell_type": "code",
   "execution_count": 7,
   "metadata": {
    "collapsed": true
   },
   "outputs": [],
   "source": [
    "A2 = A1.dropna()"
   ]
  },
  {
   "cell_type": "code",
   "execution_count": 9,
   "metadata": {},
   "outputs": [
    {
     "data": {
      "text/plain": [
       "(1823978, 1823846)"
      ]
     },
     "execution_count": 9,
     "metadata": {},
     "output_type": "execute_result"
    }
   ],
   "source": [
    "len(A1), len(A2)"
   ]
  },
  {
   "cell_type": "code",
   "execution_count": 10,
   "metadata": {},
   "outputs": [
    {
     "name": "stdout",
     "output_type": "stream",
     "text": [
      "<class 'pandas.core.frame.DataFrame'>\n",
      "Int64Index: 1823846 entries, 0 to 1823977\n",
      "Data columns (total 3 columns):\n",
      "id         int64\n",
      "title      object\n",
      "authors    object\n",
      "dtypes: int64(1), object(2)\n",
      "memory usage: 55.7+ MB\n"
     ]
    }
   ],
   "source": [
    "A2.info()"
   ]
  },
  {
   "cell_type": "code",
   "execution_count": 8,
   "metadata": {
    "collapsed": true
   },
   "outputs": [],
   "source": [
    "B2 = B1.dropna()"
   ]
  },
  {
   "cell_type": "code",
   "execution_count": 9,
   "metadata": {
    "collapsed": true
   },
   "outputs": [],
   "source": [
    "A2.to_csv('citeseer_nonans.csv', index=False)\n",
    "B2.to_csv('dblp_nonans.csv', index=False)"
   ]
  },
  {
   "cell_type": "code",
   "execution_count": 12,
   "metadata": {},
   "outputs": [
    {
     "name": "stdout",
     "output_type": "stream",
     "text": [
      "<class 'pandas.core.frame.DataFrame'>\n",
      "Int64Index: 2512927 entries, 0 to 2512926\n",
      "Data columns (total 3 columns):\n",
      "id         int64\n",
      "title      object\n",
      "authors    object\n",
      "dtypes: int64(1), object(2)\n",
      "memory usage: 76.7+ MB\n"
     ]
    }
   ],
   "source": [
    "B2.info()"
   ]
  },
  {
   "cell_type": "code",
   "execution_count": 13,
   "metadata": {
    "collapsed": true
   },
   "outputs": [],
   "source": [
    "A_sample = A2.sample(10000)\n",
    "B_sample = B2.sample(10000)"
   ]
  },
  {
   "cell_type": "code",
   "execution_count": 14,
   "metadata": {
    "collapsed": true
   },
   "outputs": [],
   "source": [
    "# from distributed import Client\n",
    "# client = Client(\"128.110.153.177:8786\")"
   ]
  },
  {
   "cell_type": "code",
   "execution_count": 25,
   "metadata": {
    "collapsed": true
   },
   "outputs": [],
   "source": [
    "x`x"
   ]
  },
  {
   "cell_type": "code",
   "execution_count": 15,
   "metadata": {
    "collapsed": true
   },
   "outputs": [],
   "source": [
    "# client.has_what()"
   ]
  },
  {
   "cell_type": "code",
   "execution_count": 14,
   "metadata": {
    "collapsed": true
   },
   "outputs": [],
   "source": [
    "# def title_author_sim(ltuple, rtuple):\n",
    "#     l_title_authors = ltuple['title'] +' '+ ltuple['authors']\n",
    "#     r_title_authors = rtuple['title'] +' '+ rtuple['authors']    \n",
    "#     ltokens = l_title_authors."
   ]
  },
  {
   "cell_type": "code",
   "execution_count": 18,
   "metadata": {},
   "outputs": [
    {
     "name": "stdout",
     "output_type": "stream",
     "text": [
      "[########################################] | 100% Completed |  2min 13.3s\n"
     ]
    },
    {
     "data": {
      "text/plain": [
       "827536"
      ]
     },
     "execution_count": 18,
     "metadata": {},
     "output_type": "execute_result"
    }
   ],
   "source": [
    "# # overlap blocker on name\n",
    "from dask.threaded import get\n",
    "ob = OverlapBlocker()\n",
    "C = ob.block_tables(A2.sample(100000), B2.sample(100000), 'id', 'id', 'title', 'title', overlap_size=4, nltable_chunks=2, nrtable_chunks=2, \n",
    "                     scheduler=get, compute=True)\n",
    "len(C)"
   ]
  },
  {
   "cell_type": "code",
   "execution_count": 39,
   "metadata": {
    "collapsed": true
   },
   "outputs": [],
   "source": [
    "import py_stringsimjoin as ssjx"
   ]
  },
  {
   "cell_type": "code",
   "execution_count": 40,
   "metadata": {},
   "outputs": [
    {
     "name": "stdout",
     "output_type": "stream",
     "text": [
      "Help on function overlap_join in module py_stringsimjoin.join.overlap_join:\n",
      "\n",
      "overlap_join(ltable, rtable, l_key_attr, r_key_attr, l_join_attr, r_join_attr, tokenizer, threshold, comp_op='>=', allow_missing=False, l_out_attrs=None, r_out_attrs=None, l_out_prefix='l_', r_out_prefix='r_', out_sim_score=True, n_jobs=1, show_progress=True)\n",
      "    Join two tables using overlap measure.\n",
      "    \n",
      "    For two sets X and Y, the overlap between them is given by:                       \n",
      "                                                                                \n",
      "        :math:`overlap(X, Y) = |X \\cap Y|`\n",
      "    \n",
      "    Finds tuple pairs from left table and right table such that the overlap \n",
      "    between the join attributes satisfies the condition on input threshold. For \n",
      "    example, if the comparison operator is '>=', finds tuple pairs whose \n",
      "    overlap between the strings that are the values of the join attributes is \n",
      "    greater than or equal to the input threshold, as specified in \"threshold\".\n",
      "    \n",
      "    Args:\n",
      "        ltable (DataFrame): left input table.\n",
      "    \n",
      "        rtable (DataFrame): right input table.\n",
      "    \n",
      "        l_key_attr (string): key attribute in left table.\n",
      "    \n",
      "        r_key_attr (string): key attribute in right table.\n",
      "    \n",
      "        l_join_attr (string): join attribute in left table.\n",
      "    \n",
      "        r_join_attr (string): join attribute in right table.\n",
      "    \n",
      "        tokenizer (Tokenizer): tokenizer to be used to tokenize join     \n",
      "            attributes.                                                         \n",
      "                                                                                \n",
      "        threshold (float): overlap threshold to be satisfied.        \n",
      "                                                                                \n",
      "        comp_op (string): comparison operator. Supported values are '>=', '>'   \n",
      "            and '=' (defaults to '>=').                                         \n",
      "                                                                                \n",
      "        allow_missing (boolean): flag to indicate whether tuple pairs with      \n",
      "            missing value in at least one of the join attributes should be      \n",
      "            included in the output (defaults to False). If this flag is set to  \n",
      "            True, a tuple in ltable with missing value in the join attribute    \n",
      "            will be matched with every tuple in rtable and vice versa.          \n",
      "                                                                                \n",
      "        l_out_attrs (list): list of attribute names from the left table to be   \n",
      "            included in the output table (defaults to None).                    \n",
      "                                                                                \n",
      "        r_out_attrs (list): list of attribute names from the right table to be  \n",
      "            included in the output table (defaults to None).                    \n",
      "                                                                                \n",
      "        l_out_prefix (string): prefix to be used for the attribute names coming \n",
      "            from the left table, in the output table (defaults to 'l\\_').       \n",
      "                                                                                \n",
      "        r_out_prefix (string): prefix to be used for the attribute names coming \n",
      "            from the right table, in the output table (defaults to 'r\\_').      \n",
      "                                                                                \n",
      "        out_sim_score (boolean): flag to indicate whether similarity score      \n",
      "            should be included in the output table (defaults to True). Setting  \n",
      "            this flag to True will add a column named '_sim_score' in the       \n",
      "            output table. This column will contain the similarity scores for the\n",
      "            tuple pairs in the output.                                          \n",
      "    \n",
      "        n_jobs (int): number of parallel jobs to use for the computation        \n",
      "            (defaults to 1). If -1 is given, all CPUs are used. If 1 is given,  \n",
      "            no parallel computing code is used at all, which is useful for      \n",
      "            debugging. For n_jobs below -1, (n_cpus + 1 + n_jobs) are used      \n",
      "            (where n_cpus is the total number of CPUs in the machine). Thus for \n",
      "            n_jobs = -2, all CPUs but one are used. If (n_cpus + 1 + n_jobs)    \n",
      "            becomes less than 1, then no parallel computing code will be used   \n",
      "            (i.e., equivalent to the default).                                                                                 \n",
      "                                                                                \n",
      "        show_progress (boolean): flag to indicate whether task progress should  \n",
      "            be displayed to the user (defaults to True).                        \n",
      "                                                                                \n",
      "    Returns:                                                                    \n",
      "        An output table containing tuple pairs that satisfy the join            \n",
      "        condition (DataFrame).\n",
      "\n"
     ]
    }
   ],
   "source": [
    "help(ssj.overlap_join)"
   ]
  },
  {
   "cell_type": "code",
   "execution_count": 49,
   "metadata": {
    "collapsed": true
   },
   "outputs": [],
   "source": [
    "As = A2.sample(100000)\n",
    "Bs = B2.sample(100000)"
   ]
  },
  {
   "cell_type": "code",
   "execution_count": 43,
   "metadata": {
    "collapsed": true
   },
   "outputs": [],
   "source": [
    "import py_stringmatching as sm\n",
    "tok = sm.WhitespaceTokenizer()"
   ]
  },
  {
   "cell_type": "code",
   "execution_count": 51,
   "metadata": {},
   "outputs": [
    {
     "name": "stderr",
     "output_type": "stream",
     "text": [
      "0%                          100%\n",
      "[#                             ] | ETA: 00:04:25"
     ]
    },
    {
     "ename": "KeyboardInterrupt",
     "evalue": "",
     "output_type": "error",
     "traceback": [
      "\u001b[0;31m---------------------------------------------------------------------------\u001b[0m",
      "\u001b[0;31mKeyboardInterrupt\u001b[0m                         Traceback (most recent call last)",
      "\u001b[0;32m<ipython-input-51-d6a887b56568>\u001b[0m in \u001b[0;36m<module>\u001b[0;34m()\u001b[0m\n\u001b[0;32m----> 1\u001b[0;31m \u001b[0mdd\u001b[0m \u001b[0;34m=\u001b[0m \u001b[0mssj\u001b[0m\u001b[0;34m.\u001b[0m\u001b[0moverlap_join\u001b[0m\u001b[0;34m(\u001b[0m\u001b[0mAs\u001b[0m\u001b[0;34m,\u001b[0m \u001b[0mBs\u001b[0m\u001b[0;34m,\u001b[0m \u001b[0;34m'id'\u001b[0m\u001b[0;34m,\u001b[0m \u001b[0;34m'id'\u001b[0m\u001b[0;34m,\u001b[0m \u001b[0;34m'authors'\u001b[0m\u001b[0;34m,\u001b[0m \u001b[0;34m'authors'\u001b[0m\u001b[0;34m,\u001b[0m \u001b[0mtokenizer\u001b[0m\u001b[0;34m=\u001b[0m\u001b[0mtok\u001b[0m\u001b[0;34m,\u001b[0m \u001b[0mthreshold\u001b[0m\u001b[0;34m=\u001b[0m\u001b[0;36m4\u001b[0m \u001b[0;34m)\u001b[0m\u001b[0;34m\u001b[0m\u001b[0m\n\u001b[0m",
      "\u001b[0;32m/Users/pradap/miniconda2/lib/python2.7/site-packages/py_stringsimjoin/join/overlap_join.pyc\u001b[0m in \u001b[0;36moverlap_join\u001b[0;34m(ltable, rtable, l_key_attr, r_key_attr, l_join_attr, r_join_attr, tokenizer, threshold, comp_op, allow_missing, l_out_attrs, r_out_attrs, l_out_prefix, r_out_prefix, out_sim_score, n_jobs, show_progress)\u001b[0m\n\u001b[1;32m    102\u001b[0m                                                  \u001b[0ml_out_prefix\u001b[0m\u001b[0;34m,\u001b[0m \u001b[0mr_out_prefix\u001b[0m\u001b[0;34m,\u001b[0m\u001b[0;34m\u001b[0m\u001b[0m\n\u001b[1;32m    103\u001b[0m                                                  \u001b[0mout_sim_score\u001b[0m\u001b[0;34m,\u001b[0m \u001b[0mn_jobs\u001b[0m\u001b[0;34m,\u001b[0m\u001b[0;34m\u001b[0m\u001b[0m\n\u001b[0;32m--> 104\u001b[0;31m                                                  show_progress)\n\u001b[0m\u001b[1;32m    105\u001b[0m \u001b[0;34m\u001b[0m\u001b[0m\n\u001b[1;32m    106\u001b[0m     \u001b[0;31m# revert the return_set flag of tokenizer, in case it was modified.\u001b[0m\u001b[0;34m\u001b[0m\u001b[0;34m\u001b[0m\u001b[0m\n",
      "\u001b[0;32m/Users/pradap/miniconda2/lib/python2.7/site-packages/py_stringsimjoin/filter/overlap_filter.pyc\u001b[0m in \u001b[0;36mfilter_tables\u001b[0;34m(self, ltable, rtable, l_key_attr, r_key_attr, l_filter_attr, r_filter_attr, l_out_attrs, r_out_attrs, l_out_prefix, r_out_prefix, out_sim_score, n_jobs, show_progress)\u001b[0m\n\u001b[1;32m    217\u001b[0m                                            \u001b[0ml_out_attrs\u001b[0m\u001b[0;34m,\u001b[0m \u001b[0mr_out_attrs\u001b[0m\u001b[0;34m,\u001b[0m\u001b[0;34m\u001b[0m\u001b[0m\n\u001b[1;32m    218\u001b[0m                                            \u001b[0ml_out_prefix\u001b[0m\u001b[0;34m,\u001b[0m \u001b[0mr_out_prefix\u001b[0m\u001b[0;34m,\u001b[0m\u001b[0;34m\u001b[0m\u001b[0m\n\u001b[0;32m--> 219\u001b[0;31m                                            out_sim_score, show_progress)\n\u001b[0m\u001b[1;32m    220\u001b[0m         \u001b[0;32melse\u001b[0m\u001b[0;34m:\u001b[0m\u001b[0;34m\u001b[0m\u001b[0m\n\u001b[1;32m    221\u001b[0m             \u001b[0;31m# if n_jobs is above 1, split the right table into n_jobs splits and\u001b[0m\u001b[0;34m\u001b[0m\u001b[0;34m\u001b[0m\u001b[0m\n",
      "\u001b[0;32m/Users/pradap/miniconda2/lib/python2.7/site-packages/py_stringsimjoin/filter/overlap_filter.pyc\u001b[0m in \u001b[0;36m_filter_tables_split\u001b[0;34m(ltable, rtable, l_columns, r_columns, l_key_attr, r_key_attr, l_filter_attr, r_filter_attr, overlap_filter, l_out_attrs, r_out_attrs, l_out_prefix, r_out_prefix, out_sim_score, show_progress)\u001b[0m\n\u001b[1;32m    305\u001b[0m         \u001b[0;31m# probe inverted index and find overlap of candidates\u001b[0m\u001b[0;34m\u001b[0m\u001b[0;34m\u001b[0m\u001b[0m\n\u001b[1;32m    306\u001b[0m         candidate_overlap = overlap_filter.find_candidates(\n\u001b[0;32m--> 307\u001b[0;31m                                 r_filter_attr_tokens, inverted_index)\n\u001b[0m\u001b[1;32m    308\u001b[0m \u001b[0;34m\u001b[0m\u001b[0m\n\u001b[1;32m    309\u001b[0m         \u001b[0;32mfor\u001b[0m \u001b[0mcand\u001b[0m\u001b[0;34m,\u001b[0m \u001b[0moverlap\u001b[0m \u001b[0;32min\u001b[0m \u001b[0miteritems\u001b[0m\u001b[0;34m(\u001b[0m\u001b[0mcandidate_overlap\u001b[0m\u001b[0;34m)\u001b[0m\u001b[0;34m:\u001b[0m\u001b[0;34m\u001b[0m\u001b[0m\n",
      "\u001b[0;32m/Users/pradap/miniconda2/lib/python2.7/site-packages/py_stringsimjoin/filter/overlap_filter.pyc\u001b[0m in \u001b[0;36mfind_candidates\u001b[0;34m(self, probe_tokens, inverted_index)\u001b[0m\n\u001b[1;32m    262\u001b[0m         \u001b[0;32mfor\u001b[0m \u001b[0mtoken\u001b[0m \u001b[0;32min\u001b[0m \u001b[0mprobe_tokens\u001b[0m\u001b[0;34m:\u001b[0m\u001b[0;34m\u001b[0m\u001b[0m\n\u001b[1;32m    263\u001b[0m             \u001b[0;32mfor\u001b[0m \u001b[0mcand\u001b[0m \u001b[0;32min\u001b[0m \u001b[0minverted_index\u001b[0m\u001b[0;34m.\u001b[0m\u001b[0mprobe\u001b[0m\u001b[0;34m(\u001b[0m\u001b[0mtoken\u001b[0m\u001b[0;34m)\u001b[0m\u001b[0;34m:\u001b[0m\u001b[0;34m\u001b[0m\u001b[0m\n\u001b[0;32m--> 264\u001b[0;31m                 \u001b[0mcandidate_overlap\u001b[0m\u001b[0;34m[\u001b[0m\u001b[0mcand\u001b[0m\u001b[0;34m]\u001b[0m \u001b[0;34m=\u001b[0m \u001b[0mcandidate_overlap\u001b[0m\u001b[0;34m.\u001b[0m\u001b[0mget\u001b[0m\u001b[0;34m(\u001b[0m\u001b[0mcand\u001b[0m\u001b[0;34m,\u001b[0m \u001b[0;36m0\u001b[0m\u001b[0;34m)\u001b[0m \u001b[0;34m+\u001b[0m \u001b[0;36m1\u001b[0m\u001b[0;34m\u001b[0m\u001b[0m\n\u001b[0m\u001b[1;32m    265\u001b[0m         \u001b[0;32mreturn\u001b[0m \u001b[0mcandidate_overlap\u001b[0m\u001b[0;34m\u001b[0m\u001b[0m\n\u001b[1;32m    266\u001b[0m \u001b[0;34m\u001b[0m\u001b[0m\n",
      "\u001b[0;31mKeyboardInterrupt\u001b[0m: "
     ]
    }
   ],
   "source": [
    "dd = ssj.overlap_join(As, Bs, 'id', 'id', 'authors', 'authors', tokenizer=tok, threshold=4 )"
   ]
  },
  {
   "cell_type": "code",
   "execution_count": 48,
   "metadata": {},
   "outputs": [
    {
     "data": {
      "text/plain": [
       "409940"
      ]
     },
     "execution_count": 48,
     "metadata": {},
     "output_type": "execute_result"
    }
   ],
   "source": [
    "len(dd)"
   ]
  },
  {
   "cell_type": "code",
   "execution_count": 21,
   "metadata": {
    "collapsed": true
   },
   "outputs": [],
   "source": [
    "L = pd.read_csv('./matches_citeseer_dblp.csv')"
   ]
  },
  {
   "cell_type": "code",
   "execution_count": 23,
   "metadata": {
    "collapsed": true
   },
   "outputs": [],
   "source": [
    "L1 = L.sample(10000)\n",
    "C1 = C.sample(10000)"
   ]
  },
  {
   "cell_type": "code",
   "execution_count": 26,
   "metadata": {
    "collapsed": true
   },
   "outputs": [],
   "source": [
    "L1['label'] = 1\n",
    "C1['label'] = 0"
   ]
  },
  {
   "cell_type": "code",
   "execution_count": 35,
   "metadata": {
    "collapsed": true
   },
   "outputs": [],
   "source": [
    "d = {}\n",
    "for i in L1.itertuples():\n",
    "#     print(i)\n",
    "    x = str(i[1])+'_'+str(i[2])\n",
    "    d[x] = 0\n",
    "    \n"
   ]
  },
  {
   "cell_type": "code",
   "execution_count": 33,
   "metadata": {},
   "outputs": [
    {
     "data": {
      "text/plain": [
       "{'988550_863052': 0}"
      ]
     },
     "execution_count": 33,
     "metadata": {},
     "output_type": "execute_result"
    }
   ],
   "source": [
    "d"
   ]
  },
  {
   "cell_type": "code",
   "execution_count": 24,
   "metadata": {
    "collapsed": true
   },
   "outputs": [],
   "source": [
    "dt = DTMatcher(name='dt')"
   ]
  },
  {
   "cell_type": "code",
   "execution_count": 25,
   "metadata": {},
   "outputs": [
    {
     "data": {
      "text/html": [
       "<div>\n",
       "<style>\n",
       "    .dataframe thead tr:only-child th {\n",
       "        text-align: right;\n",
       "    }\n",
       "\n",
       "    .dataframe thead th {\n",
       "        text-align: left;\n",
       "    }\n",
       "\n",
       "    .dataframe tbody tr th {\n",
       "        vertical-align: top;\n",
       "    }\n",
       "</style>\n",
       "<table border=\"1\" class=\"dataframe\">\n",
       "  <thead>\n",
       "    <tr style=\"text-align: right;\">\n",
       "      <th></th>\n",
       "      <th>id</th>\n",
       "      <th>title</th>\n",
       "      <th>authors</th>\n",
       "      <th>journal</th>\n",
       "      <th>month</th>\n",
       "      <th>year</th>\n",
       "      <th>publication_type</th>\n",
       "    </tr>\n",
       "  </thead>\n",
       "  <tbody>\n",
       "    <tr>\n",
       "      <th>0</th>\n",
       "      <td>1</td>\n",
       "      <td>An Arithmetic Analogue of Bezouts Theorem</td>\n",
       "      <td>David Mckinnon</td>\n",
       "      <td>NaN</td>\n",
       "      <td>NaN</td>\n",
       "      <td>NaN</td>\n",
       "      <td>NaN</td>\n",
       "    </tr>\n",
       "    <tr>\n",
       "      <th>1</th>\n",
       "      <td>2</td>\n",
       "      <td>Thompsons Group F is Not Minimally Almost Convex</td>\n",
       "      <td>James Belk, Kai-uwe Bux</td>\n",
       "      <td>NaN</td>\n",
       "      <td>NaN</td>\n",
       "      <td>2002.0</td>\n",
       "      <td>NaN</td>\n",
       "    </tr>\n",
       "    <tr>\n",
       "      <th>2</th>\n",
       "      <td>3</td>\n",
       "      <td>Cognitive Dimensions Tradeoffs in Tangible User Interface Design</td>\n",
       "      <td>Darren Edge, Alan Blackwell</td>\n",
       "      <td>NaN</td>\n",
       "      <td>NaN</td>\n",
       "      <td>NaN</td>\n",
       "      <td>NaN</td>\n",
       "    </tr>\n",
       "    <tr>\n",
       "      <th>3</th>\n",
       "      <td>4</td>\n",
       "      <td>ACTIVITY NOUNS, UNACCUSATIVITY, AND ARGUMENT MARKING IN YUKATEKAN SSILA meeting; Special Session...</td>\n",
       "      <td>J. Bohnemeyer, Max Planck, I. Introduction</td>\n",
       "      <td>NaN</td>\n",
       "      <td>NaN</td>\n",
       "      <td>2002.0</td>\n",
       "      <td>NaN</td>\n",
       "    </tr>\n",
       "    <tr>\n",
       "      <th>4</th>\n",
       "      <td>5</td>\n",
       "      <td>PS1-6 A6 ULTRASOUND-GUIDED HIFU NEUROLYSIS OF PERIPHERAL NERVES TO TREAT SPASTICITY AND</td>\n",
       "      <td>J. L. Foley, J. W. Little, F. L. Starr Iii, C. Frantz</td>\n",
       "      <td>NaN</td>\n",
       "      <td>NaN</td>\n",
       "      <td>NaN</td>\n",
       "      <td>NaN</td>\n",
       "    </tr>\n",
       "  </tbody>\n",
       "</table>\n",
       "</div>"
      ],
      "text/plain": [
       "   id  \\\n",
       "0   1   \n",
       "1   2   \n",
       "2   3   \n",
       "3   4   \n",
       "4   5   \n",
       "\n",
       "                                                                                                 title  \\\n",
       "0                                                            An Arithmetic Analogue of Bezouts Theorem   \n",
       "1                                                     Thompsons Group F is Not Minimally Almost Convex   \n",
       "2                                     Cognitive Dimensions Tradeoffs in Tangible User Interface Design   \n",
       "3  ACTIVITY NOUNS, UNACCUSATIVITY, AND ARGUMENT MARKING IN YUKATEKAN SSILA meeting; Special Session...   \n",
       "4              PS1-6 A6 ULTRASOUND-GUIDED HIFU NEUROLYSIS OF PERIPHERAL NERVES TO TREAT SPASTICITY AND   \n",
       "\n",
       "                                                 authors journal  month  \\\n",
       "0                                         David Mckinnon     NaN    NaN   \n",
       "1                                James Belk, Kai-uwe Bux     NaN    NaN   \n",
       "2                            Darren Edge, Alan Blackwell     NaN    NaN   \n",
       "3             J. Bohnemeyer, Max Planck, I. Introduction     NaN    NaN   \n",
       "4  J. L. Foley, J. W. Little, F. L. Starr Iii, C. Frantz     NaN    NaN   \n",
       "\n",
       "     year publication_type  \n",
       "0     NaN              NaN  \n",
       "1  2002.0              NaN  \n",
       "2     NaN              NaN  \n",
       "3  2002.0              NaN  \n",
       "4     NaN              NaN  "
      ]
     },
     "execution_count": 25,
     "metadata": {},
     "output_type": "execute_result"
    }
   ],
   "source": [
    "A.head()"
   ]
  },
  {
   "cell_type": "code",
   "execution_count": null,
   "metadata": {
    "collapsed": true
   },
   "outputs": [],
   "source": [
    "L = pd.read_csv()"
   ]
  }
 ],
 "metadata": {
  "kernelspec": {
   "display_name": "Python 2",
   "language": "python",
   "name": "python2"
  },
  "language_info": {
   "codemirror_mode": {
    "name": "ipython",
    "version": 2
   },
   "file_extension": ".py",
   "mimetype": "text/x-python",
   "name": "python",
   "nbconvert_exporter": "python",
   "pygments_lexer": "ipython2",
   "version": "2.7.13"
  }
 },
 "nbformat": 4,
 "nbformat_minor": 2
}
