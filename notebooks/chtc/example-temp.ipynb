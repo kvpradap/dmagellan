{
 "cells": [
  {
   "cell_type": "code",
   "execution_count": 1,
   "metadata": {
    "collapsed": true
   },
   "outputs": [],
   "source": [
    "import sys\n",
    "sys.path.append('/Users/pradap/Documents/Research/Python-Package/scaling/dmagellan/')\n",
    "import pandas as pd\n",
    "import dask.dataframe as dd"
   ]
  },
  {
   "cell_type": "code",
   "execution_count": 2,
   "metadata": {},
   "outputs": [],
   "source": [
    "from dmagellan.blocker.overlap.overlapblocker_ddf import OverlapBlocker"
   ]
  },
  {
   "cell_type": "code",
   "execution_count": 29,
   "metadata": {
    "collapsed": true
   },
   "outputs": [],
   "source": [
    "from dmagellan.feature.extractfeatures import extract_feature_vecs\n",
    "from dmagellan.feature.autofeaturegen import get_features_for_matching\n",
    "from dask import delayed\n",
    "from dask.threaded import get\n",
    "from distributed import Client\n",
    "import py_entitymatching as em\n",
    "from dmagellan.matcher.dtmatcher import DTMatcher\n"
   ]
  },
  {
   "cell_type": "code",
   "execution_count": 4,
   "metadata": {},
   "outputs": [],
   "source": [
    "orig_A = dd.read_csv('../data/citeseer_nonans.csv', usecols=['id', 'title'], blocksize=64000000 )\n",
    "orig_B = dd.read_csv('../data/dblp_nonans.csv', usecols=['id', 'title'], blocksize=64000000)"
   ]
  },
  {
   "cell_type": "code",
   "execution_count": 5,
   "metadata": {},
   "outputs": [
    {
     "data": {
      "text/plain": [
       "(4, 5)"
      ]
     },
     "execution_count": 5,
     "metadata": {},
     "output_type": "execute_result"
    }
   ],
   "source": [
    "orig_A.npartitions, orig_B.npartitions"
   ]
  },
  {
   "cell_type": "code",
   "execution_count": 6,
   "metadata": {
    "collapsed": true
   },
   "outputs": [],
   "source": [
    "client = Client('127.0.0.1:8786')"
   ]
  },
  {
   "cell_type": "code",
   "execution_count": 7,
   "metadata": {},
   "outputs": [],
   "source": [
    "# sample datasets\n",
    "A = dd.read_csv('../data/sample_citeseer.csv', usecols=['id', 'title'])\n",
    "B = dd.read_csv('../data/sample_dblp.csv', usecols=['id', 'title'])"
   ]
  },
  {
   "cell_type": "code",
   "execution_count": 8,
   "metadata": {
    "collapsed": true
   },
   "outputs": [],
   "source": [
    "# blocking\n",
    "ob = OverlapBlocker()\n",
    "C = ob.block_tables(A, B, 'id', 'id', 'title', 'title', \n",
    "                    overlap_size=6, nltable_chunks=A.npartitions,\n",
    "                    nrtable_chunks=B.npartitions,\n",
    "                    \n",
    "                    scheduler=get, compute=False, \n",
    "                    rem_stop_words=True\n",
    "                   )\n",
    "# len(C)"
   ]
  },
  {
   "cell_type": "code",
   "execution_count": 10,
   "metadata": {},
   "outputs": [],
   "source": [
    "D = C.compute(get=client.get)"
   ]
  },
  {
   "cell_type": "code",
   "execution_count": 11,
   "metadata": {},
   "outputs": [
    {
     "data": {
      "text/html": [
       "<div>\n",
       "<style>\n",
       "    .dataframe thead tr:only-child th {\n",
       "        text-align: right;\n",
       "    }\n",
       "\n",
       "    .dataframe thead th {\n",
       "        text-align: left;\n",
       "    }\n",
       "\n",
       "    .dataframe tbody tr th {\n",
       "        vertical-align: top;\n",
       "    }\n",
       "</style>\n",
       "<table border=\"1\" class=\"dataframe\">\n",
       "  <thead>\n",
       "    <tr style=\"text-align: right;\">\n",
       "      <th></th>\n",
       "      <th>_id</th>\n",
       "      <th>l_id</th>\n",
       "      <th>r_id</th>\n",
       "    </tr>\n",
       "  </thead>\n",
       "  <tbody>\n",
       "    <tr>\n",
       "      <th>0</th>\n",
       "      <td>0</td>\n",
       "      <td>1204705</td>\n",
       "      <td>1963198</td>\n",
       "    </tr>\n",
       "    <tr>\n",
       "      <th>1</th>\n",
       "      <td>1</td>\n",
       "      <td>1009479</td>\n",
       "      <td>1849057</td>\n",
       "    </tr>\n",
       "    <tr>\n",
       "      <th>2</th>\n",
       "      <td>2</td>\n",
       "      <td>766548</td>\n",
       "      <td>1390421</td>\n",
       "    </tr>\n",
       "    <tr>\n",
       "      <th>3</th>\n",
       "      <td>3</td>\n",
       "      <td>766548</td>\n",
       "      <td>1222504</td>\n",
       "    </tr>\n",
       "    <tr>\n",
       "      <th>4</th>\n",
       "      <td>4</td>\n",
       "      <td>1595508</td>\n",
       "      <td>1222504</td>\n",
       "    </tr>\n",
       "  </tbody>\n",
       "</table>\n",
       "</div>"
      ],
      "text/plain": [
       "   _id     l_id     r_id\n",
       "0    0  1204705  1963198\n",
       "1    1  1009479  1849057\n",
       "2    2   766548  1390421\n",
       "3    3   766548  1222504\n",
       "4    4  1595508  1222504"
      ]
     },
     "execution_count": 11,
     "metadata": {},
     "output_type": "execute_result"
    }
   ],
   "source": [
    "D.head()"
   ]
  },
  {
   "cell_type": "code",
   "execution_count": 24,
   "metadata": {},
   "outputs": [],
   "source": [
    "L = pd.read_csv('../data/sample_labeled_data.csv')\n"
   ]
  },
  {
   "cell_type": "code",
   "execution_count": 14,
   "metadata": {},
   "outputs": [],
   "source": [
    "F = em.get_features_for_matching(A.compute(), B.compute())"
   ]
  },
  {
   "cell_type": "code",
   "execution_count": 35,
   "metadata": {},
   "outputs": [],
   "source": [
    "# Convert L into feature vectors using updated F\n",
    "H = extract_feature_vecs(L, orig_A, orig_B, \n",
    "                         '_id', 'l_id', 'r_id', 'id', 'id', \n",
    "                          feature_table=F, \n",
    "                          attrs_after='label', nchunks=4,\n",
    "                          show_progress=True, compute=True, \n",
    "                         scheduler=client.get)"
   ]
  },
  {
   "cell_type": "code",
   "execution_count": 44,
   "metadata": {},
   "outputs": [],
   "source": [
    "# Instantiate the matcher to evaluate.\n",
    "dt = DTMatcher(name='DecisionTree', random_state=0)"
   ]
  },
  {
   "cell_type": "code",
   "execution_count": 45,
   "metadata": {
    "collapsed": true
   },
   "outputs": [],
   "source": [
    "dt.fit(table=H, \n",
    "       exclude_attrs=['_id', 'l_id', 'r_id', 'label'], \n",
    "       target_attr='label')"
   ]
  },
  {
   "cell_type": "code",
   "execution_count": 38,
   "metadata": {
    "collapsed": true
   },
   "outputs": [],
   "source": [
    "# Convert J into a set of feature vectors using F\n",
    "I = extract_feature_vecs(C, A, B,\n",
    "                         '_id', 'l_id', 'r_id', 'id', 'id', \n",
    "                            nchunks=4,\n",
    "                            feature_table=F,\n",
    "                            \n",
    "                            show_progress=False,\n",
    "                            compute=False)"
   ]
  },
  {
   "cell_type": "code",
   "execution_count": 46,
   "metadata": {
    "collapsed": true
   },
   "outputs": [],
   "source": [
    "predictions = dt.predict(table=I, exclude_attrs=['_id', 'l_id', 'r_id'], \n",
    "              append=True, target_attr='predicted', inplace=False,\n",
    "                        nchunks=4, scheduler=client.get, compute=False, show_progress=True)"
   ]
  },
  {
   "cell_type": "code",
   "execution_count": 47,
   "metadata": {},
   "outputs": [],
   "source": [
    "p = predictions.compute()"
   ]
  }
 ],
 "metadata": {
  "kernelspec": {
   "display_name": "Python 2",
   "language": "python",
   "name": "python2"
  },
  "language_info": {
   "codemirror_mode": {
    "name": "ipython",
    "version": 2
   },
   "file_extension": ".py",
   "mimetype": "text/x-python",
   "name": "python",
   "nbconvert_exporter": "python",
   "pygments_lexer": "ipython2",
   "version": "2.7.13"
  }
 },
 "nbformat": 4,
 "nbformat_minor": 2
}
