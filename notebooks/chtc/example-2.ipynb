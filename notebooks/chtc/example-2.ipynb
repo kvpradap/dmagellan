{
 "cells": [
  {
   "cell_type": "code",
   "execution_count": 1,
   "metadata": {
    "collapsed": true
   },
   "outputs": [],
   "source": [
    "from dask.diagnostics import ProgressBar"
   ]
  },
  {
   "cell_type": "code",
   "execution_count": 4,
   "metadata": {
    "collapsed": true
   },
   "outputs": [],
   "source": [
    "import sys\n",
    "sys.path.append('/Users/pradap/Documents/Research/Python-Package/scaling/dmagellan/')\n"
   ]
  },
  {
   "cell_type": "code",
   "execution_count": 2,
   "metadata": {
    "collapsed": true
   },
   "outputs": [],
   "source": [
    "pbar = ProgressBar()\n",
    "pbar.register()"
   ]
  },
  {
   "cell_type": "code",
   "execution_count": 7,
   "metadata": {},
   "outputs": [
    {
     "name": "stdout",
     "output_type": "stream",
     "text": [
      "[########################################] | 100% Completed |  3min 35.0s\n",
      "Hello\n"
     ]
    }
   ],
   "source": [
    "import pandas as pd\n",
    "from dmagellan.blocker.overlap.overlapblocker import OverlapBlocker\n",
    "from dmagellan.feature.extractfeatures import extract_feature_vecs\n",
    "from dmagellan.feature.autofeaturegen import get_features_for_matching\n",
    "from distributed import Client\n",
    "from dask.multiprocessing import get\n",
    "A = pd.read_csv('./data/sample_citeseer.csv', usecols=['id', 'title'])\n",
    "B = pd.read_csv('.//data/sample_dblp.csv', usecols=['id', 'title'])\n",
    "orig_A = pd.read_csv('./data/citeseer_nonans.csv', usecols=['id', 'title'])\n",
    "orig_B = pd.read_csv('./data/dblp_nonans.csv', usecols=['id', 'title'])\n",
    "\n",
    "F = get_features_for_matching(A, B)\n",
    "L = pd.read_csv('./data/sample_labeled_data.csv')\n",
    "# Convert L into feature vectors using updated F\n",
    "H = extract_feature_vecs(L, orig_A, orig_B,\n",
    "                         '_id', 'l_id', 'r_id', 'id', 'id',\n",
    "                          feature_table=F,\n",
    "                          attrs_after='label', nchunks=4,\n",
    "                          show_progress=True, compute=False,\n",
    "                         scheduler=get)\n",
    "\n",
    "from dask.diagnostics import Profiler, ResourceProfiler, CacheProfiler\n",
    "with Profiler() as prof, ResourceProfiler(dt=0.25) as rprof, CacheProfiler() as cprof:\n",
    "    p = H.compute(get=get)\n",
    "print('Hello')\n"
   ]
  },
  {
   "cell_type": "code",
   "execution_count": 9,
   "metadata": {},
   "outputs": [
    {
     "data": {
      "text/html": [
       "<div style=\"display: table;\"><div style=\"display: table-row;\"><div style=\"display: table-cell;\"><b title=\"bokeh.plotting.figure.Figure\">Figure</b>(</div><div style=\"display: table-cell;\">id&nbsp;=&nbsp;'9655382c-36a1-489f-ab32-5dbabfa9abe5', <span id=\"6f594142-6d65-4139-9e05-aefbaae3c5c0\" style=\"cursor: pointer;\">&hellip;)</span></div></div><div class=\"90eee17c-ba80-43d1-8669-5eb4f74740ea\" style=\"display: none;\"><div style=\"display: table-cell;\"></div><div style=\"display: table-cell;\">above&nbsp;=&nbsp;[],</div></div><div class=\"90eee17c-ba80-43d1-8669-5eb4f74740ea\" style=\"display: none;\"><div style=\"display: table-cell;\"></div><div style=\"display: table-cell;\">background_fill_alpha&nbsp;=&nbsp;{'value': 1.0},</div></div><div class=\"90eee17c-ba80-43d1-8669-5eb4f74740ea\" style=\"display: none;\"><div style=\"display: table-cell;\"></div><div style=\"display: table-cell;\">background_fill_color&nbsp;=&nbsp;{'value': '#ffffff'},</div></div><div class=\"90eee17c-ba80-43d1-8669-5eb4f74740ea\" style=\"display: none;\"><div style=\"display: table-cell;\"></div><div style=\"display: table-cell;\">below&nbsp;=&nbsp;[LinearAxis(id='f6742b1f-5ae2-4864-9fbf-dcdf890de632', ...)],</div></div><div class=\"90eee17c-ba80-43d1-8669-5eb4f74740ea\" style=\"display: none;\"><div style=\"display: table-cell;\"></div><div style=\"display: table-cell;\">border_fill_alpha&nbsp;=&nbsp;{'value': 1.0},</div></div><div class=\"90eee17c-ba80-43d1-8669-5eb4f74740ea\" style=\"display: none;\"><div style=\"display: table-cell;\"></div><div style=\"display: table-cell;\">border_fill_color&nbsp;=&nbsp;{'value': '#ffffff'},</div></div><div class=\"90eee17c-ba80-43d1-8669-5eb4f74740ea\" style=\"display: none;\"><div style=\"display: table-cell;\"></div><div style=\"display: table-cell;\">css_classes&nbsp;=&nbsp;None,</div></div><div class=\"90eee17c-ba80-43d1-8669-5eb4f74740ea\" style=\"display: none;\"><div style=\"display: table-cell;\"></div><div style=\"display: table-cell;\">disabled&nbsp;=&nbsp;False,</div></div><div class=\"90eee17c-ba80-43d1-8669-5eb4f74740ea\" style=\"display: none;\"><div style=\"display: table-cell;\"></div><div style=\"display: table-cell;\">extra_x_ranges&nbsp;=&nbsp;{},</div></div><div class=\"90eee17c-ba80-43d1-8669-5eb4f74740ea\" style=\"display: none;\"><div style=\"display: table-cell;\"></div><div style=\"display: table-cell;\">extra_y_ranges&nbsp;=&nbsp;{'memory': Range1d(id='eec033f7-326a-49bc-88c9-fe33d096b477', ...)},</div></div><div class=\"90eee17c-ba80-43d1-8669-5eb4f74740ea\" style=\"display: none;\"><div style=\"display: table-cell;\"></div><div style=\"display: table-cell;\">h_symmetry&nbsp;=&nbsp;True,</div></div><div class=\"90eee17c-ba80-43d1-8669-5eb4f74740ea\" style=\"display: none;\"><div style=\"display: table-cell;\"></div><div style=\"display: table-cell;\">height&nbsp;=&nbsp;None,</div></div><div class=\"90eee17c-ba80-43d1-8669-5eb4f74740ea\" style=\"display: none;\"><div style=\"display: table-cell;\"></div><div style=\"display: table-cell;\">hidpi&nbsp;=&nbsp;True,</div></div><div class=\"90eee17c-ba80-43d1-8669-5eb4f74740ea\" style=\"display: none;\"><div style=\"display: table-cell;\"></div><div style=\"display: table-cell;\">js_event_callbacks&nbsp;=&nbsp;{},</div></div><div class=\"90eee17c-ba80-43d1-8669-5eb4f74740ea\" style=\"display: none;\"><div style=\"display: table-cell;\"></div><div style=\"display: table-cell;\">js_property_callbacks&nbsp;=&nbsp;{},</div></div><div class=\"90eee17c-ba80-43d1-8669-5eb4f74740ea\" style=\"display: none;\"><div style=\"display: table-cell;\"></div><div style=\"display: table-cell;\">left&nbsp;=&nbsp;[LinearAxis(id='894b1c28-94f8-4429-84c7-acdb3c0a429e', ...)],</div></div><div class=\"90eee17c-ba80-43d1-8669-5eb4f74740ea\" style=\"display: none;\"><div style=\"display: table-cell;\"></div><div style=\"display: table-cell;\">lod_factor&nbsp;=&nbsp;10,</div></div><div class=\"90eee17c-ba80-43d1-8669-5eb4f74740ea\" style=\"display: none;\"><div style=\"display: table-cell;\"></div><div style=\"display: table-cell;\">lod_interval&nbsp;=&nbsp;300,</div></div><div class=\"90eee17c-ba80-43d1-8669-5eb4f74740ea\" style=\"display: none;\"><div style=\"display: table-cell;\"></div><div style=\"display: table-cell;\">lod_threshold&nbsp;=&nbsp;2000,</div></div><div class=\"90eee17c-ba80-43d1-8669-5eb4f74740ea\" style=\"display: none;\"><div style=\"display: table-cell;\"></div><div style=\"display: table-cell;\">lod_timeout&nbsp;=&nbsp;500,</div></div><div class=\"90eee17c-ba80-43d1-8669-5eb4f74740ea\" style=\"display: none;\"><div style=\"display: table-cell;\"></div><div style=\"display: table-cell;\">min_border&nbsp;=&nbsp;5,</div></div><div class=\"90eee17c-ba80-43d1-8669-5eb4f74740ea\" style=\"display: none;\"><div style=\"display: table-cell;\"></div><div style=\"display: table-cell;\">min_border_bottom&nbsp;=&nbsp;None,</div></div><div class=\"90eee17c-ba80-43d1-8669-5eb4f74740ea\" style=\"display: none;\"><div style=\"display: table-cell;\"></div><div style=\"display: table-cell;\">min_border_left&nbsp;=&nbsp;None,</div></div><div class=\"90eee17c-ba80-43d1-8669-5eb4f74740ea\" style=\"display: none;\"><div style=\"display: table-cell;\"></div><div style=\"display: table-cell;\">min_border_right&nbsp;=&nbsp;None,</div></div><div class=\"90eee17c-ba80-43d1-8669-5eb4f74740ea\" style=\"display: none;\"><div style=\"display: table-cell;\"></div><div style=\"display: table-cell;\">min_border_top&nbsp;=&nbsp;None,</div></div><div class=\"90eee17c-ba80-43d1-8669-5eb4f74740ea\" style=\"display: none;\"><div style=\"display: table-cell;\"></div><div style=\"display: table-cell;\">name&nbsp;=&nbsp;None,</div></div><div class=\"90eee17c-ba80-43d1-8669-5eb4f74740ea\" style=\"display: none;\"><div style=\"display: table-cell;\"></div><div style=\"display: table-cell;\">outline_line_alpha&nbsp;=&nbsp;{'value': 1.0},</div></div><div class=\"90eee17c-ba80-43d1-8669-5eb4f74740ea\" style=\"display: none;\"><div style=\"display: table-cell;\"></div><div style=\"display: table-cell;\">outline_line_cap&nbsp;=&nbsp;'butt',</div></div><div class=\"90eee17c-ba80-43d1-8669-5eb4f74740ea\" style=\"display: none;\"><div style=\"display: table-cell;\"></div><div style=\"display: table-cell;\">outline_line_color&nbsp;=&nbsp;{'value': '#e5e5e5'},</div></div><div class=\"90eee17c-ba80-43d1-8669-5eb4f74740ea\" style=\"display: none;\"><div style=\"display: table-cell;\"></div><div style=\"display: table-cell;\">outline_line_dash&nbsp;=&nbsp;[],</div></div><div class=\"90eee17c-ba80-43d1-8669-5eb4f74740ea\" style=\"display: none;\"><div style=\"display: table-cell;\"></div><div style=\"display: table-cell;\">outline_line_dash_offset&nbsp;=&nbsp;0,</div></div><div class=\"90eee17c-ba80-43d1-8669-5eb4f74740ea\" style=\"display: none;\"><div style=\"display: table-cell;\"></div><div style=\"display: table-cell;\">outline_line_join&nbsp;=&nbsp;'miter',</div></div><div class=\"90eee17c-ba80-43d1-8669-5eb4f74740ea\" style=\"display: none;\"><div style=\"display: table-cell;\"></div><div style=\"display: table-cell;\">outline_line_width&nbsp;=&nbsp;{'value': 1},</div></div><div class=\"90eee17c-ba80-43d1-8669-5eb4f74740ea\" style=\"display: none;\"><div style=\"display: table-cell;\"></div><div style=\"display: table-cell;\">plot_height&nbsp;=&nbsp;300,</div></div><div class=\"90eee17c-ba80-43d1-8669-5eb4f74740ea\" style=\"display: none;\"><div style=\"display: table-cell;\"></div><div style=\"display: table-cell;\">plot_width&nbsp;=&nbsp;800,</div></div><div class=\"90eee17c-ba80-43d1-8669-5eb4f74740ea\" style=\"display: none;\"><div style=\"display: table-cell;\"></div><div style=\"display: table-cell;\">renderers&nbsp;=&nbsp;[LinearAxis(id='f6742b1f-5ae2-4864-9fbf-dcdf890de632', ...), Grid(id='d34ca735-2f12-4571-90ef-e0c39f9e391c', ...), LinearAxis(id='894b1c28-94f8-4429-84c7-acdb3c0a429e', ...), Grid(id='40018ce2-e4a0-4af1-9178-aa20a042790f', ...), Legend(id='7cb7739f-e9f9-4a97-819b-78ca534585bb', ...), GlyphRenderer(id='78afc224-dc49-4ebd-9431-822d0edec988', ...), GlyphRenderer(id='d54a40ad-5296-472b-9deb-8142ac0cdd2c', ...), LinearAxis(id='0b5ce556-4224-414b-94bd-88facee35f15', ...)],</div></div><div class=\"90eee17c-ba80-43d1-8669-5eb4f74740ea\" style=\"display: none;\"><div style=\"display: table-cell;\"></div><div style=\"display: table-cell;\">right&nbsp;=&nbsp;[LinearAxis(id='0b5ce556-4224-414b-94bd-88facee35f15', ...)],</div></div><div class=\"90eee17c-ba80-43d1-8669-5eb4f74740ea\" style=\"display: none;\"><div style=\"display: table-cell;\"></div><div style=\"display: table-cell;\">sizing_mode&nbsp;=&nbsp;'fixed',</div></div><div class=\"90eee17c-ba80-43d1-8669-5eb4f74740ea\" style=\"display: none;\"><div style=\"display: table-cell;\"></div><div style=\"display: table-cell;\">subscribed_events&nbsp;=&nbsp;[],</div></div><div class=\"90eee17c-ba80-43d1-8669-5eb4f74740ea\" style=\"display: none;\"><div style=\"display: table-cell;\"></div><div style=\"display: table-cell;\">tags&nbsp;=&nbsp;[],</div></div><div class=\"90eee17c-ba80-43d1-8669-5eb4f74740ea\" style=\"display: none;\"><div style=\"display: table-cell;\"></div><div style=\"display: table-cell;\">title&nbsp;=&nbsp;Title(id='5555d479-026a-4473-8573-73cd1fa7ebcb', ...),</div></div><div class=\"90eee17c-ba80-43d1-8669-5eb4f74740ea\" style=\"display: none;\"><div style=\"display: table-cell;\"></div><div style=\"display: table-cell;\">title_location&nbsp;=&nbsp;'above',</div></div><div class=\"90eee17c-ba80-43d1-8669-5eb4f74740ea\" style=\"display: none;\"><div style=\"display: table-cell;\"></div><div style=\"display: table-cell;\">tool_events&nbsp;=&nbsp;ToolEvents(id='ab0a0ba6-a7e5-467f-88e4-9cb6436827d8', ...),</div></div><div class=\"90eee17c-ba80-43d1-8669-5eb4f74740ea\" style=\"display: none;\"><div style=\"display: table-cell;\"></div><div style=\"display: table-cell;\">toolbar&nbsp;=&nbsp;Toolbar(id='d31f6cfc-a82d-4cca-96be-c005133dd535', ...),</div></div><div class=\"90eee17c-ba80-43d1-8669-5eb4f74740ea\" style=\"display: none;\"><div style=\"display: table-cell;\"></div><div style=\"display: table-cell;\">toolbar_location&nbsp;=&nbsp;'right',</div></div><div class=\"90eee17c-ba80-43d1-8669-5eb4f74740ea\" style=\"display: none;\"><div style=\"display: table-cell;\"></div><div style=\"display: table-cell;\">toolbar_sticky&nbsp;=&nbsp;True,</div></div><div class=\"90eee17c-ba80-43d1-8669-5eb4f74740ea\" style=\"display: none;\"><div style=\"display: table-cell;\"></div><div style=\"display: table-cell;\">v_symmetry&nbsp;=&nbsp;False,</div></div><div class=\"90eee17c-ba80-43d1-8669-5eb4f74740ea\" style=\"display: none;\"><div style=\"display: table-cell;\"></div><div style=\"display: table-cell;\">webgl&nbsp;=&nbsp;False,</div></div><div class=\"90eee17c-ba80-43d1-8669-5eb4f74740ea\" style=\"display: none;\"><div style=\"display: table-cell;\"></div><div style=\"display: table-cell;\">width&nbsp;=&nbsp;None,</div></div><div class=\"90eee17c-ba80-43d1-8669-5eb4f74740ea\" style=\"display: none;\"><div style=\"display: table-cell;\"></div><div style=\"display: table-cell;\">x_mapper_type&nbsp;=&nbsp;'auto',</div></div><div class=\"90eee17c-ba80-43d1-8669-5eb4f74740ea\" style=\"display: none;\"><div style=\"display: table-cell;\"></div><div style=\"display: table-cell;\">x_range&nbsp;=&nbsp;Range1d(id='5553b8c5-c16a-420c-8a3b-fabc98a669ff', ...),</div></div><div class=\"90eee17c-ba80-43d1-8669-5eb4f74740ea\" style=\"display: none;\"><div style=\"display: table-cell;\"></div><div style=\"display: table-cell;\">y_mapper_type&nbsp;=&nbsp;'auto',</div></div><div class=\"90eee17c-ba80-43d1-8669-5eb4f74740ea\" style=\"display: none;\"><div style=\"display: table-cell;\"></div><div style=\"display: table-cell;\">y_range&nbsp;=&nbsp;Range1d(id='c60ccd87-9670-4709-bdd1-ccaeabbf0218', ...))</div></div></div>\n",
       "<script>\n",
       "(function() {\n",
       "  var expanded = false;\n",
       "  var ellipsis = document.getElementById(\"6f594142-6d65-4139-9e05-aefbaae3c5c0\");\n",
       "  ellipsis.addEventListener(\"click\", function() {\n",
       "    var rows = document.getElementsByClassName(\"90eee17c-ba80-43d1-8669-5eb4f74740ea\");\n",
       "    for (var i = 0; i < rows.length; i++) {\n",
       "      var el = rows[i];\n",
       "      el.style.display = expanded ? \"none\" : \"table-row\";\n",
       "    }\n",
       "    ellipsis.innerHTML = expanded ? \"&hellip;)\" : \"&lsaquo;&lsaquo;&lsaquo;\";\n",
       "    expanded = !expanded;\n",
       "  });\n",
       "})();\n",
       "</script>\n"
      ],
      "text/plain": [
       "Figure(id='9655382c-36a1-489f-ab32-5dbabfa9abe5', ...)"
      ]
     },
     "execution_count": 9,
     "metadata": {},
     "output_type": "execute_result"
    }
   ],
   "source": [
    "rprof.visualize()"
   ]
  }
 ],
 "metadata": {
  "kernelspec": {
   "display_name": "Python 2",
   "language": "python",
   "name": "python2"
  },
  "language_info": {
   "codemirror_mode": {
    "name": "ipython",
    "version": 2
   },
   "file_extension": ".py",
   "mimetype": "text/x-python",
   "name": "python",
   "nbconvert_exporter": "python",
   "pygments_lexer": "ipython2",
   "version": "2.7.13"
  }
 },
 "nbformat": 4,
 "nbformat_minor": 2
}
