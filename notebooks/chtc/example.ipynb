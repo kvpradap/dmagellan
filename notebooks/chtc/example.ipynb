{
 "cells": [
  {
   "cell_type": "code",
   "execution_count": 1,
   "metadata": {
    "collapsed": true
   },
   "outputs": [],
   "source": [
    "import sys\n",
    "sys.path.append('/Users/pradap/Documents/Research/Python-Package/scaling/dmagellan/')\n",
    "import pandas as pd"
   ]
  },
  {
   "cell_type": "code",
   "execution_count": 2,
   "metadata": {},
   "outputs": [
    {
     "name": "stderr",
     "output_type": "stream",
     "text": [
      "/Users/pradap/miniconda2/lib/python2.7/site-packages/sklearn/cross_validation.py:44: DeprecationWarning: This module was deprecated in version 0.18 in favor of the model_selection module into which all the refactored classes and functions are moved. Also note that the interface of the new CV iterators are different from that of this module. This module will be removed in 0.20.\n",
      "  \"This module will be removed in 0.20.\", DeprecationWarning)\n"
     ]
    }
   ],
   "source": [
    "# imports\n",
    "from dmagellan.blocker.attrequivalence.attr_equiv_blocker import AttrEquivalenceBlocker\n",
    "from dmagellan.blocker.overlap.overlapblocker import OverlapBlocker\n",
    "from dmagellan.blocker.blackbox.blackbox_blocker import BlackBoxBlocker\n",
    "from dmagellan.blocker.rulebased.rule_based_blocker import RuleBasedBlocker\n",
    "from dmagellan.feature.autofeaturegen import get_features_for_blocking\n",
    "from dmagellan.feature.extractfeatures import extract_feature_vecs\n",
    "from dmagellan.feature.autofeaturegen import get_features_for_matching\n",
    "from dmagellan.matcher.dtmatcher import DTMatcher\n",
    "from dmagellan.utils.py_utils.utils import concat_df\n",
    "from dask import delayed\n",
    "from dask.threaded import get\n",
    "from distributed import Client\n",
    "import py_entitymatching as em"
   ]
  },
  {
   "cell_type": "code",
   "execution_count": 3,
   "metadata": {
    "collapsed": true
   },
   "outputs": [],
   "source": [
    "client = Client('127.0.0.1:8786')"
   ]
  },
  {
   "cell_type": "code",
   "execution_count": 4,
   "metadata": {
    "collapsed": true
   },
   "outputs": [],
   "source": [
    "orig_A = pd.read_csv('./data/citeseer_nonans.csv', usecols=['id', 'title'])\n",
    "orig_B = pd.read_csv('./data/dblp_nonans.csv', usecols=['id', 'title'])"
   ]
  },
  {
   "cell_type": "code",
   "execution_count": null,
   "metadata": {
    "collapsed": true
   },
   "outputs": [],
   "source": []
  },
  {
   "cell_type": "code",
   "execution_count": 11,
   "metadata": {},
   "outputs": [
    {
     "name": "stdout",
     "output_type": "stream",
     "text": [
      "<class 'pandas.core.frame.DataFrame'>\n",
      "RangeIndex: 1823846 entries, 0 to 1823845\n",
      "Data columns (total 2 columns):\n",
      "id       int64\n",
      "title    object\n",
      "dtypes: int64(1), object(1)\n",
      "memory usage: 27.8+ MB\n"
     ]
    }
   ],
   "source": [
    "orig_A.info()"
   ]
  },
  {
   "cell_type": "code",
   "execution_count": 6,
   "metadata": {
    "collapsed": true
   },
   "outputs": [],
   "source": [
    "# sample datasets\n",
    "A = pd.read_csv('./data/sample_citeseer.csv', usecols=['id', 'title'])\n",
    "B = pd.read_csv('./data/sample_dblp.csv', usecols=['id', 'title'])"
   ]
  },
  {
   "cell_type": "code",
   "execution_count": 32,
   "metadata": {
    "collapsed": true
   },
   "outputs": [],
   "source": [
    "A1 = A.head(4)"
   ]
  },
  {
   "cell_type": "code",
   "execution_count": 49,
   "metadata": {
    "collapsed": true
   },
   "outputs": [],
   "source": [
    "K = orig_B.values"
   ]
  },
  {
   "cell_type": "code",
   "execution_count": 50,
   "metadata": {
    "collapsed": true
   },
   "outputs": [],
   "source": [
    "d = {}\n",
    "for row in K:\n",
    "    t = row[1].lower().split()\n",
    "    for s in t:\n",
    "        if s in d:\n",
    "            d[s]+=1\n",
    "        else:\n",
    "            d[s] = 0"
   ]
  },
  {
   "cell_type": "code",
   "execution_count": 51,
   "metadata": {
    "collapsed": true
   },
   "outputs": [],
   "source": [
    "import operator\n",
    "\n",
    "sorted_x = sorted(d.items(), key=operator.itemgetter(1))\n",
    "sorted_x.reverse()"
   ]
  },
  {
   "cell_type": "code",
   "execution_count": 48,
   "metadata": {},
   "outputs": [
    {
     "data": {
      "text/plain": [
       "['a',\n",
       " 'an',\n",
       " 'and',\n",
       " 'are',\n",
       " 'as',\n",
       " 'at',\n",
       " 'be',\n",
       " 'by',\n",
       " 'for',\n",
       " 'from',\n",
       " 'has',\n",
       " 'he',\n",
       " 'in',\n",
       " 'is',\n",
       " 'it',\n",
       " 'its',\n",
       " 'on',\n",
       " 'that',\n",
       " 'the',\n",
       " 'to',\n",
       " 'of',\n",
       " 'was',\n",
       " 'were',\n",
       " 'will',\n",
       " 'with']"
      ]
     },
     "execution_count": 48,
     "metadata": {},
     "output_type": "execute_result"
    }
   ],
   "source": [
    "ob.stop_words"
   ]
  },
  {
   "cell_type": "code",
   "execution_count": 52,
   "metadata": {},
   "outputs": [
    {
     "data": {
      "text/plain": [
       "[('of', 975592),\n",
       " ('for', 819383),\n",
       " ('and', 659250),\n",
       " ('a', 648023),\n",
       " ('the', 551031),\n",
       " ('in', 538753),\n",
       " ('on', 311159),\n",
       " ('with', 239497),\n",
       " ('to', 202847),\n",
       " ('using', 196632),\n",
       " ('an', 180606),\n",
       " ('based', 134187),\n",
       " ('analysis', 91547),\n",
       " ('networks.', 82195),\n",
       " ('data', 80585),\n",
       " ('systems.', 80459),\n",
       " ('system', 78524),\n",
       " ('by', 75778),\n",
       " ('from', 74286),\n",
       " ('model', 73244),\n",
       " ('design', 68620),\n",
       " ('-', 66448),\n",
       " ('approach', 63305),\n",
       " ('information', 63117),\n",
       " ('algorithm', 62842),\n",
       " ('control', 61151),\n",
       " ('systems', 55877),\n",
       " ('network', 52696),\n",
       " ('learning', 51296),\n",
       " ('performance', 50940),\n",
       " ('wireless', 48509),\n",
       " ('distributed', 48177),\n",
       " ('new', 47971),\n",
       " ('method', 46473),\n",
       " ('mobile', 46196),\n",
       " ('image', 45045),\n",
       " ('dynamic', 44268),\n",
       " ('efficient', 43911),\n",
       " ('software', 43091),\n",
       " ('adaptive', 41194),\n",
       " ('detection', 39535),\n",
       " ('application', 38811),\n",
       " ('modeling', 37790),\n",
       " ('system.', 37288),\n",
       " ('web', 37116),\n",
       " ('networks', 36341),\n",
       " ('management', 35912),\n",
       " ('fuzzy', 35537),\n",
       " ('parallel', 35480),\n",
       " ('neural', 34776)]"
      ]
     },
     "execution_count": 52,
     "metadata": {},
     "output_type": "execute_result"
    }
   ],
   "source": [
    "sorted_x[:50]"
   ]
  },
  {
   "cell_type": "code",
   "execution_count": 34,
   "metadata": {},
   "outputs": [
    {
     "name": "stdout",
     "output_type": "stream",
     "text": [
      "An Environment Supporting Software Process Standardization and Innovation Abstract\n",
      "Title Systematic review\n",
      "Concept Lattices as a Formal Method for the Integration of Geographic Ontologies\n",
      "Kada 29\n"
     ]
    }
   ],
   "source": [
    "for k in A1.values:\n",
    "    print(k[1])"
   ]
  },
  {
   "cell_type": "code",
   "execution_count": 5,
   "metadata": {},
   "outputs": [],
   "source": [
    "# blocking\n",
    "ob = OverlapBlocker()\n",
    "C = ob.block_tables(orig_A, orig_B, 'id', 'id', 'title', 'title', \n",
    "                    overlap_size=6, nltable_chunks=1, nrtable_chunks=1, \n",
    "                    scheduler=get, compute=False, \n",
    "                    rem_stop_words=True\n",
    "                   )\n",
    "# len(C)"
   ]
  },
  {
   "cell_type": "code",
   "execution_count": 11,
   "metadata": {
    "collapsed": true
   },
   "outputs": [],
   "source": [
    "client = Client('127.0.0.1:8786')"
   ]
  },
  {
   "cell_type": "code",
   "execution_count": null,
   "metadata": {},
   "outputs": [],
   "source": [
    "D = C.compute(get=client.get, optimize_graph=False)"
   ]
  },
  {
   "cell_type": "code",
   "execution_count": 57,
   "metadata": {
    "collapsed": true
   },
   "outputs": [],
   "source": [
    "import sys"
   ]
  },
  {
   "cell_type": "code",
   "execution_count": 59,
   "metadata": {
    "collapsed": true
   },
   "outputs": [],
   "source": [
    "import cloudpickle as cp"
   ]
  },
  {
   "cell_type": "code",
   "execution_count": 73,
   "metadata": {
    "collapsed": true
   },
   "outputs": [],
   "source": [
    "c1 = cp.dumps(C)"
   ]
  },
  {
   "cell_type": "code",
   "execution_count": 74,
   "metadata": {},
   "outputs": [
    {
     "data": {
      "text/plain": [
       "0.3236828129738569"
      ]
     },
     "execution_count": 74,
     "metadata": {},
     "output_type": "execute_result"
    }
   ],
   "source": [
    "sys.getsizeof(c1)/(1024.0*1024*1024)"
   ]
  },
  {
   "cell_type": "code",
   "execution_count": 55,
   "metadata": {},
   "outputs": [
    {
     "data": {
      "text/plain": [
       "13"
      ]
     },
     "execution_count": 55,
     "metadata": {},
     "output_type": "execute_result"
    }
   ],
   "source": [
    "len(C)"
   ]
  },
  {
   "cell_type": "code",
   "execution_count": 7,
   "metadata": {
    "collapsed": true
   },
   "outputs": [],
   "source": [
    "# client.restart()"
   ]
  },
  {
   "cell_type": "code",
   "execution_count": 14,
   "metadata": {
    "collapsed": true
   },
   "outputs": [],
   "source": [
    "L = pd.read_csv('./data/sample_labeled_data.csv')"
   ]
  },
  {
   "cell_type": "code",
   "execution_count": 15,
   "metadata": {
    "collapsed": true
   },
   "outputs": [],
   "source": [
    "F = em.get_features_for_matching(A, B)"
   ]
  },
  {
   "cell_type": "code",
   "execution_count": 16,
   "metadata": {},
   "outputs": [
    {
     "data": {
      "text/html": [
       "<div>\n",
       "<style>\n",
       "    .dataframe thead tr:only-child th {\n",
       "        text-align: right;\n",
       "    }\n",
       "\n",
       "    .dataframe thead th {\n",
       "        text-align: left;\n",
       "    }\n",
       "\n",
       "    .dataframe tbody tr th {\n",
       "        vertical-align: top;\n",
       "    }\n",
       "</style>\n",
       "<table border=\"1\" class=\"dataframe\">\n",
       "  <thead>\n",
       "    <tr style=\"text-align: right;\">\n",
       "      <th></th>\n",
       "      <th>feature_name</th>\n",
       "      <th>left_attribute</th>\n",
       "      <th>right_attribute</th>\n",
       "      <th>left_attr_tokenizer</th>\n",
       "      <th>right_attr_tokenizer</th>\n",
       "      <th>simfunction</th>\n",
       "      <th>function</th>\n",
       "      <th>function_source</th>\n",
       "      <th>is_auto_generated</th>\n",
       "    </tr>\n",
       "  </thead>\n",
       "  <tbody>\n",
       "    <tr>\n",
       "      <th>0</th>\n",
       "      <td>id_id_exm</td>\n",
       "      <td>id</td>\n",
       "      <td>id</td>\n",
       "      <td>None</td>\n",
       "      <td>None</td>\n",
       "      <td>exact_match</td>\n",
       "      <td>&lt;function id_id_exm at 0x119453c80&gt;</td>\n",
       "      <td>from py_entitymatching.feature.simfunctions import *\\nfrom py_entitymatching.feature.tokenizers ...</td>\n",
       "      <td>True</td>\n",
       "    </tr>\n",
       "    <tr>\n",
       "      <th>1</th>\n",
       "      <td>id_id_anm</td>\n",
       "      <td>id</td>\n",
       "      <td>id</td>\n",
       "      <td>None</td>\n",
       "      <td>None</td>\n",
       "      <td>abs_norm</td>\n",
       "      <td>&lt;function id_id_anm at 0x11c594410&gt;</td>\n",
       "      <td>from py_entitymatching.feature.simfunctions import *\\nfrom py_entitymatching.feature.tokenizers ...</td>\n",
       "      <td>True</td>\n",
       "    </tr>\n",
       "    <tr>\n",
       "      <th>2</th>\n",
       "      <td>id_id_lev_dist</td>\n",
       "      <td>id</td>\n",
       "      <td>id</td>\n",
       "      <td>None</td>\n",
       "      <td>None</td>\n",
       "      <td>lev_dist</td>\n",
       "      <td>&lt;function id_id_lev_dist at 0x11c594500&gt;</td>\n",
       "      <td>from py_entitymatching.feature.simfunctions import *\\nfrom py_entitymatching.feature.tokenizers ...</td>\n",
       "      <td>True</td>\n",
       "    </tr>\n",
       "    <tr>\n",
       "      <th>3</th>\n",
       "      <td>id_id_lev_sim</td>\n",
       "      <td>id</td>\n",
       "      <td>id</td>\n",
       "      <td>None</td>\n",
       "      <td>None</td>\n",
       "      <td>lev_sim</td>\n",
       "      <td>&lt;function id_id_lev_sim at 0x141aa6578&gt;</td>\n",
       "      <td>from py_entitymatching.feature.simfunctions import *\\nfrom py_entitymatching.feature.tokenizers ...</td>\n",
       "      <td>True</td>\n",
       "    </tr>\n",
       "    <tr>\n",
       "      <th>4</th>\n",
       "      <td>title_title_jac_qgm_3_qgm_3</td>\n",
       "      <td>title</td>\n",
       "      <td>title</td>\n",
       "      <td>qgm_3</td>\n",
       "      <td>qgm_3</td>\n",
       "      <td>jaccard</td>\n",
       "      <td>&lt;function title_title_jac_qgm_3_qgm_3 at 0x141aa6d70&gt;</td>\n",
       "      <td>from py_entitymatching.feature.simfunctions import *\\nfrom py_entitymatching.feature.tokenizers ...</td>\n",
       "      <td>True</td>\n",
       "    </tr>\n",
       "    <tr>\n",
       "      <th>5</th>\n",
       "      <td>title_title_cos_dlm_dc0_dlm_dc0</td>\n",
       "      <td>title</td>\n",
       "      <td>title</td>\n",
       "      <td>dlm_dc0</td>\n",
       "      <td>dlm_dc0</td>\n",
       "      <td>cosine</td>\n",
       "      <td>&lt;function title_title_cos_dlm_dc0_dlm_dc0 at 0x141aa6e60&gt;</td>\n",
       "      <td>from py_entitymatching.feature.simfunctions import *\\nfrom py_entitymatching.feature.tokenizers ...</td>\n",
       "      <td>True</td>\n",
       "    </tr>\n",
       "    <tr>\n",
       "      <th>6</th>\n",
       "      <td>title_title_mel</td>\n",
       "      <td>title</td>\n",
       "      <td>title</td>\n",
       "      <td>None</td>\n",
       "      <td>None</td>\n",
       "      <td>monge_elkan</td>\n",
       "      <td>&lt;function title_title_mel at 0x141aa6cf8&gt;</td>\n",
       "      <td>from py_entitymatching.feature.simfunctions import *\\nfrom py_entitymatching.feature.tokenizers ...</td>\n",
       "      <td>True</td>\n",
       "    </tr>\n",
       "    <tr>\n",
       "      <th>7</th>\n",
       "      <td>title_title_lev_dist</td>\n",
       "      <td>title</td>\n",
       "      <td>title</td>\n",
       "      <td>None</td>\n",
       "      <td>None</td>\n",
       "      <td>lev_dist</td>\n",
       "      <td>&lt;function title_title_lev_dist at 0x141aa6c08&gt;</td>\n",
       "      <td>from py_entitymatching.feature.simfunctions import *\\nfrom py_entitymatching.feature.tokenizers ...</td>\n",
       "      <td>True</td>\n",
       "    </tr>\n",
       "    <tr>\n",
       "      <th>8</th>\n",
       "      <td>title_title_lev_sim</td>\n",
       "      <td>title</td>\n",
       "      <td>title</td>\n",
       "      <td>None</td>\n",
       "      <td>None</td>\n",
       "      <td>lev_sim</td>\n",
       "      <td>&lt;function title_title_lev_sim at 0x141aa6b90&gt;</td>\n",
       "      <td>from py_entitymatching.feature.simfunctions import *\\nfrom py_entitymatching.feature.tokenizers ...</td>\n",
       "      <td>True</td>\n",
       "    </tr>\n",
       "  </tbody>\n",
       "</table>\n",
       "</div>"
      ],
      "text/plain": [
       "                      feature_name left_attribute right_attribute  \\\n",
       "0                        id_id_exm             id              id   \n",
       "1                        id_id_anm             id              id   \n",
       "2                   id_id_lev_dist             id              id   \n",
       "3                    id_id_lev_sim             id              id   \n",
       "4      title_title_jac_qgm_3_qgm_3          title           title   \n",
       "5  title_title_cos_dlm_dc0_dlm_dc0          title           title   \n",
       "6                  title_title_mel          title           title   \n",
       "7             title_title_lev_dist          title           title   \n",
       "8              title_title_lev_sim          title           title   \n",
       "\n",
       "  left_attr_tokenizer right_attr_tokenizer  simfunction  \\\n",
       "0                None                 None  exact_match   \n",
       "1                None                 None     abs_norm   \n",
       "2                None                 None     lev_dist   \n",
       "3                None                 None      lev_sim   \n",
       "4               qgm_3                qgm_3      jaccard   \n",
       "5             dlm_dc0              dlm_dc0       cosine   \n",
       "6                None                 None  monge_elkan   \n",
       "7                None                 None     lev_dist   \n",
       "8                None                 None      lev_sim   \n",
       "\n",
       "                                                    function  \\\n",
       "0                        <function id_id_exm at 0x119453c80>   \n",
       "1                        <function id_id_anm at 0x11c594410>   \n",
       "2                   <function id_id_lev_dist at 0x11c594500>   \n",
       "3                    <function id_id_lev_sim at 0x141aa6578>   \n",
       "4      <function title_title_jac_qgm_3_qgm_3 at 0x141aa6d70>   \n",
       "5  <function title_title_cos_dlm_dc0_dlm_dc0 at 0x141aa6e60>   \n",
       "6                  <function title_title_mel at 0x141aa6cf8>   \n",
       "7             <function title_title_lev_dist at 0x141aa6c08>   \n",
       "8              <function title_title_lev_sim at 0x141aa6b90>   \n",
       "\n",
       "                                                                                       function_source  \\\n",
       "0  from py_entitymatching.feature.simfunctions import *\\nfrom py_entitymatching.feature.tokenizers ...   \n",
       "1  from py_entitymatching.feature.simfunctions import *\\nfrom py_entitymatching.feature.tokenizers ...   \n",
       "2  from py_entitymatching.feature.simfunctions import *\\nfrom py_entitymatching.feature.tokenizers ...   \n",
       "3  from py_entitymatching.feature.simfunctions import *\\nfrom py_entitymatching.feature.tokenizers ...   \n",
       "4  from py_entitymatching.feature.simfunctions import *\\nfrom py_entitymatching.feature.tokenizers ...   \n",
       "5  from py_entitymatching.feature.simfunctions import *\\nfrom py_entitymatching.feature.tokenizers ...   \n",
       "6  from py_entitymatching.feature.simfunctions import *\\nfrom py_entitymatching.feature.tokenizers ...   \n",
       "7  from py_entitymatching.feature.simfunctions import *\\nfrom py_entitymatching.feature.tokenizers ...   \n",
       "8  from py_entitymatching.feature.simfunctions import *\\nfrom py_entitymatching.feature.tokenizers ...   \n",
       "\n",
       "   is_auto_generated  \n",
       "0               True  \n",
       "1               True  \n",
       "2               True  \n",
       "3               True  \n",
       "4               True  \n",
       "5               True  \n",
       "6               True  \n",
       "7               True  \n",
       "8               True  "
      ]
     },
     "execution_count": 16,
     "metadata": {},
     "output_type": "execute_result"
    }
   ],
   "source": [
    "F"
   ]
  },
  {
   "cell_type": "code",
   "execution_count": null,
   "metadata": {
    "collapsed": true
   },
   "outputs": [],
   "source": [
    "# help(extract_feature_vecs)"
   ]
  },
  {
   "cell_type": "code",
   "execution_count": 19,
   "metadata": {
    "collapsed": true
   },
   "outputs": [],
   "source": [
    "# Convert L into feature vectors using updated F\n",
    "H = extract_feature_vecs(L, orig_A, orig_B, \n",
    "                         '_id', 'l_id', 'r_id', 'id', 'id', \n",
    "                          feature_table=F, \n",
    "                          attrs_after='label', nchunks=4,\n",
    "                          show_progress=True, compute=True, \n",
    "                         scheduler=client.get)"
   ]
  },
  {
   "cell_type": "code",
   "execution_count": null,
   "metadata": {
    "collapsed": true
   },
   "outputs": [],
   "source": [
    "# client.restart()"
   ]
  },
  {
   "cell_type": "code",
   "execution_count": 10,
   "metadata": {},
   "outputs": [
    {
     "data": {
      "text/html": [
       "<div>\n",
       "<style>\n",
       "    .dataframe thead tr:only-child th {\n",
       "        text-align: right;\n",
       "    }\n",
       "\n",
       "    .dataframe thead th {\n",
       "        text-align: left;\n",
       "    }\n",
       "\n",
       "    .dataframe tbody tr th {\n",
       "        vertical-align: top;\n",
       "    }\n",
       "</style>\n",
       "<table border=\"1\" class=\"dataframe\">\n",
       "  <thead>\n",
       "    <tr style=\"text-align: right;\">\n",
       "      <th></th>\n",
       "      <th>_id</th>\n",
       "      <th>l_id</th>\n",
       "      <th>r_id</th>\n",
       "      <th>id_id_exm</th>\n",
       "      <th>id_id_anm</th>\n",
       "      <th>id_id_lev_dist</th>\n",
       "      <th>id_id_lev_sim</th>\n",
       "      <th>title_title_jac_qgm_3_qgm_3</th>\n",
       "      <th>title_title_cos_dlm_dc0_dlm_dc0</th>\n",
       "      <th>title_title_mel</th>\n",
       "      <th>title_title_lev_dist</th>\n",
       "      <th>title_title_lev_sim</th>\n",
       "      <th>authors_authors_jac_qgm_3_qgm_3</th>\n",
       "      <th>authors_authors_cos_dlm_dc0_dlm_dc0</th>\n",
       "      <th>authors_authors_mel</th>\n",
       "      <th>authors_authors_lev_dist</th>\n",
       "      <th>authors_authors_lev_sim</th>\n",
       "      <th>label</th>\n",
       "    </tr>\n",
       "  </thead>\n",
       "  <tbody>\n",
       "    <tr>\n",
       "      <th>0</th>\n",
       "      <td>0</td>\n",
       "      <td>401372</td>\n",
       "      <td>1446376</td>\n",
       "      <td>0</td>\n",
       "      <td>0.277502</td>\n",
       "      <td>4</td>\n",
       "      <td>0.428571</td>\n",
       "      <td>0.101604</td>\n",
       "      <td>0.181902</td>\n",
       "      <td>0.707672</td>\n",
       "      <td>94.0</td>\n",
       "      <td>0.318841</td>\n",
       "      <td>0.000000</td>\n",
       "      <td>0.000000</td>\n",
       "      <td>0.514006</td>\n",
       "      <td>26.0</td>\n",
       "      <td>0.235294</td>\n",
       "      <td>0</td>\n",
       "    </tr>\n",
       "    <tr>\n",
       "      <th>1</th>\n",
       "      <td>1</td>\n",
       "      <td>1349544</td>\n",
       "      <td>12210</td>\n",
       "      <td>0</td>\n",
       "      <td>0.009048</td>\n",
       "      <td>6</td>\n",
       "      <td>0.142857</td>\n",
       "      <td>0.828571</td>\n",
       "      <td>0.714286</td>\n",
       "      <td>0.916532</td>\n",
       "      <td>2.0</td>\n",
       "      <td>0.968750</td>\n",
       "      <td>0.580000</td>\n",
       "      <td>0.676123</td>\n",
       "      <td>0.864320</td>\n",
       "      <td>14.0</td>\n",
       "      <td>0.695652</td>\n",
       "      <td>1</td>\n",
       "    </tr>\n",
       "    <tr>\n",
       "      <th>2</th>\n",
       "      <td>2</td>\n",
       "      <td>1328193</td>\n",
       "      <td>1921746</td>\n",
       "      <td>0</td>\n",
       "      <td>0.691139</td>\n",
       "      <td>5</td>\n",
       "      <td>0.285714</td>\n",
       "      <td>0.900000</td>\n",
       "      <td>0.800000</td>\n",
       "      <td>0.995833</td>\n",
       "      <td>1.0</td>\n",
       "      <td>0.979167</td>\n",
       "      <td>1.000000</td>\n",
       "      <td>1.000000</td>\n",
       "      <td>1.000000</td>\n",
       "      <td>0.0</td>\n",
       "      <td>1.000000</td>\n",
       "      <td>1</td>\n",
       "    </tr>\n",
       "    <tr>\n",
       "      <th>3</th>\n",
       "      <td>3</td>\n",
       "      <td>824620</td>\n",
       "      <td>1311578</td>\n",
       "      <td>0</td>\n",
       "      <td>0.628724</td>\n",
       "      <td>7</td>\n",
       "      <td>0.000000</td>\n",
       "      <td>0.104762</td>\n",
       "      <td>0.223607</td>\n",
       "      <td>0.590867</td>\n",
       "      <td>56.0</td>\n",
       "      <td>0.125000</td>\n",
       "      <td>0.092593</td>\n",
       "      <td>0.000000</td>\n",
       "      <td>0.640811</td>\n",
       "      <td>50.0</td>\n",
       "      <td>0.253731</td>\n",
       "      <td>0</td>\n",
       "    </tr>\n",
       "    <tr>\n",
       "      <th>4</th>\n",
       "      <td>4</td>\n",
       "      <td>1100045</td>\n",
       "      <td>535453</td>\n",
       "      <td>0</td>\n",
       "      <td>0.486756</td>\n",
       "      <td>6</td>\n",
       "      <td>0.142857</td>\n",
       "      <td>0.215116</td>\n",
       "      <td>0.333333</td>\n",
       "      <td>0.695030</td>\n",
       "      <td>108.0</td>\n",
       "      <td>0.239437</td>\n",
       "      <td>0.010101</td>\n",
       "      <td>0.000000</td>\n",
       "      <td>0.525752</td>\n",
       "      <td>58.0</td>\n",
       "      <td>0.205479</td>\n",
       "      <td>0</td>\n",
       "    </tr>\n",
       "  </tbody>\n",
       "</table>\n",
       "</div>"
      ],
      "text/plain": [
       "   _id     l_id     r_id  id_id_exm  id_id_anm  id_id_lev_dist  id_id_lev_sim  \\\n",
       "0    0   401372  1446376          0   0.277502               4       0.428571   \n",
       "1    1  1349544    12210          0   0.009048               6       0.142857   \n",
       "2    2  1328193  1921746          0   0.691139               5       0.285714   \n",
       "3    3   824620  1311578          0   0.628724               7       0.000000   \n",
       "4    4  1100045   535453          0   0.486756               6       0.142857   \n",
       "\n",
       "   title_title_jac_qgm_3_qgm_3  title_title_cos_dlm_dc0_dlm_dc0  \\\n",
       "0                     0.101604                         0.181902   \n",
       "1                     0.828571                         0.714286   \n",
       "2                     0.900000                         0.800000   \n",
       "3                     0.104762                         0.223607   \n",
       "4                     0.215116                         0.333333   \n",
       "\n",
       "   title_title_mel  title_title_lev_dist  title_title_lev_sim  \\\n",
       "0         0.707672                  94.0             0.318841   \n",
       "1         0.916532                   2.0             0.968750   \n",
       "2         0.995833                   1.0             0.979167   \n",
       "3         0.590867                  56.0             0.125000   \n",
       "4         0.695030                 108.0             0.239437   \n",
       "\n",
       "   authors_authors_jac_qgm_3_qgm_3  authors_authors_cos_dlm_dc0_dlm_dc0  \\\n",
       "0                         0.000000                             0.000000   \n",
       "1                         0.580000                             0.676123   \n",
       "2                         1.000000                             1.000000   \n",
       "3                         0.092593                             0.000000   \n",
       "4                         0.010101                             0.000000   \n",
       "\n",
       "   authors_authors_mel  authors_authors_lev_dist  authors_authors_lev_sim  \\\n",
       "0             0.514006                      26.0                 0.235294   \n",
       "1             0.864320                      14.0                 0.695652   \n",
       "2             1.000000                       0.0                 1.000000   \n",
       "3             0.640811                      50.0                 0.253731   \n",
       "4             0.525752                      58.0                 0.205479   \n",
       "\n",
       "   label  \n",
       "0      0  \n",
       "1      1  \n",
       "2      1  \n",
       "3      0  \n",
       "4      0  "
      ]
     },
     "execution_count": 10,
     "metadata": {},
     "output_type": "execute_result"
    }
   ],
   "source": [
    "H.head()"
   ]
  },
  {
   "cell_type": "code",
   "execution_count": 11,
   "metadata": {
    "collapsed": true
   },
   "outputs": [],
   "source": [
    "\n",
    "# Instantiate the matcher to evaluate.\n",
    "dt = DTMatcher(name='DecisionTree', random_state=0)"
   ]
  },
  {
   "cell_type": "code",
   "execution_count": 12,
   "metadata": {
    "collapsed": true
   },
   "outputs": [],
   "source": [
    "dt.fit(table=H, \n",
    "       exclude_attrs=['_id', 'l_id', 'r_id', 'label'], \n",
    "       target_attr='label')"
   ]
  },
  {
   "cell_type": "code",
   "execution_count": 13,
   "metadata": {
    "collapsed": true
   },
   "outputs": [],
   "source": [
    "# Convert J into a set of feature vectors using F\n",
    "# I = extract_feature_vecs(C, A, B,\n",
    "#                          '_id', 'l_id', 'r_id', 'id', 'id', \n",
    "#                             nchunks=4,\n",
    "#                             feature_table=F,\n",
    "                            \n",
    "#                             show_progress=False,\n",
    "#                             compute=False)"
   ]
  },
  {
   "cell_type": "code",
   "execution_count": null,
   "metadata": {
    "collapsed": true
   },
   "outputs": [],
   "source": [
    "# help(dt.predict)"
   ]
  },
  {
   "cell_type": "code",
   "execution_count": 17,
   "metadata": {
    "collapsed": true
   },
   "outputs": [],
   "source": [
    "# predictions = dt.predict(table=I, exclude_attrs=['_id', 'l_id', 'r_id'], \n",
    "#               append=True, target_attr='predicted', inplace=False,\n",
    "#                         nchunks=4, scheduler=client.get, compute=False, show_progress=True)"
   ]
  },
  {
   "cell_type": "code",
   "execution_count": 20,
   "metadata": {},
   "outputs": [
    {
     "data": {
      "image/png": "[encoded data removed]",
      "text/plain": [
       "<IPython.core.display.Image object>"
      ]
     },
     "execution_count": 20,
     "metadata": {},
     "output_type": "execute_result"
    }
   ],
   "source": [
    "C.visualize()"
   ]
  },
  {
   "cell_type": "code",
   "execution_count": 22,
   "metadata": {},
   "outputs": [
    {
     "name": "stdout",
     "output_type": "stream",
     "text": [
      "0.0357918739319\n"
     ]
    }
   ],
   "source": [
    "from time import time\n",
    "t = time()\n",
    "x = 0\n",
    "for i in range(100000):\n",
    "    x = x+1\n",
    "print(time()-t)\n"
   ]
  },
  {
   "cell_type": "code",
   "execution_count": 22,
   "metadata": {},
   "outputs": [
    {
     "name": "stdout",
     "output_type": "stream",
     "text": [
      "2.10364699364\n"
     ]
    }
   ],
   "source": [
    "from time import time\n",
    "t1 = time()\n",
    "p = C.compute(get=client.get)\n",
    "print(time()-t1)"
   ]
  },
  {
   "cell_type": "code",
   "execution_count": null,
   "metadata": {
    "collapsed": true
   },
   "outputs": [],
   "source": [
    "# predictions.predicted.sum()"
   ]
  }
 ],
 "metadata": {
  "kernelspec": {
   "display_name": "Python 2",
   "language": "python",
   "name": "python2"
  },
  "language_info": {
   "codemirror_mode": {
    "name": "ipython",
    "version": 2
   },
   "file_extension": ".py",
   "mimetype": "text/x-python",
   "name": "python",
   "nbconvert_exporter": "python",
   "pygments_lexer": "ipython2",
   "version": "2.7.13"
  }
 },
 "nbformat": 4,
 "nbformat_minor": 2
}
