{
 "cells": [
  {
   "cell_type": "code",
   "execution_count": 1,
   "metadata": {
    "collapsed": true
   },
   "outputs": [],
   "source": [
    "# # import sys\n",
    "# # sys.path.append('/Users/pradap/Documents/Research/Python-Package/scaling/dmagellan/')\n",
    "import pandas as pd"
   ]
  },
  {
   "cell_type": "code",
   "execution_count": 2,
   "metadata": {},
   "outputs": [],
   "source": [
    "# imports\n",
    "from dmagellan.blocker.attrequivalence.attr_equiv_blocker import AttrEquivalenceBlocker\n",
    "from dmagellan.blocker.overlap.overlapblocker import OverlapBlocker\n",
    "from dmagellan.blocker.blackbox.blackbox_blocker import BlackBoxBlocker\n",
    "from dmagellan.blocker.rulebased.rule_based_blocker import RuleBasedBlocker\n",
    "from dmagellan.feature.autofeaturegen import get_features_for_blocking\n",
    "from dmagellan.feature.extractfeatures import extract_feature_vecs\n",
    "from dmagellan.feature.autofeaturegen import get_features_for_matching\n",
    "from dmagellan.matcher.dtmatcher import DTMatcher\n",
    "from dmagellan.utils.py_utils.utils import concat_df\n",
    "from dask import delayed\n",
    "from dask.threaded import get\n",
    "from distributed import Client\n",
    "import py_entitymatching as em"
   ]
  },
  {
   "cell_type": "code",
   "execution_count": 3,
   "metadata": {},
   "outputs": [],
   "source": [
    "client = Client()"
   ]
  },
  {
   "cell_type": "code",
   "execution_count": 4,
   "metadata": {
    "collapsed": true
   },
   "outputs": [],
   "source": [
    "orig_A = pd.read_csv('./citeseer_nonans.csv')\n",
    "orig_B = pd.read_csv('./dblp_nonans.csv')"
   ]
  },
  {
   "cell_type": "code",
   "execution_count": 5,
   "metadata": {
    "collapsed": true
   },
   "outputs": [],
   "source": [
    "# sample datasets\n",
    "A = pd.read_csv('./sample_citeseer.csv')\n",
    "B = pd.read_csv('./sample_dblp.csv')"
   ]
  },
  {
   "cell_type": "code",
   "execution_count": 6,
   "metadata": {
    "collapsed": true
   },
   "outputs": [],
   "source": [
    "# blocking\n",
    "ob = OverlapBlocker()\n",
    "C = ob.block_tables(A, B, 'id', 'id', 'title', 'title', \n",
    "                    overlap_size=3, nltable_chunks=2, nrtable_chunks=2, \n",
    "                    scheduler=client.get, compute=False, \n",
    "                    rem_stop_words=True\n",
    "                   )\n",
    "# len(C)"
   ]
  },
  {
   "cell_type": "code",
   "execution_count": 6,
   "metadata": {
    "collapsed": true
   },
   "outputs": [],
   "source": [
    "# client.restart()"
   ]
  },
  {
   "cell_type": "code",
   "execution_count": 7,
   "metadata": {
    "collapsed": true
   },
   "outputs": [],
   "source": [
    "L = pd.read_csv('sample_labeled_data.csv')\n",
    "L = L.head(1000) # to make things faster"
   ]
  },
  {
   "cell_type": "code",
   "execution_count": 8,
   "metadata": {
    "collapsed": true
   },
   "outputs": [],
   "source": [
    "F = em.get_features_for_matching(A, B)"
   ]
  },
  {
   "cell_type": "code",
   "execution_count": 9,
   "metadata": {
    "collapsed": true
   },
   "outputs": [],
   "source": [
    "# help(extract_feature_vecs)"
   ]
  },
  {
   "cell_type": "code",
   "execution_count": 10,
   "metadata": {},
   "outputs": [
    {
     "name": "stdout",
     "output_type": "stream",
     "text": [
      "[########################################] | 100% Completed |  3.0s\n"
     ]
    }
   ],
   "source": [
    "# Convert L into feature vectors using updated F\n",
    "H = extract_feature_vecs(L, orig_A, orig_B, \n",
    "                         '_id', 'l_id', 'r_id', 'id', 'id', \n",
    "                          feature_table=F, \n",
    "                          attrs_after='label', nchunks=1,\n",
    "                          show_progress=True, compute=True)\n"
   ]
  },
  {
   "cell_type": "code",
   "execution_count": null,
   "metadata": {
    "collapsed": true
   },
   "outputs": [],
   "source": [
    "# client.restart()"
   ]
  },
  {
   "cell_type": "code",
   "execution_count": 11,
   "metadata": {},
   "outputs": [
    {
     "data": {
      "text/html": [
       "<div>\n",
       "<style>\n",
       "    .dataframe thead tr:only-child th {\n",
       "        text-align: right;\n",
       "    }\n",
       "\n",
       "    .dataframe thead th {\n",
       "        text-align: left;\n",
       "    }\n",
       "\n",
       "    .dataframe tbody tr th {\n",
       "        vertical-align: top;\n",
       "    }\n",
       "</style>\n",
       "<table border=\"1\" class=\"dataframe\">\n",
       "  <thead>\n",
       "    <tr style=\"text-align: right;\">\n",
       "      <th></th>\n",
       "      <th>_id</th>\n",
       "      <th>l_id</th>\n",
       "      <th>r_id</th>\n",
       "      <th>id_id_exm</th>\n",
       "      <th>id_id_anm</th>\n",
       "      <th>id_id_lev_dist</th>\n",
       "      <th>id_id_lev_sim</th>\n",
       "      <th>title_title_jac_qgm_3_qgm_3</th>\n",
       "      <th>title_title_cos_dlm_dc0_dlm_dc0</th>\n",
       "      <th>title_title_mel</th>\n",
       "      <th>title_title_lev_dist</th>\n",
       "      <th>title_title_lev_sim</th>\n",
       "      <th>authors_authors_jac_qgm_3_qgm_3</th>\n",
       "      <th>authors_authors_cos_dlm_dc0_dlm_dc0</th>\n",
       "      <th>authors_authors_mel</th>\n",
       "      <th>authors_authors_lev_dist</th>\n",
       "      <th>authors_authors_lev_sim</th>\n",
       "      <th>label</th>\n",
       "    </tr>\n",
       "  </thead>\n",
       "  <tbody>\n",
       "    <tr>\n",
       "      <th>0</th>\n",
       "      <td>0</td>\n",
       "      <td>401372</td>\n",
       "      <td>1446376</td>\n",
       "      <td>0</td>\n",
       "      <td>0.277502</td>\n",
       "      <td>4</td>\n",
       "      <td>0.428571</td>\n",
       "      <td>0.101604</td>\n",
       "      <td>0.181902</td>\n",
       "      <td>0.707672</td>\n",
       "      <td>94.0</td>\n",
       "      <td>0.318841</td>\n",
       "      <td>0.000000</td>\n",
       "      <td>0.000000</td>\n",
       "      <td>0.514006</td>\n",
       "      <td>26.0</td>\n",
       "      <td>0.235294</td>\n",
       "      <td>0</td>\n",
       "    </tr>\n",
       "    <tr>\n",
       "      <th>1</th>\n",
       "      <td>1</td>\n",
       "      <td>1349544</td>\n",
       "      <td>12210</td>\n",
       "      <td>0</td>\n",
       "      <td>0.009048</td>\n",
       "      <td>6</td>\n",
       "      <td>0.142857</td>\n",
       "      <td>0.828571</td>\n",
       "      <td>0.714286</td>\n",
       "      <td>0.916532</td>\n",
       "      <td>2.0</td>\n",
       "      <td>0.968750</td>\n",
       "      <td>0.580000</td>\n",
       "      <td>0.676123</td>\n",
       "      <td>0.864320</td>\n",
       "      <td>14.0</td>\n",
       "      <td>0.695652</td>\n",
       "      <td>1</td>\n",
       "    </tr>\n",
       "    <tr>\n",
       "      <th>2</th>\n",
       "      <td>2</td>\n",
       "      <td>1328193</td>\n",
       "      <td>1921746</td>\n",
       "      <td>0</td>\n",
       "      <td>0.691139</td>\n",
       "      <td>5</td>\n",
       "      <td>0.285714</td>\n",
       "      <td>0.900000</td>\n",
       "      <td>0.800000</td>\n",
       "      <td>0.995833</td>\n",
       "      <td>1.0</td>\n",
       "      <td>0.979167</td>\n",
       "      <td>1.000000</td>\n",
       "      <td>1.000000</td>\n",
       "      <td>1.000000</td>\n",
       "      <td>0.0</td>\n",
       "      <td>1.000000</td>\n",
       "      <td>1</td>\n",
       "    </tr>\n",
       "    <tr>\n",
       "      <th>3</th>\n",
       "      <td>3</td>\n",
       "      <td>824620</td>\n",
       "      <td>1311578</td>\n",
       "      <td>0</td>\n",
       "      <td>0.628724</td>\n",
       "      <td>7</td>\n",
       "      <td>0.000000</td>\n",
       "      <td>0.104762</td>\n",
       "      <td>0.223607</td>\n",
       "      <td>0.590867</td>\n",
       "      <td>56.0</td>\n",
       "      <td>0.125000</td>\n",
       "      <td>0.092593</td>\n",
       "      <td>0.000000</td>\n",
       "      <td>0.640811</td>\n",
       "      <td>50.0</td>\n",
       "      <td>0.253731</td>\n",
       "      <td>0</td>\n",
       "    </tr>\n",
       "    <tr>\n",
       "      <th>4</th>\n",
       "      <td>4</td>\n",
       "      <td>1100045</td>\n",
       "      <td>535453</td>\n",
       "      <td>0</td>\n",
       "      <td>0.486756</td>\n",
       "      <td>6</td>\n",
       "      <td>0.142857</td>\n",
       "      <td>0.215116</td>\n",
       "      <td>0.333333</td>\n",
       "      <td>0.695030</td>\n",
       "      <td>108.0</td>\n",
       "      <td>0.239437</td>\n",
       "      <td>0.010101</td>\n",
       "      <td>0.000000</td>\n",
       "      <td>0.525752</td>\n",
       "      <td>58.0</td>\n",
       "      <td>0.205479</td>\n",
       "      <td>0</td>\n",
       "    </tr>\n",
       "  </tbody>\n",
       "</table>\n",
       "</div>"
      ],
      "text/plain": [
       "   _id     l_id     r_id  id_id_exm  id_id_anm  id_id_lev_dist  id_id_lev_sim  \\\n",
       "0    0   401372  1446376          0   0.277502               4       0.428571   \n",
       "1    1  1349544    12210          0   0.009048               6       0.142857   \n",
       "2    2  1328193  1921746          0   0.691139               5       0.285714   \n",
       "3    3   824620  1311578          0   0.628724               7       0.000000   \n",
       "4    4  1100045   535453          0   0.486756               6       0.142857   \n",
       "\n",
       "   title_title_jac_qgm_3_qgm_3  title_title_cos_dlm_dc0_dlm_dc0  \\\n",
       "0                     0.101604                         0.181902   \n",
       "1                     0.828571                         0.714286   \n",
       "2                     0.900000                         0.800000   \n",
       "3                     0.104762                         0.223607   \n",
       "4                     0.215116                         0.333333   \n",
       "\n",
       "   title_title_mel  title_title_lev_dist  title_title_lev_sim  \\\n",
       "0         0.707672                  94.0             0.318841   \n",
       "1         0.916532                   2.0             0.968750   \n",
       "2         0.995833                   1.0             0.979167   \n",
       "3         0.590867                  56.0             0.125000   \n",
       "4         0.695030                 108.0             0.239437   \n",
       "\n",
       "   authors_authors_jac_qgm_3_qgm_3  authors_authors_cos_dlm_dc0_dlm_dc0  \\\n",
       "0                         0.000000                             0.000000   \n",
       "1                         0.580000                             0.676123   \n",
       "2                         1.000000                             1.000000   \n",
       "3                         0.092593                             0.000000   \n",
       "4                         0.010101                             0.000000   \n",
       "\n",
       "   authors_authors_mel  authors_authors_lev_dist  authors_authors_lev_sim  \\\n",
       "0             0.514006                      26.0                 0.235294   \n",
       "1             0.864320                      14.0                 0.695652   \n",
       "2             1.000000                       0.0                 1.000000   \n",
       "3             0.640811                      50.0                 0.253731   \n",
       "4             0.525752                      58.0                 0.205479   \n",
       "\n",
       "   label  \n",
       "0      0  \n",
       "1      1  \n",
       "2      1  \n",
       "3      0  \n",
       "4      0  "
      ]
     },
     "execution_count": 11,
     "metadata": {},
     "output_type": "execute_result"
    }
   ],
   "source": [
    "H.head()"
   ]
  },
  {
   "cell_type": "code",
   "execution_count": 12,
   "metadata": {
    "collapsed": true
   },
   "outputs": [],
   "source": [
    "\n",
    "# Instantiate the matcher to evaluate.\n",
    "dt = DTMatcher(name='DecisionTree', random_state=0)"
   ]
  },
  {
   "cell_type": "code",
   "execution_count": 13,
   "metadata": {
    "collapsed": true
   },
   "outputs": [],
   "source": [
    "dt.fit(table=H, \n",
    "       exclude_attrs=['_id', 'l_id', 'r_id', 'label'], \n",
    "       target_attr='label')"
   ]
  },
  {
   "cell_type": "code",
   "execution_count": 14,
   "metadata": {
    "collapsed": true
   },
   "outputs": [],
   "source": [
    "# Convert J into a set of feature vectors using F\n",
    "I = extract_feature_vecs(C, A, B,\n",
    "                         '_id', 'l_id', 'r_id', 'id', 'id', \n",
    "                            nchunks=4,\n",
    "                            feature_table=F,\n",
    "                            \n",
    "                            show_progress=False,\n",
    "                            compute=False)"
   ]
  },
  {
   "cell_type": "code",
   "execution_count": 17,
   "metadata": {
    "collapsed": true
   },
   "outputs": [],
   "source": [
    "# help(dt.predict)"
   ]
  },
  {
   "cell_type": "code",
   "execution_count": 15,
   "metadata": {
    "collapsed": true
   },
   "outputs": [],
   "source": [
    "predictions = dt.predict(table=I, exclude_attrs=['_id', 'l_id', 'r_id'], \n",
    "              append=True, target_attr='predicted', inplace=False,\n",
    "                        nchunks=4, scheduler=client.get, compute=False)"
   ]
  },
  {
   "cell_type": "code",
   "execution_count": 16,
   "metadata": {},
   "outputs": [],
   "source": [
    "# predictions.visualize()"
   ]
  },
  {
   "cell_type": "code",
   "execution_count": 17,
   "metadata": {},
   "outputs": [],
   "source": [
    "p = predictions.compute(get=client.get)"
   ]
  }
 ],
 "metadata": {
  "kernelspec": {
   "display_name": "Python 2",
   "language": "python",
   "name": "python2"
  },
  "language_info": {
   "codemirror_mode": {
    "name": "ipython",
    "version": 2
   },
   "file_extension": ".py",
   "mimetype": "text/x-python",
   "name": "python",
   "nbconvert_exporter": "python",
   "pygments_lexer": "ipython2",
   "version": "2.7.13"
  }
 },
 "nbformat": 4,
 "nbformat_minor": 2
}
