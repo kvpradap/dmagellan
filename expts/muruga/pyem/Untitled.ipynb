{
 "cells": [
  {
   "cell_type": "code",
   "execution_count": 1,
   "metadata": {},
   "outputs": [],
   "source": [
    "import sys\n",
    "sys.path.append('/scratch/pradap/python-work/anhaidgroup/py_entitymatching')"
   ]
  },
  {
   "cell_type": "code",
   "execution_count": 2,
   "metadata": {},
   "outputs": [
    {
     "name": "stderr",
     "output_type": "stream",
     "text": [
      "No handlers could be found for logger \"py_entitymatching.io.parsers\"\n"
     ]
    }
   ],
   "source": [
    "import psutil\n",
    "import time\n",
    "import py_entitymatching as em\n",
    "A = em.read_csv_metadata('../datasets/msd.csv', key='id')\n"
   ]
  },
  {
   "cell_type": "code",
   "execution_count": 3,
   "metadata": {},
   "outputs": [],
   "source": [
    "import logging\n",
    "logging.basicConfig(level=logging.INFO)"
   ]
  },
  {
   "cell_type": "code",
   "execution_count": 7,
   "metadata": {},
   "outputs": [
    {
     "name": "stderr",
     "output_type": "stream",
     "text": [
      "WARNING:py_entitymatching.io.parsers:Metadata file is not present in the given path; proceeding to read the csv file.\n"
     ]
    },
    {
     "name": "stdout",
     "output_type": "stream",
     "text": [
      "Mem. usage before reading:4.450619392 (GB)\n"
     ]
    },
    {
     "name": "stderr",
     "output_type": "stream",
     "text": [
      "WARNING:py_entitymatching.io.parsers:Metadata file is not present in the given path; proceeding to read the csv file.\n"
     ]
    },
    {
     "name": "stdout",
     "output_type": "stream",
     "text": [
      "Mem. usage after reading:4.80299008 (GB)\n"
     ]
    },
    {
     "name": "stderr",
     "output_type": "stream",
     "text": [
      "\r",
      "0% [#                             ] 100% | ETA: 00:01:15\r",
      "0% [##                            ] 100% | ETA: 00:01:14\r",
      "0% [###                           ] 100% | ETA: 00:01:15\r",
      "0% [####                          ] 100% | ETA: 00:01:11\r",
      "0% [#####                         ] 100% | ETA: 00:01:08\r",
      "0% [######                        ] 100% | ETA: 00:01:06\r",
      "0% [#######                       ] 100% | ETA: 00:01:04\r",
      "0% [########                      ] 100% | ETA: 00:01:00\r",
      "0% [#########                     ] 100% | ETA: 00:00:58\r",
      "0% [##########                    ] 100% | ETA: 00:00:55\r",
      "0% [###########                   ] 100% | ETA: 00:00:52\r",
      "0% [############                  ] 100% | ETA: 00:00:50\r",
      "0% [#############                 ] 100% | ETA: 00:00:47\r",
      "0% [##############                ] 100% | ETA: 00:00:44\r",
      "0% [###############               ] 100% | ETA: 00:00:41\r",
      "0% [################              ] 100% | ETA: 00:00:38\r",
      "0% [#################             ] 100% | ETA: 00:00:36\r",
      "0% [##################            ] 100% | ETA: 00:00:33\r",
      "0% [###################           ] 100% | ETA: 00:00:30\r",
      "0% [####################          ] 100% | ETA: 00:00:28\r",
      "0% [#####################         ] 100% | ETA: 00:00:25\r",
      "0% [######################        ] 100% | ETA: 00:00:22\r",
      "0% [#######################       ] 100% | ETA: 00:00:19\r",
      "0% [########################      ] 100% | ETA: 00:00:16\r",
      "0% [#########################     ] 100% | ETA: 00:00:13\r",
      "0% [##########################    ] 100% | ETA: 00:00:11\r",
      "0% [###########################   ] 100% | ETA: 00:00:08\r",
      "0% [############################  ] 100% | ETA: 00:00:05\r",
      "0% [############################# ] 100% | ETA: 00:00:02\r",
      "0% [##############################] 100% | ETA: 00:00:00\r",
      "0% [##############################] 100% | ETA: 00:00:00\n",
      "Total time elapsed: 00:01:23\n"
     ]
    },
    {
     "name": "stdout",
     "output_type": "stream",
     "text": [
      "Mem.usage (after reading): 4.80299008 (GB), Mem.usage (after downsampling): 4.603338752 (GB), diff: -0.199651328 (GB)\n",
      "Time. diff: 94.3938732147 (secs)\n"
     ]
    }
   ],
   "source": [
    "import psutil\n",
    "import time\n",
    "\n",
    "\n",
    "import py_entitymatching as em\n",
    "print(\"Mem. usage before reading:{0} (GB)\".format( psutil.virtual_memory().used/1e9))\n",
    "A = em.read_csv_metadata('../datasets/msd.csv', key='id')\n",
    "B = em.read_csv_metadata('../datasets/msd.csv', key='id')\n",
    "print(\"Mem. usage after reading:{0} (GB)\".format(psutil.virtual_memory().used/1e9))\n",
    "\n",
    "memUsageBefore = psutil.virtual_memory().used/1e9\n",
    "timeBefore = time.time()\n",
    "C = em.down_sample(A, B, 10000, 1, show_progress=True)\n",
    "timeAfter = time.time()\n",
    "memUsageAfter = psutil.virtual_memory().used/1e9\n",
    "\n",
    "print('Mem.usage (after reading): {0} (GB), Mem.usage (after downsampling): {1} (GB), diff: {2} (GB)'.format(memUsageBefore, memUsageAfter, memUsageAfter-memUsageBefore))\n",
    "print('Time. diff: {0} (secs)'.format(timeAfter-timeBefore))"
   ]
  }
 ],
 "metadata": {
  "kernelspec": {
   "display_name": "Python 2",
   "language": "python",
   "name": "python2"
  },
  "language_info": {
   "codemirror_mode": {
    "name": "ipython",
    "version": 2
   },
   "file_extension": ".py",
   "mimetype": "text/x-python",
   "name": "python",
   "nbconvert_exporter": "python",
   "pygments_lexer": "ipython2",
   "version": "2.7.13"
  }
 },
 "nbformat": 4,
 "nbformat_minor": 2
}
