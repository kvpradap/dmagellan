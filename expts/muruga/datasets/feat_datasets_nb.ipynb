{
 "cells": [
  {
   "cell_type": "code",
   "execution_count": 1,
   "metadata": {
    "collapsed": true
   },
   "outputs": [],
   "source": [
    "import pandas as pd"
   ]
  },
  {
   "cell_type": "code",
   "execution_count": 2,
   "metadata": {
    "collapsed": true
   },
   "outputs": [],
   "source": [
    "songs = pd.read_csv('datasets/msd.csv')"
   ]
  },
  {
   "cell_type": "code",
   "execution_count": 3,
   "metadata": {
    "collapsed": true
   },
   "outputs": [],
   "source": [
    "C = pd.read_csv('datasets/candset_msd_overlap_blocker_th2.csv')"
   ]
  },
  {
   "cell_type": "code",
   "execution_count": 4,
   "metadata": {
    "collapsed": true
   },
   "outputs": [],
   "source": [
    "songs_id = songs.set_index('id', drop=False)"
   ]
  },
  {
   "cell_type": "code",
   "execution_count": 9,
   "metadata": {
    "collapsed": false
   },
   "outputs": [],
   "source": [
    "lid_set = set(list(C.l_id.values))\n",
    "rid_set = set(list(C.r_id.values))"
   ]
  },
  {
   "cell_type": "code",
   "execution_count": 21,
   "metadata": {
    "collapsed": false
   },
   "outputs": [
    {
     "data": {
      "text/plain": [
       "0    459437\n",
       "1    638163\n",
       "2    509809\n",
       "3    509809\n",
       "4    509809\n",
       "Name: r_id, dtype: int64"
      ]
     },
     "execution_count": 21,
     "metadata": {},
     "output_type": "execute_result"
    }
   ],
   "source": [
    "C.r_id.head()"
   ]
  },
  {
   "cell_type": "code",
   "execution_count": null,
   "metadata": {
    "collapsed": true
   },
   "outputs": [],
   "source": []
  },
  {
   "cell_type": "code",
   "execution_count": 17,
   "metadata": {
    "collapsed": false
   },
   "outputs": [
    {
     "data": {
      "text/plain": [
       "([262144, 1, 917506, 786436, 262150], [262144, 1, 917506, 786436, 262150])"
      ]
     },
     "execution_count": 17,
     "metadata": {},
     "output_type": "execute_result"
    }
   ],
   "source": [
    "list(lid_set)[:5], list(rid_set)[:5]"
   ]
  },
  {
   "cell_type": "code",
   "execution_count": 10,
   "metadata": {
    "collapsed": true
   },
   "outputs": [],
   "source": [
    "songs_A = songs_id.loc[lid_set]\n",
    "songs_B = songs_id.loc[rid_set]"
   ]
  },
  {
   "cell_type": "code",
   "execution_count": 11,
   "metadata": {
    "collapsed": false
   },
   "outputs": [
    {
     "data": {
      "text/plain": [
       "(80187, 80187)"
      ]
     },
     "execution_count": 11,
     "metadata": {},
     "output_type": "execute_result"
    }
   ],
   "source": [
    "len(songs_A), len(songs_B)"
   ]
  },
  {
   "cell_type": "code",
   "execution_count": 20,
   "metadata": {
    "collapsed": false
   },
   "outputs": [
    {
     "data": {
      "text/plain": [
       "True"
      ]
     },
     "execution_count": 20,
     "metadata": {},
     "output_type": "execute_result"
    }
   ],
   "source": [
    "459437 in rid_set"
   ]
  },
  {
   "cell_type": "code",
   "execution_count": 13,
   "metadata": {
    "collapsed": false
   },
   "outputs": [],
   "source": [
    "songs_A.reset_index(drop=True, inplace=True)\n",
    "songs_B.reset_index(drop=True, inplace=True)"
   ]
  },
  {
   "cell_type": "code",
   "execution_count": 14,
   "metadata": {
    "collapsed": false
   },
   "outputs": [
    {
     "data": {
      "text/html": [
       "<div>\n",
       "<style>\n",
       "    .dataframe thead tr:only-child th {\n",
       "        text-align: right;\n",
       "    }\n",
       "\n",
       "    .dataframe thead th {\n",
       "        text-align: left;\n",
       "    }\n",
       "\n",
       "    .dataframe tbody tr th {\n",
       "        vertical-align: top;\n",
       "    }\n",
       "</style>\n",
       "<table border=\"1\" class=\"dataframe\">\n",
       "  <thead>\n",
       "    <tr style=\"text-align: right;\">\n",
       "      <th></th>\n",
       "      <th>id</th>\n",
       "      <th>title</th>\n",
       "      <th>release</th>\n",
       "      <th>artist_name</th>\n",
       "      <th>duration</th>\n",
       "      <th>artist_familiarity</th>\n",
       "      <th>artist_hotttnesss</th>\n",
       "      <th>year</th>\n",
       "    </tr>\n",
       "  </thead>\n",
       "  <tbody>\n",
       "    <tr>\n",
       "      <th>0</th>\n",
       "      <td>262144</td>\n",
       "      <td>Give me back my gold</td>\n",
       "      <td>LunaDance</td>\n",
       "      <td>Bunnyranch</td>\n",
       "      <td>181.62893</td>\n",
       "      <td>0.542567</td>\n",
       "      <td>0.347783</td>\n",
       "      <td>2006</td>\n",
       "    </tr>\n",
       "    <tr>\n",
       "      <th>1</th>\n",
       "      <td>1</td>\n",
       "      <td>Silent Night</td>\n",
       "      <td>Monster Ballads X-Mas</td>\n",
       "      <td>Faster Pussy cat</td>\n",
       "      <td>252.05506</td>\n",
       "      <td>0.649822</td>\n",
       "      <td>0.394032</td>\n",
       "      <td>2003</td>\n",
       "    </tr>\n",
       "    <tr>\n",
       "      <th>2</th>\n",
       "      <td>917506</td>\n",
       "      <td>She Tears Out</td>\n",
       "      <td>We\u0019ve Moved</td>\n",
       "      <td>Psycho and the Birds</td>\n",
       "      <td>137.87383</td>\n",
       "      <td>0.388882</td>\n",
       "      <td>0.266937</td>\n",
       "      <td>2008</td>\n",
       "    </tr>\n",
       "    <tr>\n",
       "      <th>3</th>\n",
       "      <td>786436</td>\n",
       "      <td>Song For Samael</td>\n",
       "      <td>Breedless</td>\n",
       "      <td>Ego Likeness</td>\n",
       "      <td>274.72934</td>\n",
       "      <td>0.582485</td>\n",
       "      <td>0.420262</td>\n",
       "      <td>2010</td>\n",
       "    </tr>\n",
       "    <tr>\n",
       "      <th>4</th>\n",
       "      <td>262150</td>\n",
       "      <td>Sube a mi nave espacial</td>\n",
       "      <td>Los planes y archivos del doctor Yo CD 1</td>\n",
       "      <td>7 Notas 7 Colores</td>\n",
       "      <td>284.05506</td>\n",
       "      <td>0.560697</td>\n",
       "      <td>0.357304</td>\n",
       "      <td>1997</td>\n",
       "    </tr>\n",
       "  </tbody>\n",
       "</table>\n",
       "</div>"
      ],
      "text/plain": [
       "       id                    title                                   release  \\\n",
       "0  262144     Give me back my gold                                 LunaDance   \n",
       "1       1             Silent Night                     Monster Ballads X-Mas   \n",
       "2  917506            She Tears Out                               We\u0019ve Moved   \n",
       "3  786436          Song For Samael                                 Breedless   \n",
       "4  262150  Sube a mi nave espacial  Los planes y archivos del doctor Yo CD 1   \n",
       "\n",
       "            artist_name   duration  artist_familiarity  artist_hotttnesss  \\\n",
       "0            Bunnyranch  181.62893            0.542567           0.347783   \n",
       "1      Faster Pussy cat  252.05506            0.649822           0.394032   \n",
       "2  Psycho and the Birds  137.87383            0.388882           0.266937   \n",
       "3          Ego Likeness  274.72934            0.582485           0.420262   \n",
       "4     7 Notas 7 Colores  284.05506            0.560697           0.357304   \n",
       "\n",
       "   year  \n",
       "0  2006  \n",
       "1  2003  \n",
       "2  2008  \n",
       "3  2010  \n",
       "4  1997  "
      ]
     },
     "execution_count": 14,
     "metadata": {},
     "output_type": "execute_result"
    }
   ],
   "source": [
    "songs_A.head()"
   ]
  },
  {
   "cell_type": "code",
   "execution_count": 15,
   "metadata": {
    "collapsed": false
   },
   "outputs": [
    {
     "data": {
      "text/html": [
       "<div>\n",
       "<style>\n",
       "    .dataframe thead tr:only-child th {\n",
       "        text-align: right;\n",
       "    }\n",
       "\n",
       "    .dataframe thead th {\n",
       "        text-align: left;\n",
       "    }\n",
       "\n",
       "    .dataframe tbody tr th {\n",
       "        vertical-align: top;\n",
       "    }\n",
       "</style>\n",
       "<table border=\"1\" class=\"dataframe\">\n",
       "  <thead>\n",
       "    <tr style=\"text-align: right;\">\n",
       "      <th></th>\n",
       "      <th>id</th>\n",
       "      <th>title</th>\n",
       "      <th>release</th>\n",
       "      <th>artist_name</th>\n",
       "      <th>duration</th>\n",
       "      <th>artist_familiarity</th>\n",
       "      <th>artist_hotttnesss</th>\n",
       "      <th>year</th>\n",
       "    </tr>\n",
       "  </thead>\n",
       "  <tbody>\n",
       "    <tr>\n",
       "      <th>0</th>\n",
       "      <td>262144</td>\n",
       "      <td>Give me back my gold</td>\n",
       "      <td>LunaDance</td>\n",
       "      <td>Bunnyranch</td>\n",
       "      <td>181.62893</td>\n",
       "      <td>0.542567</td>\n",
       "      <td>0.347783</td>\n",
       "      <td>2006</td>\n",
       "    </tr>\n",
       "    <tr>\n",
       "      <th>1</th>\n",
       "      <td>1</td>\n",
       "      <td>Silent Night</td>\n",
       "      <td>Monster Ballads X-Mas</td>\n",
       "      <td>Faster Pussy cat</td>\n",
       "      <td>252.05506</td>\n",
       "      <td>0.649822</td>\n",
       "      <td>0.394032</td>\n",
       "      <td>2003</td>\n",
       "    </tr>\n",
       "    <tr>\n",
       "      <th>2</th>\n",
       "      <td>917506</td>\n",
       "      <td>She Tears Out</td>\n",
       "      <td>We\u0019ve Moved</td>\n",
       "      <td>Psycho and the Birds</td>\n",
       "      <td>137.87383</td>\n",
       "      <td>0.388882</td>\n",
       "      <td>0.266937</td>\n",
       "      <td>2008</td>\n",
       "    </tr>\n",
       "    <tr>\n",
       "      <th>3</th>\n",
       "      <td>786436</td>\n",
       "      <td>Song For Samael</td>\n",
       "      <td>Breedless</td>\n",
       "      <td>Ego Likeness</td>\n",
       "      <td>274.72934</td>\n",
       "      <td>0.582485</td>\n",
       "      <td>0.420262</td>\n",
       "      <td>2010</td>\n",
       "    </tr>\n",
       "    <tr>\n",
       "      <th>4</th>\n",
       "      <td>262150</td>\n",
       "      <td>Sube a mi nave espacial</td>\n",
       "      <td>Los planes y archivos del doctor Yo CD 1</td>\n",
       "      <td>7 Notas 7 Colores</td>\n",
       "      <td>284.05506</td>\n",
       "      <td>0.560697</td>\n",
       "      <td>0.357304</td>\n",
       "      <td>1997</td>\n",
       "    </tr>\n",
       "  </tbody>\n",
       "</table>\n",
       "</div>"
      ],
      "text/plain": [
       "       id                    title                                   release  \\\n",
       "0  262144     Give me back my gold                                 LunaDance   \n",
       "1       1             Silent Night                     Monster Ballads X-Mas   \n",
       "2  917506            She Tears Out                               We\u0019ve Moved   \n",
       "3  786436          Song For Samael                                 Breedless   \n",
       "4  262150  Sube a mi nave espacial  Los planes y archivos del doctor Yo CD 1   \n",
       "\n",
       "            artist_name   duration  artist_familiarity  artist_hotttnesss  \\\n",
       "0            Bunnyranch  181.62893            0.542567           0.347783   \n",
       "1      Faster Pussy cat  252.05506            0.649822           0.394032   \n",
       "2  Psycho and the Birds  137.87383            0.388882           0.266937   \n",
       "3          Ego Likeness  274.72934            0.582485           0.420262   \n",
       "4     7 Notas 7 Colores  284.05506            0.560697           0.357304   \n",
       "\n",
       "   year  \n",
       "0  2006  \n",
       "1  2003  \n",
       "2  2008  \n",
       "3  2010  \n",
       "4  1997  "
      ]
     },
     "execution_count": 15,
     "metadata": {},
     "output_type": "execute_result"
    }
   ],
   "source": [
    "songs_B.head()"
   ]
  },
  {
   "cell_type": "code",
   "execution_count": 22,
   "metadata": {
    "collapsed": true
   },
   "outputs": [],
   "source": [
    "songs_A.to_csv('./msd_A.csv', index=False)\n",
    "songs_B.to_csv('./msd_B.csv', index=False)"
   ]
  },
  {
   "cell_type": "code",
   "execution_count": 23,
   "metadata": {
    "collapsed": false
   },
   "outputs": [
    {
     "name": "stderr",
     "output_type": "stream",
     "text": [
      "/scratch/pradap/local/share/anaconda2/lib/python2.7/site-packages/IPython/core/interactiveshell.py:2717: DtypeWarning: Columns (3,4) have mixed types. Specify dtype option on import or set low_memory=False.\n",
      "  interactivity=interactivity, compiler=compiler, result=result)\n"
     ]
    }
   ],
   "source": [
    "citeseer = pd.read_csv('datasets/citeseer.csv')\n",
    "dblp = pd.read_csv('datasets/dblp.csv')"
   ]
  },
  {
   "cell_type": "code",
   "execution_count": 25,
   "metadata": {
    "collapsed": true
   },
   "outputs": [],
   "source": [
    "C = pd.read_csv('datasets/citeseer_candset_ovth_2.csv')"
   ]
  },
  {
   "cell_type": "code",
   "execution_count": 26,
   "metadata": {
    "collapsed": true
   },
   "outputs": [],
   "source": [
    "citeseer_id = citeseer.set_index('id', drop=False)\n",
    "dblp_id = dblp.set_index('id', drop=False)"
   ]
  },
  {
   "cell_type": "code",
   "execution_count": 27,
   "metadata": {
    "collapsed": true
   },
   "outputs": [],
   "source": [
    "lid_set = set(list(C.l_id.values))\n",
    "rid_set = set(list(C.r_id.values))"
   ]
  },
  {
   "cell_type": "code",
   "execution_count": 28,
   "metadata": {
    "collapsed": false
   },
   "outputs": [
    {
     "data": {
      "text/plain": [
       "(78578, 94199)"
      ]
     },
     "execution_count": 28,
     "metadata": {},
     "output_type": "execute_result"
    }
   ],
   "source": [
    "len(lid_set), len(rid_set)"
   ]
  },
  {
   "cell_type": "code",
   "execution_count": 33,
   "metadata": {
    "collapsed": true
   },
   "outputs": [],
   "source": [
    "citeseer_a = citeseer_id.loc[list(lid_set)]\n",
    "dblp_b = dblp_id.loc[list(rid_set)]"
   ]
  },
  {
   "cell_type": "code",
   "execution_count": 34,
   "metadata": {
    "collapsed": false
   },
   "outputs": [
    {
     "data": {
      "text/plain": [
       "(78578, 94199)"
      ]
     },
     "execution_count": 34,
     "metadata": {},
     "output_type": "execute_result"
    }
   ],
   "source": [
    "len(citeseer_a), len(dblp_b)"
   ]
  },
  {
   "cell_type": "code",
   "execution_count": 35,
   "metadata": {
    "collapsed": true
   },
   "outputs": [],
   "source": [
    "citeseer_a.reset_index(inplace=True, drop=True)\n",
    "dblp_b.reset_index(inplace=True, drop=True)"
   ]
  },
  {
   "cell_type": "code",
   "execution_count": 36,
   "metadata": {
    "collapsed": false
   },
   "outputs": [
    {
     "data": {
      "text/html": [
       "<div>\n",
       "<style>\n",
       "    .dataframe thead tr:only-child th {\n",
       "        text-align: right;\n",
       "    }\n",
       "\n",
       "    .dataframe thead th {\n",
       "        text-align: left;\n",
       "    }\n",
       "\n",
       "    .dataframe tbody tr th {\n",
       "        vertical-align: top;\n",
       "    }\n",
       "</style>\n",
       "<table border=\"1\" class=\"dataframe\">\n",
       "  <thead>\n",
       "    <tr style=\"text-align: right;\">\n",
       "      <th></th>\n",
       "      <th>id</th>\n",
       "      <th>title</th>\n",
       "      <th>authors</th>\n",
       "      <th>journal</th>\n",
       "      <th>month</th>\n",
       "      <th>year</th>\n",
       "      <th>publication_type</th>\n",
       "    </tr>\n",
       "  </thead>\n",
       "  <tbody>\n",
       "    <tr>\n",
       "      <th>0</th>\n",
       "      <td>262146</td>\n",
       "      <td>INTRODUCTION FINITE FRACTURE MECHANICS OF MATR...</td>\n",
       "      <td>John A. Nairn</td>\n",
       "      <td>NaN</td>\n",
       "      <td>NaN</td>\n",
       "      <td>NaN</td>\n",
       "      <td>NaN</td>\n",
       "    </tr>\n",
       "    <tr>\n",
       "      <th>1</th>\n",
       "      <td>17458</td>\n",
       "      <td>Model-Based Occlusion Handling for Tracking in...</td>\n",
       "      <td>Csaba Beleznai, Bernhard Frhstck, Horst Bischo...</td>\n",
       "      <td>NaN</td>\n",
       "      <td>NaN</td>\n",
       "      <td>NaN</td>\n",
       "      <td>NaN</td>\n",
       "    </tr>\n",
       "    <tr>\n",
       "      <th>2</th>\n",
       "      <td>1048581</td>\n",
       "      <td>Examining the Transfer Student Experience: Int...</td>\n",
       "      <td>Alexander C. Mccormick, Shimon A. Sarraf, Alli...</td>\n",
       "      <td>NaN</td>\n",
       "      <td>NaN</td>\n",
       "      <td>NaN</td>\n",
       "      <td>NaN</td>\n",
       "    </tr>\n",
       "    <tr>\n",
       "      <th>3</th>\n",
       "      <td>1310726</td>\n",
       "      <td>Formalizing Dynamic Software Updating</td>\n",
       "      <td>Gavin Bierman, Michael Hicks, Peter Sewell, Ga...</td>\n",
       "      <td>NaN</td>\n",
       "      <td>NaN</td>\n",
       "      <td>2003.0</td>\n",
       "      <td>NaN</td>\n",
       "    </tr>\n",
       "    <tr>\n",
       "      <th>4</th>\n",
       "      <td>786444</td>\n",
       "      <td>Lower Bounds for Deterministic and Nondetermin...</td>\n",
       "      <td>Alexander A. Razborov</td>\n",
       "      <td>NaN</td>\n",
       "      <td>NaN</td>\n",
       "      <td>NaN</td>\n",
       "      <td>NaN</td>\n",
       "    </tr>\n",
       "  </tbody>\n",
       "</table>\n",
       "</div>"
      ],
      "text/plain": [
       "        id                                              title  \\\n",
       "0   262146  INTRODUCTION FINITE FRACTURE MECHANICS OF MATR...   \n",
       "1    17458  Model-Based Occlusion Handling for Tracking in...   \n",
       "2  1048581  Examining the Transfer Student Experience: Int...   \n",
       "3  1310726              Formalizing Dynamic Software Updating   \n",
       "4   786444  Lower Bounds for Deterministic and Nondetermin...   \n",
       "\n",
       "                                             authors journal  month    year  \\\n",
       "0                                      John A. Nairn     NaN    NaN     NaN   \n",
       "1  Csaba Beleznai, Bernhard Frhstck, Horst Bischo...     NaN    NaN     NaN   \n",
       "2  Alexander C. Mccormick, Shimon A. Sarraf, Alli...     NaN    NaN     NaN   \n",
       "3  Gavin Bierman, Michael Hicks, Peter Sewell, Ga...     NaN    NaN  2003.0   \n",
       "4                              Alexander A. Razborov     NaN    NaN     NaN   \n",
       "\n",
       "  publication_type  \n",
       "0              NaN  \n",
       "1              NaN  \n",
       "2              NaN  \n",
       "3              NaN  \n",
       "4              NaN  "
      ]
     },
     "execution_count": 36,
     "metadata": {},
     "output_type": "execute_result"
    }
   ],
   "source": [
    "citeseer_a.head()"
   ]
  },
  {
   "cell_type": "code",
   "execution_count": 37,
   "metadata": {
    "collapsed": false
   },
   "outputs": [
    {
     "data": {
      "text/html": [
       "<div>\n",
       "<style>\n",
       "    .dataframe thead tr:only-child th {\n",
       "        text-align: right;\n",
       "    }\n",
       "\n",
       "    .dataframe thead th {\n",
       "        text-align: left;\n",
       "    }\n",
       "\n",
       "    .dataframe tbody tr th {\n",
       "        vertical-align: top;\n",
       "    }\n",
       "</style>\n",
       "<table border=\"1\" class=\"dataframe\">\n",
       "  <thead>\n",
       "    <tr style=\"text-align: right;\">\n",
       "      <th></th>\n",
       "      <th>id</th>\n",
       "      <th>title</th>\n",
       "      <th>authors</th>\n",
       "      <th>journal</th>\n",
       "      <th>month</th>\n",
       "      <th>year</th>\n",
       "      <th>publication_type</th>\n",
       "    </tr>\n",
       "  </thead>\n",
       "  <tbody>\n",
       "    <tr>\n",
       "      <th>0</th>\n",
       "      <td>1835015</td>\n",
       "      <td>Multiplied Conditional Impossible Differential...</td>\n",
       "      <td>Leibo Li, Jiazhe Chen, Xiaoyun Wang</td>\n",
       "      <td>IACR Cryptology ePrint Archive</td>\n",
       "      <td>NaN</td>\n",
       "      <td>2011</td>\n",
       "      <td>article</td>\n",
       "    </tr>\n",
       "    <tr>\n",
       "      <th>1</th>\n",
       "      <td>786441</td>\n",
       "      <td>Tamagotchis Need Not Die - Verification of STA...</td>\n",
       "      <td>Udo Brockmeyer, Gunnar Wittich</td>\n",
       "      <td>NaN</td>\n",
       "      <td>NaN</td>\n",
       "      <td>1998</td>\n",
       "      <td>inproceedings</td>\n",
       "    </tr>\n",
       "    <tr>\n",
       "      <th>2</th>\n",
       "      <td>2097168</td>\n",
       "      <td>Two-Dimension Common Factor Decomposition of H...</td>\n",
       "      <td>Zhixin Wang, Cheung-Fat Chan</td>\n",
       "      <td>IEEE Signal Process. Lett.</td>\n",
       "      <td>NaN</td>\n",
       "      <td>2013</td>\n",
       "      <td>article</td>\n",
       "    </tr>\n",
       "    <tr>\n",
       "      <th>3</th>\n",
       "      <td>776885</td>\n",
       "      <td>The Impact Of Relationships And Confucian Ethi...</td>\n",
       "      <td>Jijie Wang, Lih-Bin Oh</td>\n",
       "      <td>NaN</td>\n",
       "      <td>NaN</td>\n",
       "      <td>2011</td>\n",
       "      <td>inproceedings</td>\n",
       "    </tr>\n",
       "    <tr>\n",
       "      <th>4</th>\n",
       "      <td>262163</td>\n",
       "      <td>A Reconfigurable Hardware Platform for Digital...</td>\n",
       "      <td>K. Henriss, Peter Rffer, Rolf Ernst, S. Hasenzahl</td>\n",
       "      <td>NaN</td>\n",
       "      <td>NaN</td>\n",
       "      <td>2000</td>\n",
       "      <td>inproceedings</td>\n",
       "    </tr>\n",
       "  </tbody>\n",
       "</table>\n",
       "</div>"
      ],
      "text/plain": [
       "        id                                              title  \\\n",
       "0  1835015  Multiplied Conditional Impossible Differential...   \n",
       "1   786441  Tamagotchis Need Not Die - Verification of STA...   \n",
       "2  2097168  Two-Dimension Common Factor Decomposition of H...   \n",
       "3   776885  The Impact Of Relationships And Confucian Ethi...   \n",
       "4   262163  A Reconfigurable Hardware Platform for Digital...   \n",
       "\n",
       "                                             authors  \\\n",
       "0                Leibo Li, Jiazhe Chen, Xiaoyun Wang   \n",
       "1                     Udo Brockmeyer, Gunnar Wittich   \n",
       "2                       Zhixin Wang, Cheung-Fat Chan   \n",
       "3                             Jijie Wang, Lih-Bin Oh   \n",
       "4  K. Henriss, Peter Rffer, Rolf Ernst, S. Hasenzahl   \n",
       "\n",
       "                          journal month  year publication_type  \n",
       "0  IACR Cryptology ePrint Archive   NaN  2011          article  \n",
       "1                             NaN   NaN  1998    inproceedings  \n",
       "2      IEEE Signal Process. Lett.   NaN  2013          article  \n",
       "3                             NaN   NaN  2011    inproceedings  \n",
       "4                             NaN   NaN  2000    inproceedings  "
      ]
     },
     "execution_count": 37,
     "metadata": {},
     "output_type": "execute_result"
    }
   ],
   "source": [
    "dblp_b.head()"
   ]
  },
  {
   "cell_type": "code",
   "execution_count": 38,
   "metadata": {
    "collapsed": true
   },
   "outputs": [],
   "source": [
    "citeseer_a.to_csv('datasets/citeseer_feat.csv', index=False)\n",
    "dblp_b.to_csv('datasets/dblp_feat.csv', index=False)"
   ]
  }
 ],
 "metadata": {
  "kernelspec": {
   "display_name": "Python 2",
   "language": "python",
   "name": "python2"
  },
  "language_info": {
   "codemirror_mode": {
    "name": "ipython",
    "version": 2
   },
   "file_extension": ".py",
   "mimetype": "text/x-python",
   "name": "python",
   "nbconvert_exporter": "python",
   "pygments_lexer": "ipython2",
   "version": "2.7.13"
  }
 },
 "nbformat": 4,
 "nbformat_minor": 2
}
