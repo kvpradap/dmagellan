{
 "cells": [
  {
   "cell_type": "code",
   "execution_count": 1,
   "metadata": {},
   "outputs": [],
   "source": [
    "import sys\n",
    "sys.path.append('/scratch/pradap/python-work/dmagellan')\n",
    "import py_entitymatching as em\n",
    "import os\n",
    "import time\n",
    "import psutil\n",
    "import pandas as pd\n",
    "\n",
    "from dask import get, multiprocessing\n",
    "from dmagellan.feature.extractfeatures import extract_feature_vecs\n",
    "from dmagellan.feature.autofeaturegen import get_features_for_matching\n",
    "from dmagellan.matcher.dtmatcher import DTMatcher\n",
    "from dmagellan.matcher.svmmatcher import SVMMatcher\n",
    "from dmagellan.matcher.rfmatcher import RFMatcher\n",
    "from dmagellan.matcher.logregmatcher import LogRegMatcher\n",
    "from dmagellan.matcher.nbmatcher import NBMatcher\n",
    "from dmagellan.matcher.linregmatcher import LinRegMatcher\n",
    "\n",
    "from dmagellan.mlmatcherselection.mlmatcherselection import select_matcher"
   ]
  },
  {
   "cell_type": "code",
   "execution_count": 2,
   "metadata": {},
   "outputs": [
    {
     "name": "stdout",
     "output_type": "stream",
     "text": [
      "Mem. usage before reading:1.445629952\n",
      "Mem. usage after reading:1.44531456\n"
     ]
    }
   ],
   "source": [
    "print(\"Mem. usage before reading:{0}\".format( psutil.virtual_memory().used/1e9))\n",
    "path_feat_vecs = '../datasets/featvecs_citeseer.csv'\n",
    "H = pd.read_csv(path_feat_vecs)\n",
    "H.fillna(value=0, inplace=True)\n",
    "print(\"Mem. usage after reading:{0}\".format(psutil.virtual_memory().used/1e9))"
   ]
  },
  {
   "cell_type": "code",
   "execution_count": 3,
   "metadata": {},
   "outputs": [],
   "source": [
    "memUsageBefore = psutil.virtual_memory().used/1e9\n",
    "timeBefore = time.time()\n",
    "# Create a set of ML-matchers\n",
    "dt = DTMatcher(name='DecisionTree', random_state=0)\n",
    "svm = SVMMatcher(name='SVM', random_state=0)\n",
    "rf = RFMatcher(name='RF', random_state=0)\n",
    "lg = LogRegMatcher(name='LogReg', random_state=0)\n",
    "nb = NBMatcher(name='NaiveBayes')\n",
    "ln = LinRegMatcher(name='LinearRegression')"
   ]
  },
  {
   "cell_type": "code",
   "execution_count": 4,
   "metadata": {},
   "outputs": [
    {
     "data": {
      "text/plain": [
       "500"
      ]
     },
     "execution_count": 4,
     "metadata": {},
     "output_type": "execute_result"
    }
   ],
   "source": [
    "len(H)"
   ]
  },
  {
   "cell_type": "code",
   "execution_count": 5,
   "metadata": {},
   "outputs": [],
   "source": [
    "result = select_matcher([dt, lg, svm, rf, nb, ln], table=H,\n",
    "        exclude_attrs=['_id', 'l_id', 'r_id', 'label'],\n",
    "        k=len(H)-1,\n",
    "        target_attr='label', metric='f1', random_state=0, compute=False)"
   ]
  },
  {
   "cell_type": "code",
   "execution_count": 6,
   "metadata": {},
   "outputs": [],
   "source": [
    "# result.visualize()"
   ]
  },
  {
   "cell_type": "code",
   "execution_count": 7,
   "metadata": {},
   "outputs": [
    {
     "name": "stderr",
     "output_type": "stream",
     "text": [
      "/scratch/pradap/local/share/anaconda2/lib/python2.7/site-packages/sklearn/metrics/classification.py:1113: UndefinedMetricWarning: F-score is ill-defined and being set to 0.0 due to no predicted samples.\n",
      "  'precision', 'predicted', average, warn_for)\n",
      "/scratch/pradap/local/share/anaconda2/lib/python2.7/site-packages/sklearn/metrics/classification.py:1113: UndefinedMetricWarning: F-score is ill-defined and being set to 0.0 due to no predicted samples.\n",
      "  'precision', 'predicted', average, warn_for)\n",
      "/scratch/pradap/local/share/anaconda2/lib/python2.7/site-packages/sklearn/metrics/classification.py:1113: UndefinedMetricWarning: F-score is ill-defined and being set to 0.0 due to no predicted samples.\n",
      "  'precision', 'predicted', average, warn_for)\n",
      "/scratch/pradap/local/share/anaconda2/lib/python2.7/site-packages/sklearn/metrics/classification.py:1113: UndefinedMetricWarning: F-score is ill-defined and being set to 0.0 due to no predicted samples.\n",
      "  'precision', 'predicted', average, warn_for)\n",
      "/scratch/pradap/local/share/anaconda2/lib/python2.7/site-packages/sklearn/metrics/classification.py:1115: UndefinedMetricWarning: F-score is ill-defined and being set to 0.0 due to no true samples.\n",
      "  'recall', 'true', average, warn_for)\n",
      "/scratch/pradap/local/share/anaconda2/lib/python2.7/site-packages/sklearn/metrics/classification.py:1115: UndefinedMetricWarning: F-score is ill-defined and being set to 0.0 due to no true samples.\n",
      "  'recall', 'true', average, warn_for)\n",
      "/scratch/pradap/local/share/anaconda2/lib/python2.7/site-packages/sklearn/metrics/classification.py:1115: UndefinedMetricWarning: F-score is ill-defined and being set to 0.0 due to no true samples.\n",
      "  'recall', 'true', average, warn_for)\n",
      "/scratch/pradap/local/share/anaconda2/lib/python2.7/site-packages/sklearn/metrics/classification.py:1115: UndefinedMetricWarning: F-score is ill-defined and being set to 0.0 due to no true samples.\n",
      "  'recall', 'true', average, warn_for)\n"
     ]
    }
   ],
   "source": [
    "D = result.compute(get=multiprocessing.get)"
   ]
  },
  {
   "cell_type": "code",
   "execution_count": 8,
   "metadata": {},
   "outputs": [
    {
     "data": {
      "text/plain": [
       "OrderedDict([('selected_matcher',\n",
       "              <dmagellan.matcher.nbmatcher.NBMatcher at 0x7fb13a380090>),\n",
       "             ('cv_stats',                Name  \\\n",
       "              0      DecisionTree   \n",
       "              1            LogReg   \n",
       "              2               SVM   \n",
       "              3                RF   \n",
       "              4        NaiveBayes   \n",
       "              5  LinearRegression   \n",
       "              \n",
       "                                                                                  Matcher  \\\n",
       "              0          <dmagellan.matcher.dtmatcher.DTMatcher object at 0x7fb13a38e950>   \n",
       "              1  <dmagellan.matcher.logregmatcher.LogRegMatcher object at 0x7fb13a39b110>   \n",
       "              2        <dmagellan.matcher.svmmatcher.SVMMatcher object at 0x7fb13a39b290>   \n",
       "              3          <dmagellan.matcher.rfmatcher.RFMatcher object at 0x7fb13a39bd10>   \n",
       "              4          <dmagellan.matcher.nbmatcher.NBMatcher object at 0x7fb13a380090>   \n",
       "              5  <dmagellan.matcher.linregmatcher.LinRegMatcher object at 0x7fb13a3a9350>   \n",
       "              \n",
       "                 Num folds  Fold 1  Fold 2  Fold 3  Fold 4  Fold 5  Fold 6  Fold 7  \\\n",
       "              0        499     0.0     0.0     0.0     0.0     0.0     0.0     0.0   \n",
       "              1        499     0.0     0.0     0.0     0.0     0.0     0.0     0.0   \n",
       "              2        499     0.0     0.0     0.0     0.0     0.0     0.0     0.0   \n",
       "              3        499     0.0     0.0     0.0     0.0     0.0     0.0     0.0   \n",
       "              4        499     0.0     0.0     0.0     0.0     0.0     1.0     0.0   \n",
       "              5        499     0.0     0.0     0.0     0.0     0.0     0.0     0.0   \n",
       "              \n",
       "                    ...      Fold 491  Fold 492  Fold 493  Fold 494  Fold 495  Fold 496  \\\n",
       "              0     ...           0.0       0.0       0.0       0.0       0.0       0.0   \n",
       "              1     ...           0.0       0.0       0.0       0.0       0.0       0.0   \n",
       "              2     ...           0.0       0.0       0.0       0.0       0.0       0.0   \n",
       "              3     ...           0.0       0.0       0.0       0.0       0.0       0.0   \n",
       "              4     ...           0.0       0.0       0.0       0.0       0.0       1.0   \n",
       "              5     ...           0.0       0.0       0.0       0.0       0.0       0.0   \n",
       "              \n",
       "                 Fold 497  Fold 498  Fold 499  Mean score  \n",
       "              0       0.0       0.0       0.0    0.010020  \n",
       "              1       0.0       0.0       0.0    0.000000  \n",
       "              2       0.0       0.0       0.0    0.000000  \n",
       "              3       0.0       0.0       0.0    0.000000  \n",
       "              4       0.0       0.0       0.0    0.094188  \n",
       "              5       0.0       0.0       0.0    0.000000  \n",
       "              \n",
       "              [6 rows x 503 columns])])"
      ]
     },
     "execution_count": 8,
     "metadata": {},
     "output_type": "execute_result"
    }
   ],
   "source": [
    "D"
   ]
  }
 ],
 "metadata": {
  "kernelspec": {
   "display_name": "Python 2",
   "language": "python",
   "name": "python2"
  },
  "language_info": {
   "codemirror_mode": {
    "name": "ipython",
    "version": 2
   },
   "file_extension": ".py",
   "mimetype": "text/x-python",
   "name": "python",
   "nbconvert_exporter": "python",
   "pygments_lexer": "ipython2",
   "version": "2.7.13"
  }
 },
 "nbformat": 4,
 "nbformat_minor": 2
}
